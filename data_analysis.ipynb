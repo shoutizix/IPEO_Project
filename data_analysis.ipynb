{
 "cells": [
  {
   "cell_type": "code",
   "execution_count": null,
   "id": "c1f964de",
   "metadata": {},
   "outputs": [],
   "source": [
    "from src.dataloader import LandCoverData\n",
    "\n",
    "import torch\n",
    "import torchvision.transforms as T\n",
    "from PIL import Image\n",
    "import matplotlib\n",
    "import matplotlib.pyplot as plt\n",
    "import matplotlib.colors as clr\n",
    "from mpl_toolkits.axes_grid1 import make_axes_locatable\n",
    "from matplotlib.colors import ListedColormap\n",
    "import numpy as np\n",
    "from tqdm import tqdm\n",
    "import os\n",
    "\n",
    "%load_ext autoreload\n",
    "%autoreload 2"
   ]
  },
  {
   "cell_type": "markdown",
   "id": "230fb646",
   "metadata": {},
   "source": [
    "# 1. DATA ANALYSIS"
   ]
  },
  {
   "cell_type": "code",
   "execution_count": null,
   "id": "0d23b6cc",
   "metadata": {},
   "outputs": [],
   "source": [
    "#path=\"../\"\n",
    "#path=\"/scratch/izar/nkaltenr/\"\n",
    "path=\"/scratch/izar/damiani/\"\n",
    "\n",
    "dataset = LandCoverData(path, transforms=None, split=\"train\")\n",
    "#dataset = LandCoverData(path, split=\"train\")"
   ]
  },
  {
   "cell_type": "code",
   "execution_count": null,
   "id": "e67dfeaf",
   "metadata": {},
   "outputs": [],
   "source": [
    "cmap = clr.LinearSegmentedColormap.from_list('custom_datacolor', dataset.colormap_names, N=256)\n",
    "#cmap='viridis'\n",
    "#cmap=dataset.colormap"
   ]
  },
  {
   "cell_type": "code",
   "execution_count": null,
   "id": "de726bdb",
   "metadata": {},
   "outputs": [],
   "source": [
    "tt_class=np.zeros(len(dataset.LABEL_CLASSES))\n",
    "for _, label in tqdm(dataset):\n",
    "    class_list, class_count = torch.unique(label, return_counts=True)  \n",
    "    for i, c in enumerate(class_list):\n",
    "        tt_class[c]+=class_count[i]"
   ]
  },
  {
   "cell_type": "code",
   "execution_count": null,
   "id": "054953f7",
   "metadata": {},
   "outputs": [],
   "source": [
    "plt.style.use('ggplot')\n",
    "\n",
    "labels = [k for k in dataset.LABEL_CLASSES.keys()]\n",
    "indexes = np.arange(len(labels))\n",
    "\n",
    "rescale = lambda indexes: (indexes - np.min(indexes)) / (np.max(indexes) - np.min(indexes))\n",
    "\n",
    "width = 0.8\n",
    "plt.barh(indexes, tt_class, color=cmap(rescale(indexes)))\n",
    "plt.yticks(indexes, labels)\n",
    "plt.xlabel('Pixels count', fontsize=16)\n",
    "plt.ylabel('Class', fontsize=16)\n",
    "plt.title('Barchart - Frequency of each class',fontsize=20)\n",
    "plt.show()"
   ]
  },
  {
   "cell_type": "code",
   "execution_count": null,
   "id": "7a59da52",
   "metadata": {},
   "outputs": [],
   "source": [
    "# Compute fraction of each class of the dataset\n",
    "total_pixels = tt_class.sum()\n",
    "frac_class = [c/total_pixels for c in tt_class]\n",
    "print(frac_class)"
   ]
  },
  {
   "cell_type": "code",
   "execution_count": null,
   "id": "97fec71f",
   "metadata": {},
   "outputs": [],
   "source": [
    "# plot individual samples\n",
    "from ipywidgets import widgets\n",
    "from ipywidgets import interact\n",
    "%matplotlib inline\n",
    "\n",
    "names = [k for k in dataset.LABEL_CLASSES.keys()]\n",
    "toPIL = T.ToPILImage()\n",
    "\n",
    "style = {'description_width': 'initial'}\n",
    "widget=widgets.BoundedIntText(\n",
    "    value=0,\n",
    "    min=0,\n",
    "    max=len(dataset),\n",
    "    step=1,\n",
    "    description=f\"Index data: (max={len(dataset)})\",\n",
    "    disabled=False,\n",
    "    style=style\n",
    ")\n",
    "widget_cb=widgets.Checkbox(\n",
    "    value=True,\n",
    "    description='Colorbar',\n",
    "    disabled=False,\n",
    "    indent=False\n",
    ")\n",
    "\n",
    "@interact(idx=widget, flag_colorbar=widget_cb)\n",
    "def plot_sample(idx=0, flag_colorbar=False):\n",
    "    img, label = dataset[idx]\n",
    "    class_mapping = {v: k for k, v in dataset.LABEL_CLASSES.items()}\n",
    "    class_list, class_count = torch.unique(label, return_counts=True) \n",
    "    \n",
    "    roffset=1\n",
    "    if flag_colorbar:\n",
    "        roffset=1.07\n",
    "    fig, ax = plt.subplots(1,2, figsize=(12, 10), gridspec_kw={'width_ratios': [1, roffset]})      \n",
    "\n",
    "    ax[0].imshow(toPIL(img))\n",
    "    pim=ax[1].imshow(toPIL(label), cmap=cmap, vmin=0, vmax=len(dataset.LABEL_CLASSES))\n",
    "    \n",
    "    if flag_colorbar:\n",
    "        class_list, _ = torch.unique(label, return_counts=True)\n",
    "        divider = make_axes_locatable(ax[1])\n",
    "        cax = divider.append_axes(\"right\", size=\"5%\", pad=0.1)\n",
    "        cbar = fig.colorbar(pim, cax=cax, ax=ax.ravel().tolist())\n",
    "        if cmap==dataset.colormap:\n",
    "            cbar.set_ticks([i.item()+0.5 for i in class_list])\n",
    "        else:\n",
    "            cbar.set_ticks([i.item() for i in class_list])\n",
    "        cbar.set_ticklabels([class_mapping[i.item()] for i in class_list])\n",
    "\n",
    "    ax[0].axis(\"off\")\n",
    "    ax[1].axis(\"off\")\n",
    "    #ax[2].axis(\"off\")\n",
    "    ax[0].set_title(f\"Image\")\n",
    "    ax[1].set_title(f\"Label\")\n",
    "    \n",
    "    plt.show()\n",
    "    \n",
    "    print(\"Label contains:\")\n",
    "    for i, v in enumerate(class_list):\n",
    "        print(f\"   - {class_mapping[v.item()]}: {class_count[i]} times.\")"
   ]
  },
  {
   "cell_type": "markdown",
   "id": "6ca4a975",
   "metadata": {},
   "source": [
    "# 1.2 Sanity check in the training dataset (remove all black images)"
   ]
  },
  {
   "cell_type": "code",
   "execution_count": null,
   "id": "550ae3b3",
   "metadata": {},
   "outputs": [],
   "source": [
    "tt_class=np.zeros(len(dataset.LABEL_CLASSES))\n",
    "index_img = 0\n",
    "for img, _ in tqdm(dataset):\n",
    "    # Image is all black if the sum of the value of the pixels is equal to zero\n",
    "    if img.sum() == 0:\n",
    "        print(index_img)\n",
    "    index_img += 1"
   ]
  },
  {
   "cell_type": "markdown",
   "id": "20feafe2",
   "metadata": {},
   "source": [
    "### It's only the last 11 training images that are all black "
   ]
  },
  {
   "cell_type": "code",
   "execution_count": null,
   "id": "4c3f151b",
   "metadata": {},
   "outputs": [],
   "source": [
    "dataset = LandCoverData(path, transforms=None, split=\"train\", ignore_last_number=11, use_augmented=False)\n",
    "print(len(dataset))"
   ]
  },
  {
   "cell_type": "markdown",
   "id": "d1d8cc5c",
   "metadata": {},
   "source": [
    "# 2. PREPROCESSING"
   ]
  },
  {
   "cell_type": "markdown",
   "id": "49b6d590",
   "metadata": {},
   "source": [
    "## 2.1 Compute mean per channel (R,G,B)"
   ]
  },
  {
   "cell_type": "code",
   "execution_count": null,
   "id": "2c4ac61f",
   "metadata": {},
   "outputs": [],
   "source": [
    "def compute_mean(dataset):\n",
    "    mean_rgb = np.array([0.,0.,0.])\n",
    "\n",
    "    for img, _ in tqdm(dataset):\n",
    "        mean_rgb += img.mean((1,2)).numpy()\n",
    "\n",
    "    mean_rgb = mean_rgb / len(dataset)\n",
    "    print(f\"mean : {mean_rgb}\")\n",
    "    return mean_rgb"
   ]
  },
  {
   "cell_type": "code",
   "execution_count": null,
   "id": "2fbf95c9",
   "metadata": {},
   "outputs": [],
   "source": [
    "dataset = LandCoverData(path, transforms=None, split=\"train\", ignore_last_number=11, use_augmented=False)\n",
    "\n",
    "meanRGB = compute_mean(dataset)"
   ]
  },
  {
   "cell_type": "markdown",
   "id": "b4c59228",
   "metadata": {},
   "source": [
    "## 2.1 Compute std per channel (R,G,B)"
   ]
  },
  {
   "cell_type": "code",
   "execution_count": null,
   "id": "fc52476f",
   "metadata": {},
   "outputs": [],
   "source": [
    "def compute_std(dataset, mean_rgb):\n",
    "    std = np.array([0.,0.,0.])\n",
    "    stdTemp = np.array([0.,0.,0.])\n",
    "\n",
    "    for img, _ in tqdm(dataset):\n",
    "        for j in range(3):\n",
    "            stdTemp[j] += ((img[j,:,:] - mean_rgb[j])**2).sum()/(img.shape[1]*img.shape[2])\n",
    "\n",
    "    std = np.sqrt(stdTemp/len(dataset))\n",
    "    print(f\"std : {std}\")\n",
    "    return std"
   ]
  },
  {
   "cell_type": "code",
   "execution_count": null,
   "id": "53d9132d",
   "metadata": {},
   "outputs": [],
   "source": [
    "stdRGB = compute_std(dataset, meanRGB)"
   ]
  },
  {
   "cell_type": "markdown",
   "id": "d9c83ecc",
   "metadata": {},
   "source": [
    "## 2.2 After normalization the mean should be close to 0 and std close to 1"
   ]
  },
  {
   "cell_type": "code",
   "execution_count": null,
   "id": "f2bd1b42",
   "metadata": {},
   "outputs": [],
   "source": [
    "datasetNormed = LandCoverData(path, split=\"train\", ignore_last_number=11, use_augmented=False)\n",
    "\n",
    "meanNormed=compute_mean(datasetNormed)"
   ]
  },
  {
   "cell_type": "code",
   "execution_count": null,
   "id": "2193fa1a",
   "metadata": {},
   "outputs": [],
   "source": [
    "compute_std(datasetNormed, meanNormed)"
   ]
  },
  {
   "cell_type": "markdown",
   "id": "151efe56",
   "metadata": {},
   "source": [
    "# 3. DATA AUGMENTATION"
   ]
  },
  {
   "cell_type": "markdown",
   "id": "2401bd3f",
   "metadata": {},
   "source": [
    "#### You need to create 2 folder before running below cells:\n",
    "#### cd data/\n",
    "#### mkdir augmented_data_rgb\n",
    "#### mkdir augmented_data_label"
   ]
  },
  {
   "cell_type": "code",
   "execution_count": null,
   "id": "620e2027",
   "metadata": {},
   "outputs": [],
   "source": [
    "#path_augmented_rgb =\"/scratch/izar/nkaltenr/ipeo_data/augmented_data_rgb/\"\n",
    "#path_augmented_label =\"/scratch/izar/nkaltenr/ipeo_data/augmented_data_label/\"\n",
    "\n",
    "path_augmented_rgb =\"/scratch/izar/damiani/ipeo_data/augmented_data_rgb/\"\n",
    "path_augmented_label =\"/scratch/izar/damiani/ipeo_data/augmented_data_label/\""
   ]
  },
  {
   "cell_type": "code",
   "execution_count": null,
   "id": "aca1b1fb",
   "metadata": {},
   "outputs": [],
   "source": [
    "dataset2 = LandCoverData(path, transforms=None, split=\"train\", ignore_last_number=11, use_augmented=False)"
   ]
  },
  {
   "cell_type": "code",
   "execution_count": null,
   "id": "4ccd2872",
   "metadata": {},
   "outputs": [],
   "source": [
    "# Water and wetlands is less represented, -> index=4\n",
    "for index_augmentation in range(1, 6):\n",
    "    toPIL = T.ToPILImage()\n",
    "\n",
    "    tt_class=np.zeros(len(dataset2.LABEL_CLASSES))\n",
    "    index_label=0\n",
    "    for img, label in tqdm(dataset2):\n",
    "        class_list, class_count = torch.unique(label, return_counts=True) \n",
    "        if index_augmentation in class_list:\n",
    "            #print(index_label)\n",
    "            #fig, ax = plt.subplots(1,8, figsize=(16, 20))\n",
    "            #ax[0].imshow(toPIL(img))\n",
    "            #ax[1].imshow(toPIL(label), cmap=cmap, vmin=0, vmax=len(dataset2.LABEL_CLASSES))\n",
    "            for i in range(1,4):\n",
    "                rotation_deg = i * 90 #Only performs flip\n",
    "                path = \"/\"\n",
    "                name_image = f\"{index_label}_{i}_rgb\"\n",
    "                name_label = f\"{index_label}_{i}_label\"\n",
    "\n",
    "                rotated = toPIL(img).rotate(rotation_deg,expand=0)\n",
    "                #ax[i*2].imshow(rotated)\n",
    "                rotated.save(path_augmented_rgb+name_image+\".tif\")\n",
    "                rotated = toPIL(label).rotate(rotation_deg,expand=0)\n",
    "                rotated.save(path_augmented_label+name_label+\".tif\")\n",
    "                #ax[i*2+1].imshow(rotated, cmap=cmap, vmin=0, vmax=len(dataset2.LABEL_CLASSES))\n",
    "        index_label+=1"
   ]
  },
  {
   "cell_type": "markdown",
   "id": "c3e32057",
   "metadata": {},
   "source": [
    "##### You should see images in the cells below if the data augmentation worked"
   ]
  },
  {
   "cell_type": "code",
   "execution_count": null,
   "id": "96addf10",
   "metadata": {},
   "outputs": [],
   "source": [
    "img = Image.open(path_augmented_rgb+\"420_3_rgb.tif\")\n",
    "label = Image.open(path_augmented_label+\"420_3_label.tif\")\n",
    "\n",
    "fig, ax = plt.subplots(1,2, figsize=(8, 10))\n",
    "ax[0].imshow(img)\n",
    "ax[1].imshow(label, cmap=cmap, vmin=0, vmax=len(dataset2.LABEL_CLASSES))"
   ]
  },
  {
   "cell_type": "code",
   "execution_count": null,
   "id": "bddf57be",
   "metadata": {},
   "outputs": [],
   "source": [
    "name_list = os.listdir(path_augmented_rgb)\n",
    "for name in name_list:\n",
    "    name_without_extension = name[:-4]\n",
    "    img = Image.open(path_augmented_rgb+name_without_extension+\".tif\")\n",
    "    label = Image.open(path_augmented_label+name_without_extension[:-3]+\"label.tif\")\n",
    "\n",
    "    fig, ax = plt.subplots(1,2, figsize=(8, 10))\n",
    "    ax[0].imshow(img)\n",
    "    ax[1].imshow(label, cmap=cmap, vmin=0, vmax=len(dataset2.LABEL_CLASSES))\n",
    "    break"
   ]
  },
  {
   "cell_type": "markdown",
   "id": "7ec6b570",
   "metadata": {},
   "source": [
    "## 3.2 Compute Barchart Frequency with data augmented"
   ]
  },
  {
   "cell_type": "code",
   "execution_count": null,
   "id": "906babf0",
   "metadata": {},
   "outputs": [],
   "source": [
    "dataset_final = LandCoverData(path, transforms=None, split=\"train\", ignore_last_number=11, use_augmented=True)"
   ]
  },
  {
   "cell_type": "code",
   "execution_count": null,
   "id": "594d3562",
   "metadata": {},
   "outputs": [],
   "source": [
    "tt_class=np.zeros(len(dataset_final.LABEL_CLASSES))\n",
    "for _, label in tqdm(dataset_final):\n",
    "    class_list, class_count = torch.unique(label, return_counts=True)  \n",
    "    for i, c in enumerate(class_list):\n",
    "        tt_class[c]+=class_count[i]"
   ]
  },
  {
   "cell_type": "code",
   "execution_count": null,
   "id": "c1505695",
   "metadata": {},
   "outputs": [],
   "source": [
    "plt.style.use('ggplot')\n",
    "\n",
    "labels = [k for k in dataset_final.LABEL_CLASSES.keys()]\n",
    "indexes = np.arange(len(labels))\n",
    "\n",
    "rescale = lambda indexes: (indexes - np.min(indexes)) / (np.max(indexes) - np.min(indexes))\n",
    "\n",
    "width = 0.8\n",
    "plt.barh(indexes, tt_class, color=cmap(rescale(indexes)))\n",
    "plt.yticks(indexes, labels)\n",
    "plt.xlabel('Pixels count', fontsize=16)\n",
    "plt.ylabel('Class', fontsize=16)\n",
    "plt.title('Barchart - Frequency of each class',fontsize=20)\n",
    "plt.show()"
   ]
  },
  {
   "cell_type": "code",
   "execution_count": null,
   "id": "c48947f3",
   "metadata": {},
   "outputs": [],
   "source": [
    "# Compute fraction of each class of the dataset\n",
    "total_pixels = tt_class.sum()\n",
    "frac_class = [c/total_pixels for c in tt_class]\n",
    "print(frac_class)"
   ]
  },
  {
   "cell_type": "code",
   "execution_count": null,
   "id": "f377a558",
   "metadata": {
    "scrolled": true
   },
   "outputs": [],
   "source": [
    "[0.24643106446206095, 0.06570622957842312, 0.062330682962183345, 0.020174477207666023, 0.03669090817922338, 0.05728250507725563, 0.2680321487788832, 0.24335198375430434]"
   ]
  },
  {
   "cell_type": "markdown",
   "id": "4903c22d",
   "metadata": {},
   "source": [
    "# 3.3 Compute Mean and Std of Augmented Dataset"
   ]
  },
  {
   "cell_type": "code",
   "execution_count": null,
   "id": "af6473ce",
   "metadata": {},
   "outputs": [],
   "source": [
    "datasetAugmented = LandCoverData(path, transforms=None, split=\"train\",\n",
    "                                 ignore_last_number=11, use_augmented=True)\n",
    "\n",
    "meanAugmented=compute_mean(datasetAugmented)\n",
    "stdAugmented=compute_std(datasetAugmented,meanAugmented)"
   ]
  },
  {
   "cell_type": "markdown",
   "id": "218791ae",
   "metadata": {},
   "source": [
    "#### Check mean and std to 0"
   ]
  },
  {
   "cell_type": "code",
   "execution_count": null,
   "id": "2cf32143",
   "metadata": {},
   "outputs": [],
   "source": [
    "datasetAugmented = LandCoverData(path, split=\"train\", ignore_last_number=11, use_augmented=True)\n",
    "\n",
    "meanAugmented=compute_mean(datasetAugmented)\n",
    "stdAugmented=compute_std(datasetAugmented,meanAugmented)"
   ]
  },
  {
   "cell_type": "markdown",
   "id": "82c83296",
   "metadata": {},
   "source": [
    "# 4. Compute median class frequency"
   ]
  },
  {
   "cell_type": "code",
   "execution_count": null,
   "id": "4517fa66",
   "metadata": {},
   "outputs": [],
   "source": [
    "dataset = LandCoverData(path, split=\"train\", ignore_last_number=11, use_augmented=True)"
   ]
  },
  {
   "cell_type": "code",
   "execution_count": null,
   "id": "0bdc9464",
   "metadata": {},
   "outputs": [],
   "source": [
    "tt_class=np.zeros(len(dataset.LABEL_CLASSES))\n",
    "for _, label in tqdm(dataset):\n",
    "    class_list, class_count = torch.unique(label, return_counts=True)  \n",
    "    for i, c in enumerate(class_list):\n",
    "        tt_class[c]+=class_count[i]"
   ]
  },
  {
   "cell_type": "code",
   "execution_count": null,
   "id": "0c84d2e3",
   "metadata": {},
   "outputs": [],
   "source": [
    "freq_c=tt_class/np.sum(tt_class)\n",
    "print(freq_c)"
   ]
  },
  {
   "cell_type": "code",
   "execution_count": null,
   "id": "82024a5d",
   "metadata": {},
   "outputs": [],
   "source": [
    "med_freq=np.median(freq_c)\n",
    "print(med_freq)"
   ]
  },
  {
   "cell_type": "code",
   "execution_count": null,
   "id": "8d603144",
   "metadata": {},
   "outputs": [],
   "source": [
    "# WEIGHT FREQ:\n",
    "print(med_freq/freq_c)"
   ]
  },
  {
   "cell_type": "markdown",
   "id": "b5121d87",
   "metadata": {},
   "source": [
    "#### 5 Keep only data with balanced classes labels"
   ]
  },
  {
   "cell_type": "code",
   "execution_count": null,
   "id": "3729d323",
   "metadata": {},
   "outputs": [],
   "source": [
    "datasetAugmentedRestricted = LandCoverData(path, transforms=None, split=\"train\",\n",
    "                                 ignore_last_number=11,\n",
    "                                 use_augmented=True,\n",
    "                                 restrict_classes=True)"
   ]
  },
  {
   "cell_type": "code",
   "execution_count": null,
   "id": "db1cb461",
   "metadata": {},
   "outputs": [],
   "source": [
    "meanRestricted=compute_mean(datasetAugmentedRestricted)\n",
    "stdRestricted=compute_std(datasetAugmentedRestricted,meanRestricted)"
   ]
  },
  {
   "cell_type": "code",
   "execution_count": null,
   "id": "80fb69c8",
   "metadata": {},
   "outputs": [],
   "source": [
    "tt_class=np.zeros(len(datasetAugmentedRestricted.LABEL_CLASSES))\n",
    "for _, label in tqdm(datasetAugmentedRestricted):\n",
    "    class_list, class_count = torch.unique(label, return_counts=True)  \n",
    "    for i, c in enumerate(class_list):\n",
    "        tt_class[c]+=class_count[i]"
   ]
  },
  {
   "cell_type": "code",
   "execution_count": null,
   "id": "55685b56",
   "metadata": {},
   "outputs": [],
   "source": [
    "plt.style.use('ggplot')\n",
    "\n",
    "labels = [k for k in datasetAugmentedRestricted.LABEL_CLASSES.keys()]\n",
    "indexes = np.arange(len(labels))\n",
    "\n",
    "rescale = lambda indexes: (indexes - np.min(indexes)) / (np.max(indexes) - np.min(indexes))\n",
    "\n",
    "width = 0.8\n",
    "plt.barh(indexes, tt_class, color=cmap(rescale(indexes)))\n",
    "plt.yticks(indexes, labels)\n",
    "plt.xlabel('Pixels count', fontsize=16)\n",
    "plt.ylabel('Class', fontsize=16)\n",
    "plt.title('Barchart - Frequency of each class',fontsize=20)\n",
    "plt.show()"
   ]
  },
  {
   "cell_type": "code",
   "execution_count": null,
   "id": "ee3a3c9d",
   "metadata": {},
   "outputs": [],
   "source": []
  }
 ],
 "metadata": {
  "kernelspec": {
   "display_name": "Python 3 (ipykernel)",
   "language": "python",
   "name": "python3"
  },
  "language_info": {
   "codemirror_mode": {
    "name": "ipython",
    "version": 3
   },
   "file_extension": ".py",
   "mimetype": "text/x-python",
   "name": "python",
   "nbconvert_exporter": "python",
   "pygments_lexer": "ipython3",
   "version": "3.7.13"
  }
 },
 "nbformat": 4,
 "nbformat_minor": 5
}
