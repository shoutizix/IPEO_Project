{
 "cells": [
  {
   "cell_type": "code",
   "execution_count": null,
   "id": "c1f964de",
   "metadata": {},
   "outputs": [],
   "source": [
    "from src.dataloader import LandCoverData\n",
    "\n",
    "import torch\n",
    "import torchvision.transforms as T\n",
    "from PIL import Image\n",
    "import matplotlib\n",
    "import matplotlib.pyplot as plt\n",
    "from mpl_toolkits.axes_grid1 import make_axes_locatable\n",
    "from matplotlib.colors import ListedColormap\n",
    "import numpy as np\n",
    "\n",
    "%load_ext autoreload\n",
    "%autoreload 2"
   ]
  },
  {
   "cell_type": "code",
   "execution_count": null,
   "id": "0d23b6cc",
   "metadata": {},
   "outputs": [],
   "source": [
    "path=\"../\"\n",
    "\n",
    "dataset = LandCoverData(path, transforms=None, split=\"train\")"
   ]
  },
  {
   "cell_type": "code",
   "execution_count": null,
   "id": "97fec71f",
   "metadata": {},
   "outputs": [],
   "source": [
    "# plot individual samples\n",
    "from ipywidgets import widgets\n",
    "from ipywidgets import interact\n",
    "%matplotlib inline\n",
    "\n",
    "names = [k for k in dataset.LABEL_CLASSES.keys()]\n",
    "toPIL = T.ToPILImage()\n",
    "\n",
    "style = {'description_width': 'initial'}\n",
    "widget=widgets.BoundedIntText(\n",
    "    value=0,\n",
    "    min=0,\n",
    "    max=len(dataset),\n",
    "    step=1,\n",
    "    description=f\"Index data: (max={len(dataset)})\",\n",
    "    disabled=False,\n",
    "    style=style\n",
    ")\n",
    "\n",
    "@interact(idx=widget)\n",
    "def plot_sample(idx=0):\n",
    "    img, label = dataset[idx]\n",
    "    fig, ax = plt.subplots(1,2, figsize=(12, 10), gridspec_kw={'width_ratios': [1, 1.07]})    \n",
    "    class_mapping = {v: k for k, v in dataset.LABEL_CLASSES.items()}\n",
    "    class_list, class_count = torch.unique(label, return_counts=True)  \n",
    "    \n",
    "    print(label[0][10])\n",
    "    ax[0].imshow(toPIL(img))\n",
    "    pim=ax[1].imshow(toPIL(label), cmap=dataset.colormap, vmin=0, vmax=len(dataset.LABEL_CLASSES))\n",
    "    \n",
    "    label_names = [names[x] for x in class_list]\n",
    "    divider = make_axes_locatable(ax[1])\n",
    "    cax = divider.append_axes(\"right\", size=\"5%\", pad=0.1)\n",
    "    cbar = fig.colorbar(pim, cax=cax, ax=ax.ravel().tolist())\n",
    "    cbar.set_ticks([i.item()+0.5 for i in class_list])\n",
    "    cbar.set_ticklabels([class_mapping[i.item()] for i in class_list])\n",
    "\n",
    "    ax[0].axis(\"off\")\n",
    "    ax[1].axis(\"off\")\n",
    "    #ax[2].axis(\"off\")\n",
    "    ax[0].set_title(f\"Image\")\n",
    "    ax[1].set_title(f\"Label\")\n",
    "    \n",
    "    plt.show()\n",
    "    \n",
    "    print(\"Label contains:\")\n",
    "    for i, v in enumerate(class_list):\n",
    "        print(f\"   - {class_mapping[v.item()]}: {class_count[i]} times.\")"
   ]
  },
  {
   "cell_type": "code",
   "execution_count": null,
   "id": "6bdac200",
   "metadata": {},
   "outputs": [],
   "source": []
  }
 ],
 "metadata": {
  "kernelspec": {
   "display_name": "Python 3 (ipykernel)",
   "language": "python",
   "name": "python3"
  },
  "language_info": {
   "codemirror_mode": {
    "name": "ipython",
    "version": 3
   },
   "file_extension": ".py",
   "mimetype": "text/x-python",
   "name": "python",
   "nbconvert_exporter": "python",
   "pygments_lexer": "ipython3",
   "version": "3.7.13"
  }
 },
 "nbformat": 4,
 "nbformat_minor": 5
}
