{
 "cells": [
  {
   "cell_type": "code",
   "execution_count": null,
   "id": "c1f964de",
   "metadata": {},
   "outputs": [],
   "source": [
    "from src.dataloader import LandCoverData\n",
    "\n",
    "import torch\n",
    "import torchvision.transforms as T\n",
    "from PIL import Image\n",
    "import matplotlib\n",
    "import matplotlib.pyplot as plt\n",
    "import matplotlib.colors as clr\n",
    "from mpl_toolkits.axes_grid1 import make_axes_locatable\n",
    "from matplotlib.colors import ListedColormap\n",
    "import numpy as np\n",
    "from tqdm import tqdm\n",
    "\n",
    "%load_ext autoreload\n",
    "%autoreload 2"
   ]
  },
  {
   "cell_type": "code",
   "execution_count": null,
   "id": "0d23b6cc",
   "metadata": {},
   "outputs": [],
   "source": [
    "path=\"../\"\n",
    "\n",
    "dataset = LandCoverData(path, transforms=None, split=\"train\")"
   ]
  },
  {
   "cell_type": "code",
   "execution_count": null,
   "id": "e67dfeaf",
   "metadata": {},
   "outputs": [],
   "source": [
    "cmap = clr.LinearSegmentedColormap.from_list('custom_datacolor', dataset.colormap_names, N=256)\n",
    "#cmap='viridis'\n",
    "#cmap=dataset.colormap"
   ]
  },
  {
   "cell_type": "code",
   "execution_count": null,
   "id": "de726bdb",
   "metadata": {},
   "outputs": [],
   "source": [
    "tt_class=np.zeros(len(dataset.LABEL_CLASSES))\n",
    "for _, label in tqdm(dataset):\n",
    "    class_list, class_count = torch.unique(label, return_counts=True)  \n",
    "    for i, c in enumerate(class_list):\n",
    "        tt_class[c]+=class_count[i]"
   ]
  },
  {
   "cell_type": "code",
   "execution_count": null,
   "id": "054953f7",
   "metadata": {},
   "outputs": [],
   "source": [
    "plt.style.use('ggplot')\n",
    "\n",
    "labels = [k for k in dataset.LABEL_CLASSES.keys()]\n",
    "indexes = np.arange(len(labels))\n",
    "\n",
    "rescale = lambda indexes: (indexes - np.min(indexes)) / (np.max(indexes) - np.min(indexes))\n",
    "\n",
    "width = 0.8\n",
    "plt.barh(indexes, tt_class, color=cmap(rescale(indexes)))\n",
    "plt.yticks(indexes, labels)\n",
    "plt.xlabel('Pixels count', fontsize=16)\n",
    "plt.ylabel('Class', fontsize=16)\n",
    "plt.title('Barchart - Frequency of each class',fontsize=20)\n",
    "plt.show()"
   ]
  },
  {
   "cell_type": "code",
   "execution_count": null,
   "id": "97fec71f",
   "metadata": {},
   "outputs": [],
   "source": [
    "# plot individual samples\n",
    "from ipywidgets import widgets\n",
    "from ipywidgets import interact\n",
    "%matplotlib inline\n",
    "\n",
    "names = [k for k in dataset.LABEL_CLASSES.keys()]\n",
    "toPIL = T.ToPILImage()\n",
    "\n",
    "style = {'description_width': 'initial'}\n",
    "widget=widgets.BoundedIntText(\n",
    "    value=0,\n",
    "    min=0,\n",
    "    max=len(dataset),\n",
    "    step=1,\n",
    "    description=f\"Index data: (max={len(dataset)})\",\n",
    "    disabled=False,\n",
    "    style=style\n",
    ")\n",
    "widget_cb=widgets.Checkbox(\n",
    "    value=True,\n",
    "    description='Colorbar',\n",
    "    disabled=False,\n",
    "    indent=False\n",
    ")\n",
    "\n",
    "@interact(idx=widget, flag_colorbar=widget_cb)\n",
    "def plot_sample(idx=0, flag_colorbar=False):\n",
    "    img, label = dataset[idx]\n",
    "    class_mapping = {v: k for k, v in dataset.LABEL_CLASSES.items()}\n",
    "    class_list, class_count = torch.unique(label, return_counts=True) \n",
    "    \n",
    "    roffset=1\n",
    "    if flag_colorbar:\n",
    "        roffset=1.07\n",
    "    fig, ax = plt.subplots(1,2, figsize=(12, 10), gridspec_kw={'width_ratios': [1, roffset]})      \n",
    "\n",
    "    ax[0].imshow(toPIL(img))\n",
    "    pim=ax[1].imshow(toPIL(label), cmap=cmap, vmin=0, vmax=len(dataset.LABEL_CLASSES))\n",
    "    \n",
    "    if flag_colorbar:\n",
    "        class_list, _ = torch.unique(label, return_counts=True)\n",
    "        divider = make_axes_locatable(ax[1])\n",
    "        cax = divider.append_axes(\"right\", size=\"5%\", pad=0.1)\n",
    "        cbar = fig.colorbar(pim, cax=cax, ax=ax.ravel().tolist())\n",
    "        if cmap==dataset.colormap:\n",
    "            cbar.set_ticks([i.item()+0.5 for i in class_list])\n",
    "        else:\n",
    "            cbar.set_ticks([i.item() for i in class_list])\n",
    "        cbar.set_ticklabels([class_mapping[i.item()] for i in class_list])\n",
    "\n",
    "    ax[0].axis(\"off\")\n",
    "    ax[1].axis(\"off\")\n",
    "    #ax[2].axis(\"off\")\n",
    "    ax[0].set_title(f\"Image\")\n",
    "    ax[1].set_title(f\"Label\")\n",
    "    \n",
    "    plt.show()\n",
    "    \n",
    "    print(\"Label contains:\")\n",
    "    for i, v in enumerate(class_list):\n",
    "        print(f\"   - {class_mapping[v.item()]}: {class_count[i]} times.\")"
   ]
  },
  {
   "cell_type": "code",
   "execution_count": null,
   "id": "550ae3b3",
   "metadata": {},
   "outputs": [],
   "source": []
  },
  {
   "cell_type": "code",
   "execution_count": null,
   "id": "9157a005",
   "metadata": {},
   "outputs": [],
   "source": []
  },
  {
   "cell_type": "code",
   "execution_count": null,
   "id": "4ccd2872",
   "metadata": {},
   "outputs": [],
   "source": [
    "# DATA AUGMENTATION TEST\n",
    "\n",
    "# Water and wetlands is less represented, -> index=4\n",
    "\n",
    "index_augmentation=3\n",
    "toPIL = T.ToPILImage()\n",
    "\n",
    "tt_class=np.zeros(len(dataset.LABEL_CLASSES))\n",
    "index_label=0\n",
    "for img, label in tqdm(dataset):\n",
    "    class_list, class_count = torch.unique(label, return_counts=True) \n",
    "    if index_augmentation in class_list:\n",
    "        print(index_label)\n",
    "        fig, ax = plt.subplots(1,4, figsize=(8, 10))    \n",
    "        ax[0].imshow(toPIL(img))\n",
    "        ax[1].imshow(toPIL(label), cmap=cmap, vmin=0, vmax=len(dataset.LABEL_CLASSES))\n",
    "        rotated     = toPIL(img).rotate(156,expand=0)\n",
    "        ax[2].imshow(rotated)\n",
    "        rotated     = toPIL(label).rotate(156,expand=0)\n",
    "        ax[3].imshow(rotated, cmap=cmap, vmin=0, vmax=len(dataset.LABEL_CLASSES))\n",
    "        break\n",
    "    index_label+=1"
   ]
  },
  {
   "cell_type": "code",
   "execution_count": null,
   "id": "96addf10",
   "metadata": {},
   "outputs": [],
   "source": []
  }
 ],
 "metadata": {
  "kernelspec": {
   "display_name": "Python 3 (ipykernel)",
   "language": "python",
   "name": "python3"
  },
  "language_info": {
   "codemirror_mode": {
    "name": "ipython",
    "version": 3
   },
   "file_extension": ".py",
   "mimetype": "text/x-python",
   "name": "python",
   "nbconvert_exporter": "python",
   "pygments_lexer": "ipython3",
   "version": "3.7.13"
  }
 },
 "nbformat": 4,
 "nbformat_minor": 5
}
