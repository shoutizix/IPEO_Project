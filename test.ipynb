{
 "cells": [
  {
   "cell_type": "code",
   "execution_count": null,
   "id": "38adff01",
   "metadata": {},
   "outputs": [],
   "source": [
    "import torch\n",
    "from torch.utils.data import DataLoader\n",
    "from torch.nn import CrossEntropyLoss\n",
    "from torch.nn import BCELoss\n",
    "from torch.nn import MSELoss\n",
    "from torch.optim import Adam\n",
    "from torch.optim import SGD\n",
    "\n",
    "import numpy as np\n",
    "from tqdm import tqdm\n",
    "import matplotlib.pyplot as plt\n",
    "import time\n",
    "import datetime\n",
    "\n",
    "from src.model import UNet\n",
    "from src.dataloader import LandCoverData\n",
    "\n",
    "%load_ext autoreload\n",
    "%autoreload 2"
   ]
  },
  {
   "cell_type": "code",
   "execution_count": null,
   "id": "df2e1b45",
   "metadata": {},
   "outputs": [],
   "source": [
    "unet=torch.load('../unet_model_2022-12-22_11:12.pt', map_location=torch.device('cpu'))"
   ]
  },
  {
   "cell_type": "code",
   "execution_count": null,
   "id": "23bc9249",
   "metadata": {},
   "outputs": [],
   "source": [
    "MASK_DATASET_PATH = \"../\"\n",
    "test_dataset = LandCoverData(path=MASK_DATASET_PATH,transforms=None, split=\"test\")"
   ]
  },
  {
   "cell_type": "code",
   "execution_count": null,
   "id": "d3908c88",
   "metadata": {},
   "outputs": [],
   "source": [
    "# plot individual samples\n",
    "from ipywidgets import widgets\n",
    "from ipywidgets import interact\n",
    "%matplotlib inline\n",
    "\n",
    "style = {'description_width': 'initial'}\n",
    "widget=widgets.BoundedIntText(\n",
    "    value=0,\n",
    "    min=0,\n",
    "    max=len(test_dataset),\n",
    "    step=1,\n",
    "    description=f\"Index data: (max={len(test_dataset)})\",\n",
    "    disabled=False,\n",
    "    style=style\n",
    ")\n",
    "\n",
    "@interact(idx=widget)\n",
    "def plot_sample(idx=0):\n",
    "    fig, ax = plt.subplots(1,3, figsize=(12, 10))    \n",
    "    \n",
    "    x, y = test_dataset[idx]\n",
    "    x=x.unsqueeze(dim=0)\n",
    "    \n",
    "    softmax = torch.nn.Softmax(dim=1)\n",
    "    preds = torch.argmax(softmax(unet(x)),axis=1)\n",
    "    img = np.transpose(np.array(x[0,:,:]),(1,2,0))\n",
    "    preds = np.array(preds[0,:,:])\n",
    "    mask = np.array(y[0,:,:])\n",
    "    \n",
    "    ax[0].imshow(img)\n",
    "    ax[1].imshow(preds, vmin=0, vmax=len(test_dataset.LABEL_CLASSES))\n",
    "    ax[2].imshow(mask, vmin=0, vmax=len(test_dataset.LABEL_CLASSES))\n",
    "\n",
    "    ax[0].axis(\"off\")\n",
    "    ax[1].axis(\"off\")\n",
    "    ax[2].axis(\"off\")\n",
    "    ax[0].set_title(f\"Image\")\n",
    "    ax[1].set_title(f\"Prediction\")\n",
    "    ax[2].set_title(f\"Ground Truth\")\n",
    "    \n",
    "    plt.show()"
   ]
  },
  {
   "cell_type": "code",
   "execution_count": null,
   "id": "6d7db529",
   "metadata": {},
   "outputs": [],
   "source": []
  },
  {
   "cell_type": "code",
   "execution_count": null,
   "id": "bf01a23a",
   "metadata": {},
   "outputs": [],
   "source": []
  },
  {
   "cell_type": "code",
   "execution_count": null,
   "id": "32fd6f51",
   "metadata": {},
   "outputs": [],
   "source": []
  },
  {
   "cell_type": "code",
   "execution_count": null,
   "id": "eaf3751a",
   "metadata": {},
   "outputs": [],
   "source": []
  },
  {
   "cell_type": "code",
   "execution_count": null,
   "id": "e428b6e8",
   "metadata": {},
   "outputs": [],
   "source": []
  }
 ],
 "metadata": {
  "kernelspec": {
   "display_name": "Python 3 (ipykernel)",
   "language": "python",
   "name": "python3"
  },
  "language_info": {
   "codemirror_mode": {
    "name": "ipython",
    "version": 3
   },
   "file_extension": ".py",
   "mimetype": "text/x-python",
   "name": "python",
   "nbconvert_exporter": "python",
   "pygments_lexer": "ipython3",
   "version": "3.7.13"
  }
 },
 "nbformat": 4,
 "nbformat_minor": 5
}
