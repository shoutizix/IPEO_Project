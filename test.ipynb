{
 "cells": [
  {
   "cell_type": "code",
   "execution_count": null,
   "id": "38adff01",
   "metadata": {},
   "outputs": [],
   "source": [
    "import torch\n",
    "from torch.utils.data import DataLoader\n",
    "from torch.nn import CrossEntropyLoss\n",
    "from torch.nn import BCELoss\n",
    "from torch.nn import MSELoss\n",
    "from torch.optim import Adam\n",
    "from torch.optim import SGD\n",
    "\n",
    "from torchmetrics.classification import MulticlassF1Score\n",
    "from torchmetrics.classification import MulticlassConfusionMatrix\n",
    "\n",
    "import numpy as np\n",
    "from tqdm import tqdm\n",
    "import matplotlib\n",
    "import matplotlib.pyplot as plt\n",
    "import matplotlib.colors as clr\n",
    "from mpl_toolkits.axes_grid1 import make_axes_locatable\n",
    "from matplotlib.colors import ListedColormap\n",
    "import time\n",
    "import datetime\n",
    "\n",
    "from src.model import UNet\n",
    "from src.dataloader import LandCoverData\n",
    "\n",
    "import seaborn as sn\n",
    "import pandas as pd\n",
    "\n",
    "%load_ext autoreload\n",
    "%autoreload 2"
   ]
  },
  {
   "cell_type": "code",
   "execution_count": null,
   "id": "df2e1b45",
   "metadata": {},
   "outputs": [],
   "source": [
    "#unet = UNet(nbClasses=8)\n",
    "#unet=torch.load('unet_model_epoch_100_focal_loss_gamma_2_loss.pt', map_location=torch.device('cpu'))\n",
    "# initialize our UNet model\n",
    "unet = UNet(nbClasses=8)\n",
    "unet.load_state_dict(torch.load('unet_model_2023-01-13_0:6_focal_loss_gamma_2_loss.pth', map_location=torch.device('cpu')))\n",
    "#unet.load_state_dict(torch.load('best_model_fl_4_loss.pth', map_location=torch.device('cpu')))\n",
    "#unet.load_state_dict(torch.load('unet_model_epoch_200_fl_2_loss.pth', map_location=torch.device('cpu')))"
   ]
  },
  {
   "cell_type": "code",
   "execution_count": null,
   "id": "23bc9249",
   "metadata": {},
   "outputs": [],
   "source": [
    "#MASK_DATASET_PATH = \"../\"\n",
    "MASK_DATASET_PATH=\"/scratch/izar/nkaltenr/\"\n",
    "test_dataset = LandCoverData(path=MASK_DATASET_PATH, transforms=None, split=\"test\")"
   ]
  },
  {
   "cell_type": "code",
   "execution_count": null,
   "id": "b1b9069a",
   "metadata": {},
   "outputs": [],
   "source": [
    "cmap = clr.LinearSegmentedColormap.from_list('custom_datacolor', test_dataset.colormap_names, N=256)\n",
    "#cmap='viridis'\n",
    "#cmap=dataset.colormap"
   ]
  },
  {
   "cell_type": "code",
   "execution_count": null,
   "id": "d3908c88",
   "metadata": {},
   "outputs": [],
   "source": [
    "# plot individual samples\n",
    "from ipywidgets import widgets\n",
    "from ipywidgets import interact\n",
    "%matplotlib inline\n",
    "\n",
    "style = {'description_width': 'initial'}\n",
    "widget=widgets.BoundedIntText(\n",
    "    value=0,\n",
    "    min=0,\n",
    "    max=len(test_dataset),\n",
    "    step=1,\n",
    "    description=f\"Index data: (max={len(test_dataset)})\",\n",
    "    disabled=False,\n",
    "    style=style\n",
    ")\n",
    "widget_cb=widgets.Checkbox(\n",
    "    value=False,\n",
    "    description='Colorbar',\n",
    "    disabled=False,\n",
    "    indent=False\n",
    ")\n",
    "\n",
    "@interact(idx=widget, flag_colorbar=widget_cb)\n",
    "def plot_sample(idx=0, flag_colorbar=False):\n",
    "    roffset=1\n",
    "    if flag_colorbar:\n",
    "        roffset=1.07\n",
    "    fig, ax = plt.subplots(1,3, figsize=(12, 10), gridspec_kw={'width_ratios': [1, 1, roffset]})    \n",
    "    \n",
    "    class_mapping = {v: k for k, v in test_dataset.LABEL_CLASSES.items()}  \n",
    "    \n",
    "    x, y = test_dataset[idx]\n",
    "    x=x.unsqueeze(dim=0)\n",
    "    \n",
    "    softmax = torch.nn.Softmax(dim=1)\n",
    "    preds = torch.argmax(softmax(unet(x)),axis=1)\n",
    "    img = np.transpose(np.array(x[0,:,:]),(1,2,0))\n",
    "    preds = np.array(preds[0,:,:])\n",
    "    mask = np.array(y[0,:,:])\n",
    "    \n",
    "    ax[0].imshow(img)\n",
    "    ax[1].imshow(preds, cmap=cmap, vmin=0, vmax=len(test_dataset.LABEL_CLASSES))\n",
    "    pim=ax[2].imshow(mask, cmap=cmap, vmin=0, vmax=len(test_dataset.LABEL_CLASSES))\n",
    "    \n",
    "    if flag_colorbar:\n",
    "        class_list, _ = torch.unique(y[0,:,:], return_counts=True)\n",
    "        divider = make_axes_locatable(ax[2])\n",
    "        cax = divider.append_axes(\"right\", size=\"5%\", pad=0.1)\n",
    "        cbar = fig.colorbar(pim, cax=cax, ax=ax.ravel().tolist())\n",
    "        if cmap==test_dataset.colormap:\n",
    "            cbar.set_ticks([i.item()+0.5 for i in class_list])\n",
    "        else:\n",
    "            cbar.set_ticks([i.item() for i in class_list])\n",
    "        cbar.set_ticklabels([class_mapping[i.item()] for i in class_list])\n",
    "\n",
    "    ax[0].axis(\"off\")\n",
    "    ax[1].axis(\"off\")\n",
    "    ax[2].axis(\"off\")\n",
    "    ax[0].set_title(f\"Image\")\n",
    "    ax[1].set_title(f\"Prediction\")\n",
    "    ax[2].set_title(f\"Ground Truth\")\n",
    "    \n",
    "    plt.show()"
   ]
  },
  {
   "cell_type": "markdown",
   "id": "3b03595c",
   "metadata": {},
   "source": [
    "## Compute Metrics on the test dataset"
   ]
  },
  {
   "cell_type": "code",
   "execution_count": null,
   "id": "d4003bf3",
   "metadata": {},
   "outputs": [],
   "source": [
    "name_for_save = \"focal_loss_gamma_2\""
   ]
  },
  {
   "cell_type": "markdown",
   "id": "21ad266f",
   "metadata": {},
   "source": [
    "### Confusion Matrix"
   ]
  },
  {
   "cell_type": "code",
   "execution_count": null,
   "id": "6d7db529",
   "metadata": {},
   "outputs": [],
   "source": [
    "DEVICE = 'cuda'\n",
    "\n",
    "unet = UNet(nbClasses=8).to(DEVICE)\n",
    "unet.load_state_dict(torch.load('unet_model_2023-01-13_0:6_focal_loss_gamma_2_loss.pth', map_location=torch.device(DEVICE)))\n",
    "\n",
    "y_pred = torch.zeros(0).to(DEVICE)\n",
    "y_true = torch.zeros(0).to(DEVICE)\n",
    "\n",
    "softmax = torch.nn.Softmax(dim=1)\n",
    "\n",
    "# iterate over test data\n",
    "for x, labels in tqdm(test_dataset):\n",
    "    (x, labels) = (x.to(DEVICE), labels.to(DEVICE))\n",
    "    x=x.unsqueeze(dim=0)\n",
    "    \n",
    "    preds = torch.argmax(softmax(unet(x)),axis=1)\n",
    "    y_pred = torch.cat([y_pred,preds]) # Save Prediction\n",
    "        \n",
    "    #labels = labels.data.cpu().numpy()\n",
    "    y_true = torch.cat([y_true,labels]) # Save Truth"
   ]
  },
  {
   "cell_type": "code",
   "execution_count": null,
   "id": "bf01a23a",
   "metadata": {},
   "outputs": [],
   "source": [
    "metric = MulticlassConfusionMatrix(num_classes=8).to(DEVICE)\n",
    "cf_matrix = metric(y_pred, y_true)\n",
    "cf_matrix_np = cf_matrix.cpu().numpy()\n",
    "\n",
    "# constant for classes\n",
    "classes = ('Grass and other', 'Wald',\n",
    "           'Bushes and sparse forest', 'Water and wetlands',\n",
    "           'Glaciers and permanent snow', 'Sparse rocks (rocks mixed with grass)',\n",
    "           'Loose rocks, scree', 'Bed rocks')\n",
    "\n",
    "df_cm = pd.DataFrame(cf_matrix_np, index = [i for i in classes], columns = [i for i in classes])\n",
    "plt.figure(figsize = (12,7))\n",
    "sn.heatmap(df_cm, annot=True)\n",
    "plt.savefig(f'confusion_matrix_{name_for_save}.png')"
   ]
  },
  {
   "cell_type": "markdown",
   "id": "5236c936",
   "metadata": {},
   "source": [
    "### Per-class Accuracy"
   ]
  },
  {
   "cell_type": "code",
   "execution_count": null,
   "id": "eaf3751a",
   "metadata": {},
   "outputs": [],
   "source": [
    "per_class_acc = (cf_matrix.diag()/cf_matrix.sum(1)).cpu().numpy()\n",
    "plt.figure(figsize = (12,1))\n",
    "df_per_class_acc = pd.DataFrame([per_class_acc], columns = [i for i in classes])\n",
    "sn.heatmap(df_per_class_acc, annot=True)\n",
    "plt.savefig(f'per_class_accuracy_{name_for_save}.png')"
   ]
  },
  {
   "cell_type": "code",
   "execution_count": null,
   "id": "e428b6e8",
   "metadata": {},
   "outputs": [],
   "source": []
  }
 ],
 "metadata": {
  "kernelspec": {
   "display_name": "Python 3 (ipykernel)",
   "language": "python",
   "name": "python3"
  },
  "language_info": {
   "codemirror_mode": {
    "name": "ipython",
    "version": 3
   },
   "file_extension": ".py",
   "mimetype": "text/x-python",
   "name": "python",
   "nbconvert_exporter": "python",
   "pygments_lexer": "ipython3",
   "version": "3.7.7"
  }
 },
 "nbformat": 4,
 "nbformat_minor": 5
}
