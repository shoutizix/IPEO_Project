{
 "cells": [
  {
   "cell_type": "code",
   "execution_count": 1,
   "id": "740be313",
   "metadata": {},
   "outputs": [
    {
     "name": "stdout",
     "output_type": "stream",
     "text": [
      "Requirement already satisfied: torch in ./ipeo_venv/lib/python3.7/site-packages (1.13.1)\n",
      "Requirement already satisfied: torchvision in ./ipeo_venv/lib/python3.7/site-packages (0.14.1)\n",
      "Requirement already satisfied: torchtext in ./ipeo_venv/lib/python3.7/site-packages (0.14.1)\n",
      "Requirement already satisfied: pytorch_lightning in ./ipeo_venv/lib/python3.7/site-packages (1.8.6)\n",
      "Requirement already satisfied: tensorboard in ./ipeo_venv/lib/python3.7/site-packages (2.11.0)\n",
      "Requirement already satisfied: matplotlib in ./ipeo_venv/lib/python3.7/site-packages (3.5.3)\n",
      "Requirement already satisfied: tqdm in ./ipeo_venv/lib/python3.7/site-packages (4.64.1)\n",
      "Requirement already satisfied: datetime in ./ipeo_venv/lib/python3.7/site-packages (4.9)\n",
      "\u001b[31mERROR: Could not find a version that satisfies the requirement time (from versions: none)\u001b[0m\u001b[31m\n",
      "\u001b[0m\u001b[31mERROR: No matching distribution found for time\u001b[0m\u001b[31m\n",
      "\u001b[0m"
     ]
    }
   ],
   "source": [
    "# USEFUL WHEN RUNNING ON CLUSTER\n",
    "import sys\n",
    "!pip install torch torchvision torchtext pytorch_lightning tensorboard matplotlib tqdm datetime time "
   ]
  },
  {
   "cell_type": "code",
   "execution_count": 2,
   "id": "1516afb7",
   "metadata": {},
   "outputs": [
    {
     "name": "stdout",
     "output_type": "stream",
     "text": [
      "Thu Jan 12 14:06:33 2023       \r\n",
      "+-----------------------------------------------------------------------------+\r\n",
      "| NVIDIA-SMI 455.23.05    Driver Version: 455.23.05    CUDA Version: 11.1     |\r\n",
      "|-------------------------------+----------------------+----------------------+\r\n",
      "| GPU  Name        Persistence-M| Bus-Id        Disp.A | Volatile Uncorr. ECC |\r\n",
      "| Fan  Temp  Perf  Pwr:Usage/Cap|         Memory-Usage | GPU-Util  Compute M. |\r\n",
      "|                               |                      |               MIG M. |\r\n",
      "|===============================+======================+======================|\r\n",
      "|   0  Tesla V100-PCIE...  On   | 00000000:86:00.0 Off |                  Off |\r\n",
      "| N/A   35C    P0    30W / 250W |      0MiB / 32510MiB |      0%      Default |\r\n",
      "|                               |                      |                  N/A |\r\n",
      "+-------------------------------+----------------------+----------------------+\r\n",
      "                                                                               \r\n",
      "+-----------------------------------------------------------------------------+\r\n",
      "| Processes:                                                                  |\r\n",
      "|  GPU   GI   CI        PID   Type   Process name                  GPU Memory |\r\n",
      "|        ID   ID                                                   Usage      |\r\n",
      "|=============================================================================|\r\n",
      "|  No running processes found                                                 |\r\n",
      "+-----------------------------------------------------------------------------+\r\n"
     ]
    }
   ],
   "source": [
    "!nvidia-smi"
   ]
  },
  {
   "cell_type": "code",
   "execution_count": 3,
   "id": "f3eddd2a",
   "metadata": {},
   "outputs": [],
   "source": [
    "import torch\n",
    "from torch.utils.data import DataLoader\n",
    "from torch.nn import CrossEntropyLoss\n",
    "from torch.nn import BCELoss\n",
    "from torch.nn import MSELoss\n",
    "from torch.nn import functional as F\n",
    "\n",
    "from torch.optim import Adam\n",
    "from torch.optim import SGD\n",
    "from torch.optim.lr_scheduler import CyclicLR\n",
    "from tqdm import tqdm\n",
    "import matplotlib.pyplot as plt\n",
    "import time\n",
    "import datetime\n",
    "\n",
    "from src.model import UNet\n",
    "from src.dataloader import LandCoverData\n",
    "\n",
    "%load_ext autoreload\n",
    "%autoreload 2"
   ]
  },
  {
   "cell_type": "code",
   "execution_count": 4,
   "id": "b8a4fd55",
   "metadata": {},
   "outputs": [],
   "source": [
    "#path=\"../\"\n",
    "path=\"/scratch/izar/damiani/\"\n",
    "#path=\"/scratch/izar/nkaltenr/\"\n",
    "\n",
    "train_dataset = LandCoverData(path, split=\"train\", ignore_last_number=11, use_augmented=False)\n",
    "val_dataset = LandCoverData(path, split=\"val\")"
   ]
  },
  {
   "cell_type": "code",
   "execution_count": 46,
   "id": "08078119",
   "metadata": {},
   "outputs": [],
   "source": [
    "BATCH_SIZE = 2\n",
    "\n",
    "# num_workers 8 default but 2 on colab\n",
    "train_dl = DataLoader(train_dataset, BATCH_SIZE, True)\n",
    "val_dl = DataLoader(val_dataset, BATCH_SIZE, False, drop_last=True)"
   ]
  },
  {
   "cell_type": "code",
   "execution_count": 47,
   "id": "ef7dc93b",
   "metadata": {},
   "outputs": [],
   "source": [
    "INPUT_IMAGE_HEIGHT=200\n",
    "INPUT_IMAGE_WIDTH=200\n",
    "\n",
    "DEVICE = \"cuda\"\n",
    "#DEVICE = \"cpu\"\n",
    "INIT_LR = 0.001\n",
    "INIT_MOMENTUM = 0.9\n",
    "INIT_WEIGHT_DECAY = 0.01\n",
    "NUM_EPOCHS = 400"
   ]
  },
  {
   "cell_type": "code",
   "execution_count": 48,
   "id": "a57974e7",
   "metadata": {},
   "outputs": [],
   "source": [
    "# from https://www.kaggle.com/rishabhiitbhu/unet-with-resnet34-encoder-pytorch\n",
    "\n",
    "def dice_loss(input, target):\n",
    "    input = torch.sigmoid(input)\n",
    "    smooth = 1.0\n",
    "    iflat = input.view(-1)\n",
    "    tflat = target.view(-1)\n",
    "    intersection = (iflat * tflat).sum()\n",
    "    return ((2.0 * intersection + smooth) / (iflat.sum() + tflat.sum() + smooth))"
   ]
  },
  {
   "cell_type": "code",
   "execution_count": 49,
   "id": "4f50f77e",
   "metadata": {},
   "outputs": [],
   "source": [
    "# from https://www.kaggle.com/rishabhiitbhu/unet-with-resnet34-encoder-pytorch\n",
    "\n",
    "class FocalLoss(torch.nn.Module):\n",
    "    def __init__(self, gamma):\n",
    "        super().__init__()\n",
    "        self.gamma = gamma\n",
    "\n",
    "    def forward(self, input, target):\n",
    "        if not (target.size() == input.size()):\n",
    "            raise ValueError(\"Target size ({}) must be the same as input size ({})\"\n",
    "                             .format(target.size(), input.size()))\n",
    "        max_val = (-input).clamp(min=0)\n",
    "        loss = input - input * target + max_val + \\\n",
    "            ((-max_val).exp() + (-input - max_val).exp()).log()\n",
    "        invprobs = F.logsigmoid(-input * (target * 2.0 - 1.0))\n",
    "        loss = (invprobs * self.gamma).exp() * loss\n",
    "        return loss.mean()"
   ]
  },
  {
   "cell_type": "code",
   "execution_count": 50,
   "id": "0cf18920",
   "metadata": {},
   "outputs": [],
   "source": [
    "# from https://www.kaggle.com/rishabhiitbhu/unet-with-resnet34-encoder-pytorch\n",
    "\n",
    "class MixedLoss(torch.nn.Module):\n",
    "    def __init__(self, alpha, gamma):\n",
    "        super().__init__()\n",
    "        self.alpha = alpha\n",
    "        self.focal = FocalLoss(gamma)\n",
    "\n",
    "    def forward(self, input, target):\n",
    "        loss = self.alpha*self.focal(input, target) - torch.log(dice_loss(input, target))\n",
    "        return loss.mean()"
   ]
  },
  {
   "cell_type": "code",
   "execution_count": 51,
   "id": "42a19141",
   "metadata": {},
   "outputs": [
    {
     "name": "stderr",
     "output_type": "stream",
     "text": [
      "Using cache found in /home/damiani/.cache/torch/hub/adeelh_pytorch-multi-class-focal-loss_master\n"
     ]
    }
   ],
   "source": [
    "focal_loss = torch.hub.load(\n",
    "\t'adeelh/pytorch-multi-class-focal-loss',\n",
    "\tmodel='focal_loss',\n",
    "\talpha=None,\n",
    "\tgamma=2,\n",
    "\treduction='mean',\n",
    "\tdevice=DEVICE,\n",
    "\tdtype=torch.float32,\n",
    "\tforce_reload=False\n",
    ")"
   ]
  },
  {
   "cell_type": "code",
   "execution_count": 52,
   "id": "668bd925",
   "metadata": {},
   "outputs": [],
   "source": [
    "# From https://github.com/Mr-TalhaIlyas/Loss-Functions-Package-Tensorflow-Keras-PyTorch\n",
    "import torch\n",
    "import torch.nn as nn\n",
    "import torch.nn.functional as F\n",
    "#PyTorch\n",
    "#Dice Loss\n",
    "ALPHA = 0.5\n",
    "BETA = 0.5\n",
    "#Try also\n",
    "#ALPHA = 0.3\n",
    "#BETA = 0.7\n",
    "\n",
    "GAMMA = 2\n",
    "\n",
    "class FocalTverskyLoss(torch.nn.Module):\n",
    "    def __init__(self, weight=None, size_average=True):\n",
    "        super(FocalTverskyLoss, self).__init__()\n",
    "\n",
    "    def forward(self, inputs, targets, smooth=1, alpha=ALPHA, beta=BETA, gamma=GAMMA):\n",
    "        \n",
    "        #comment out if your model contains a sigmoid or equivalent activation layer\n",
    "        inputs = torch.sigmoid(inputs)       \n",
    "        \n",
    "        #flatten label and prediction tensors\n",
    "        inputs = inputs.view(-1)\n",
    "        targets = targets.view(-1)\n",
    "        \n",
    "        #True Positives, False Positives & False Negatives\n",
    "        #TP = (inputs * targets).sum()    \n",
    "        #FP = ((1-targets) * inputs).sum()\n",
    "        #FN = (targets * (1-inputs)).sum()\n",
    "        TP = torch.sum(targets * inputs, dim=(0, 2, 3))\n",
    "        FN = torch.sum(targets * (1-inputs), dim=(0, 2, 3))\n",
    "        FP = torch.sum((1-targets) * inputs, dim=(0, 2, 3))\n",
    "        \n",
    "        Tversky = (TP + smooth) / (TP + alpha*FP + beta*FN + smooth)  \n",
    "        FocalTversky = (1 - Tversky)**gamma\n",
    "                       \n",
    "        return FocalTversky"
   ]
  },
  {
   "cell_type": "code",
   "execution_count": 53,
   "id": "3940d7ab",
   "metadata": {},
   "outputs": [],
   "source": [
    "# from https://stackoverflow.com/questions/65125670/implementing-multiclass-dice-loss-function\n",
    "import torch\n",
    "import torch.nn as nn\n",
    "import torch.nn.functional as F\n",
    "\n",
    "def dice_coef_8cat(y_true, y_pred, smooth=1e-7):\n",
    "    '''\n",
    "    Dice coefficient for 8 categories.\n",
    "    Pass to model as metric during compile statement\n",
    "    '''\n",
    "    y_true_f = torch.flatten(F.one_hot(y_true.to(torch.int64), num_classes=8)[...,:])\n",
    "    y_pred_f = torch.flatten(y_pred[...,:])\n",
    "    intersect = torch.sum(y_true_f * y_pred_f, axis=-1)\n",
    "    denom = torch.sum(y_true_f + y_pred_f, axis=-1)\n",
    "    return torch.mean((2. * intersect / (denom + smooth)))\n",
    "\n",
    "def dice_coef_8cat_loss(y_true, y_pred):\n",
    "    '''\n",
    "    Dice loss to minimize. Pass to model as loss during compile statement\n",
    "    '''\n",
    "    return 1 - dice_coef_8cat(y_true, y_pred)"
   ]
  },
  {
   "cell_type": "code",
   "execution_count": 54,
   "id": "65b7411d",
   "metadata": {},
   "outputs": [],
   "source": [
    "class mIoULoss(torch.nn.Module):\n",
    "    def __init__(self, weight=None, size_average=True, n_classes=2):\n",
    "        super(mIoULoss, self).__init__()\n",
    "        self.classes = n_classes\n",
    "\n",
    "    def to_one_hot(self, tensor):\n",
    "        n,h,w = tensor.size()\n",
    "        one_hot = torch.zeros(n,self.classes,h,w).to(tensor.device).scatter_(1,tensor.view(n,1,h,w),1)\n",
    "        return one_hot\n",
    "\n",
    "    def forward(self, inputs, target):\n",
    "        # inputs => N x Classes x H x W\n",
    "        # target_oneHot => N x Classes x H x W\n",
    "\n",
    "        N = inputs.size()[0]\n",
    "\n",
    "        # predicted probabilities for each pixel along channel\n",
    "        inputs = F.softmax(inputs,dim=1)\n",
    "        \n",
    "        # Numerator Product\n",
    "        target_oneHot = self.to_one_hot(target)\n",
    "        inter = inputs * target_oneHot\n",
    "        ## Sum over all pixels N x C x H x W => N x C\n",
    "        inter = inter.view(N,self.classes,-1).sum(2)\n",
    "\n",
    "        #Denominator \n",
    "        union= inputs + target_oneHot - (inputs*target_oneHot)\n",
    "        ## Sum over all pixels N x C x H x W => N x C\n",
    "        union = union.view(N,self.classes,-1).sum(2)\n",
    "\n",
    "        loss = inter/union\n",
    "\n",
    "        ## Return average loss over classes and batch\n",
    "        return 1-loss.mean()"
   ]
  },
  {
   "cell_type": "code",
   "execution_count": 55,
   "id": "2ef91167",
   "metadata": {},
   "outputs": [],
   "source": [
    "#weight_ce = [1., 3., 3.1, 14., 7., 3.3, 0.9, 1.]\n",
    "#class_weights_ce = torch.FloatTensor(weight_ce).to(DEVICE)\n",
    "#ce = CrossEntropyLoss(weight=class_weights_ce)\n",
    "ce = CrossEntropyLoss()\n",
    "\n",
    "#INIT_ALPHA = 10.0\n",
    "#INIT_GAMMA = 2.0\n",
    "#ml = MixedLoss(INIT_ALPHA, INIT_GAMMA)\n",
    "#ftl = FocalTverskyLoss()\n",
    "iou=mIoULoss(n_classes=8)\n",
    "\n",
    "\n",
    "def UnetLoss(preds, targets):\n",
    "    #print(f\"preds : {preds.shape}\")\n",
    "    #print(f\"targets : {targets.shape}\")\n",
    "    loss = ce(preds, targets)\n",
    "    #d_loss = dice_coef_8cat_loss(targets, preds)\n",
    "    \n",
    "    #loss = iou(preds, targets)\n",
    "    \n",
    "    #mix_loss = ce_loss + d_loss\n",
    "    #ml_loss = ml\n",
    "    #fl = focal_loss(preds, targets)\n",
    "    #ftl_loss = ftl(preds, targets)\n",
    "    acc = (torch.max(preds, 1)[1] == targets).float().mean()\n",
    "    return loss, acc"
   ]
  },
  {
   "cell_type": "code",
   "execution_count": 56,
   "id": "973cfaf1",
   "metadata": {},
   "outputs": [],
   "source": [
    "# initialize our UNet model\n",
    "unet = UNet(nbClasses=8,\n",
    "            encChannels=(3,64,128,256,512),\n",
    "            decChannels=(512,256,128,64),\n",
    "            retainDim=False\n",
    "           ).to(DEVICE)\n",
    "# initialize loss function and optimizer\n",
    "lossFunc = UnetLoss\n",
    "#opt = SGD(unet.parameters(), lr=INIT_LR, momentum=INIT_MOMENTUM)\n",
    "opt = Adam(unet.parameters(), lr=1e-3)\n",
    "#opt = Adam(unet.parameters(), lr=INIT_LR, weight_decay=INIT_WEIGHT_DECAY)\n",
    "# calculate steps per epoch for training and test set\n",
    "trainSteps = len(train_dataset) // BATCH_SIZE\n",
    "testSteps = len(val_dataset) // BATCH_SIZE\n",
    "# initialize a dictionary to store training history\n",
    "H = {\"train_loss\": [], \"test_loss\": [], \"train_acc\": [], \"test_acc\": []}\n",
    "bestValLoss = float('inf')\n",
    "bestValAcc = -1"
   ]
  },
  {
   "cell_type": "code",
   "execution_count": 57,
   "id": "7ca4c765",
   "metadata": {},
   "outputs": [],
   "source": [
    "#H = torch.load('unet_model_2023-01-03_0:54_fl_2_loss_dict.pth', map_location=torch.device(DEVICE))"
   ]
  },
  {
   "cell_type": "code",
   "execution_count": null,
   "id": "b91b0834",
   "metadata": {
    "scrolled": true
   },
   "outputs": [],
   "source": []
  },
  {
   "cell_type": "code",
   "execution_count": 58,
   "id": "9eef6bcc",
   "metadata": {},
   "outputs": [],
   "source": [
    "#unet.load_state_dict(torch.load('unet_model_epoch_200_fl_2_loss.pth', map_location=torch.device(DEVICE)))"
   ]
  },
  {
   "cell_type": "code",
   "execution_count": null,
   "id": "3db3fc99",
   "metadata": {
    "scrolled": true
   },
   "outputs": [
    {
     "name": "stdout",
     "output_type": "stream",
     "text": [
      "[INFO] training the network...\n"
     ]
    },
    {
     "name": "stderr",
     "output_type": "stream",
     "text": [
      "\r",
      "  0%|                                                                                               | 0/100 [00:00<?, ?it/s]"
     ]
    },
    {
     "name": "stdout",
     "output_type": "stream",
     "text": [
      "[INFO] EPOCH: 1/100\n",
      "Train loss: 1.386464, Validation loss: 1.6714\n",
      "Train acc: 0.504039, Validation acc: 0.4243\n",
      "best loss => saving\n",
      "best acc => saving\n"
     ]
    },
    {
     "name": "stderr",
     "output_type": "stream",
     "text": [
      "\r",
      "  1%|▊                                                                                   | 1/100 [01:57<3:14:21, 117.79s/it]"
     ]
    },
    {
     "name": "stdout",
     "output_type": "stream",
     "text": [
      "[INFO] EPOCH: 2/100\n",
      "Train loss: 1.155189, Validation loss: 1.5837\n",
      "Train acc: 0.567839, Validation acc: 0.4326\n",
      "best loss => saving\n",
      "best acc => saving\n"
     ]
    },
    {
     "name": "stderr",
     "output_type": "stream",
     "text": [
      "\r",
      "  2%|█▋                                                                                  | 2/100 [03:47<3:04:30, 112.97s/it]"
     ]
    },
    {
     "name": "stdout",
     "output_type": "stream",
     "text": [
      "[INFO] EPOCH: 3/100\n",
      "Train loss: 1.046624, Validation loss: 1.3238\n",
      "Train acc: 0.600793, Validation acc: 0.5310\n",
      "best loss => saving\n",
      "best acc => saving\n"
     ]
    },
    {
     "name": "stderr",
     "output_type": "stream",
     "text": [
      "  4%|███▎                                                                                | 4/100 [07:27<2:57:55, 111.20s/it]"
     ]
    },
    {
     "name": "stdout",
     "output_type": "stream",
     "text": [
      "[INFO] EPOCH: 4/100\n",
      "Train loss: 0.999200, Validation loss: 1.3768\n",
      "Train acc: 0.618727, Validation acc: 0.4962\n"
     ]
    },
    {
     "name": "stderr",
     "output_type": "stream",
     "text": [
      "\r",
      "  5%|████▏                                                                               | 5/100 [09:17<2:55:00, 110.53s/it]"
     ]
    },
    {
     "name": "stdout",
     "output_type": "stream",
     "text": [
      "[INFO] EPOCH: 5/100\n",
      "Train loss: 0.960600, Validation loss: 1.4165\n",
      "Train acc: 0.632255, Validation acc: 0.6269\n",
      "best acc => saving\n"
     ]
    },
    {
     "name": "stderr",
     "output_type": "stream",
     "text": [
      "\r",
      "  6%|█████                                                                               | 6/100 [11:06<2:52:19, 109.99s/it]"
     ]
    },
    {
     "name": "stdout",
     "output_type": "stream",
     "text": [
      "[INFO] EPOCH: 6/100\n",
      "Train loss: 0.926110, Validation loss: 1.2449\n",
      "Train acc: 0.643105, Validation acc: 0.6267\n",
      "best loss => saving\n"
     ]
    },
    {
     "name": "stderr",
     "output_type": "stream",
     "text": [
      "\r",
      "  7%|█████▉                                                                              | 7/100 [12:57<2:50:58, 110.31s/it]"
     ]
    },
    {
     "name": "stdout",
     "output_type": "stream",
     "text": [
      "[INFO] EPOCH: 7/100\n",
      "Train loss: 0.904731, Validation loss: 1.2262\n",
      "Train acc: 0.654452, Validation acc: 0.5859\n",
      "best loss => saving\n"
     ]
    },
    {
     "name": "stderr",
     "output_type": "stream",
     "text": [
      "\r",
      "  8%|██████▋                                                                             | 8/100 [14:46<2:48:36, 109.96s/it]"
     ]
    },
    {
     "name": "stdout",
     "output_type": "stream",
     "text": [
      "[INFO] EPOCH: 8/100\n",
      "Train loss: 0.886997, Validation loss: 1.1275\n",
      "Train acc: 0.660416, Validation acc: 0.6043\n",
      "best loss => saving\n",
      "[INFO] EPOCH: 9/100\n",
      "Train loss: 0.864157, Validation loss: 1.1046\n",
      "Train acc: 0.666840, Validation acc: 0.6411\n",
      "best loss => saving\n",
      "best acc => saving\n"
     ]
    },
    {
     "name": "stderr",
     "output_type": "stream",
     "text": [
      " 10%|████████▎                                                                          | 10/100 [18:25<2:44:31, 109.69s/it]"
     ]
    },
    {
     "name": "stdout",
     "output_type": "stream",
     "text": [
      "[INFO] EPOCH: 10/100\n",
      "Train loss: 0.845789, Validation loss: 1.1958\n",
      "Train acc: 0.675512, Validation acc: 0.6478\n",
      "best acc => saving\n",
      "[INFO] EPOCH: 11/100\n",
      "Train loss: 0.833189, Validation loss: 1.0986\n",
      "Train acc: 0.681818, Validation acc: 0.6541\n",
      "best loss => saving\n",
      "best acc => saving\n"
     ]
    },
    {
     "name": "stderr",
     "output_type": "stream",
     "text": [
      " 12%|█████████▉                                                                         | 12/100 [22:03<2:40:14, 109.26s/it]"
     ]
    },
    {
     "name": "stdout",
     "output_type": "stream",
     "text": [
      "[INFO] EPOCH: 12/100\n",
      "Train loss: 0.819057, Validation loss: 1.1436\n",
      "Train acc: 0.686262, Validation acc: 0.6537\n"
     ]
    },
    {
     "name": "stderr",
     "output_type": "stream",
     "text": [
      "\r",
      " 13%|██████████▊                                                                        | 13/100 [23:52<2:38:30, 109.31s/it]"
     ]
    },
    {
     "name": "stdout",
     "output_type": "stream",
     "text": [
      "[INFO] EPOCH: 13/100\n",
      "Train loss: 0.813989, Validation loss: 1.2154\n",
      "Train acc: 0.689343, Validation acc: 0.5841\n"
     ]
    },
    {
     "name": "stderr",
     "output_type": "stream",
     "text": [
      "\r",
      " 14%|███████████▌                                                                       | 14/100 [25:42<2:36:43, 109.34s/it]"
     ]
    },
    {
     "name": "stdout",
     "output_type": "stream",
     "text": [
      "[INFO] EPOCH: 14/100\n",
      "Train loss: 0.796118, Validation loss: 1.1152\n",
      "Train acc: 0.697378, Validation acc: 0.6667\n",
      "best acc => saving\n"
     ]
    },
    {
     "name": "stderr",
     "output_type": "stream",
     "text": [
      "\r",
      " 15%|████████████▍                                                                      | 15/100 [27:30<2:34:24, 109.00s/it]"
     ]
    },
    {
     "name": "stdout",
     "output_type": "stream",
     "text": [
      "[INFO] EPOCH: 15/100\n",
      "Train loss: 0.784116, Validation loss: 1.1879\n",
      "Train acc: 0.703990, Validation acc: 0.6250\n"
     ]
    },
    {
     "name": "stderr",
     "output_type": "stream",
     "text": [
      "\r",
      " 16%|█████████████▎                                                                     | 16/100 [29:19<2:32:48, 109.14s/it]"
     ]
    },
    {
     "name": "stdout",
     "output_type": "stream",
     "text": [
      "[INFO] EPOCH: 16/100\n",
      "Train loss: 0.765208, Validation loss: 1.2158\n",
      "Train acc: 0.711407, Validation acc: 0.6496\n"
     ]
    },
    {
     "name": "stderr",
     "output_type": "stream",
     "text": [
      "\r",
      " 17%|██████████████                                                                     | 17/100 [31:07<2:30:26, 108.75s/it]"
     ]
    },
    {
     "name": "stdout",
     "output_type": "stream",
     "text": [
      "[INFO] EPOCH: 17/100\n",
      "Train loss: 0.759085, Validation loss: 1.1879\n",
      "Train acc: 0.714826, Validation acc: 0.6241\n"
     ]
    },
    {
     "name": "stderr",
     "output_type": "stream",
     "text": [
      "\r",
      " 18%|██████████████▉                                                                    | 18/100 [32:56<2:28:37, 108.75s/it]"
     ]
    },
    {
     "name": "stdout",
     "output_type": "stream",
     "text": [
      "[INFO] EPOCH: 18/100\n",
      "Train loss: 0.750606, Validation loss: 1.2408\n",
      "Train acc: 0.718934, Validation acc: 0.6121\n"
     ]
    },
    {
     "name": "stderr",
     "output_type": "stream",
     "text": [
      "\r",
      " 19%|███████████████▊                                                                   | 19/100 [34:44<2:26:29, 108.51s/it]"
     ]
    },
    {
     "name": "stdout",
     "output_type": "stream",
     "text": [
      "[INFO] EPOCH: 19/100\n",
      "Train loss: 0.739617, Validation loss: 1.2414\n",
      "Train acc: 0.725028, Validation acc: 0.5782\n"
     ]
    },
    {
     "name": "stderr",
     "output_type": "stream",
     "text": [
      "\r",
      " 20%|████████████████▌                                                                  | 20/100 [36:32<2:24:36, 108.46s/it]"
     ]
    },
    {
     "name": "stdout",
     "output_type": "stream",
     "text": [
      "[INFO] EPOCH: 20/100\n",
      "Train loss: 0.730994, Validation loss: 1.1725\n",
      "Train acc: 0.728186, Validation acc: 0.5798\n"
     ]
    },
    {
     "name": "stderr",
     "output_type": "stream",
     "text": [
      "\r",
      " 21%|█████████████████▍                                                                 | 21/100 [38:21<2:22:49, 108.48s/it]"
     ]
    },
    {
     "name": "stdout",
     "output_type": "stream",
     "text": [
      "[INFO] EPOCH: 21/100\n",
      "Train loss: 0.717643, Validation loss: 1.1322\n",
      "Train acc: 0.733910, Validation acc: 0.6241\n"
     ]
    },
    {
     "name": "stderr",
     "output_type": "stream",
     "text": [
      "\r",
      " 22%|██████████████████▎                                                                | 22/100 [40:09<2:21:04, 108.52s/it]"
     ]
    },
    {
     "name": "stdout",
     "output_type": "stream",
     "text": [
      "[INFO] EPOCH: 22/100\n",
      "Train loss: 0.714352, Validation loss: 1.1468\n",
      "Train acc: 0.734611, Validation acc: 0.6388\n"
     ]
    },
    {
     "name": "stderr",
     "output_type": "stream",
     "text": [
      "\r",
      " 23%|███████████████████                                                                | 23/100 [41:57<2:19:09, 108.44s/it]"
     ]
    },
    {
     "name": "stdout",
     "output_type": "stream",
     "text": [
      "[INFO] EPOCH: 23/100\n",
      "Train loss: 0.708574, Validation loss: 1.1255\n",
      "Train acc: 0.737962, Validation acc: 0.6339\n"
     ]
    },
    {
     "name": "stderr",
     "output_type": "stream",
     "text": [
      "\r",
      " 24%|███████████████████▉                                                               | 24/100 [43:46<2:17:22, 108.46s/it]"
     ]
    },
    {
     "name": "stdout",
     "output_type": "stream",
     "text": [
      "[INFO] EPOCH: 24/100\n",
      "Train loss: 0.700642, Validation loss: 1.2044\n",
      "Train acc: 0.740778, Validation acc: 0.6190\n"
     ]
    },
    {
     "name": "stderr",
     "output_type": "stream",
     "text": [
      "\r",
      " 25%|████████████████████▊                                                              | 25/100 [45:34<2:15:27, 108.37s/it]"
     ]
    },
    {
     "name": "stdout",
     "output_type": "stream",
     "text": [
      "[INFO] EPOCH: 25/100\n",
      "Train loss: 0.695161, Validation loss: 1.2113\n",
      "Train acc: 0.741503, Validation acc: 0.6151\n"
     ]
    },
    {
     "name": "stderr",
     "output_type": "stream",
     "text": [
      "\r",
      " 26%|█████████████████████▌                                                             | 26/100 [47:23<2:13:51, 108.54s/it]"
     ]
    },
    {
     "name": "stdout",
     "output_type": "stream",
     "text": [
      "[INFO] EPOCH: 26/100\n",
      "Train loss: 0.690241, Validation loss: 1.1744\n",
      "Train acc: 0.745465, Validation acc: 0.6704\n",
      "best acc => saving\n"
     ]
    },
    {
     "name": "stderr",
     "output_type": "stream",
     "text": [
      "\r",
      " 27%|██████████████████████▍                                                            | 27/100 [49:11<2:11:55, 108.43s/it]"
     ]
    },
    {
     "name": "stdout",
     "output_type": "stream",
     "text": [
      "[INFO] EPOCH: 27/100\n",
      "Train loss: 0.673831, Validation loss: 1.1580\n",
      "Train acc: 0.750364, Validation acc: 0.6511\n"
     ]
    },
    {
     "name": "stderr",
     "output_type": "stream",
     "text": [
      "\r",
      " 28%|███████████████████████▏                                                           | 28/100 [51:00<2:10:11, 108.50s/it]"
     ]
    },
    {
     "name": "stdout",
     "output_type": "stream",
     "text": [
      "[INFO] EPOCH: 28/100\n",
      "Train loss: 0.678189, Validation loss: 1.2062\n",
      "Train acc: 0.749571, Validation acc: 0.6233\n"
     ]
    },
    {
     "name": "stderr",
     "output_type": "stream",
     "text": [
      "\r",
      " 29%|████████████████████████                                                           | 29/100 [52:49<2:08:26, 108.54s/it]"
     ]
    },
    {
     "name": "stdout",
     "output_type": "stream",
     "text": [
      "[INFO] EPOCH: 29/100\n",
      "Train loss: 0.673772, Validation loss: 1.1362\n",
      "Train acc: 0.752298, Validation acc: 0.6608\n"
     ]
    },
    {
     "name": "stderr",
     "output_type": "stream",
     "text": [
      "\r",
      " 30%|████████████████████████▉                                                          | 30/100 [54:39<2:07:16, 109.10s/it]"
     ]
    },
    {
     "name": "stdout",
     "output_type": "stream",
     "text": [
      "[INFO] EPOCH: 30/100\n",
      "Train loss: 0.670233, Validation loss: 1.0764\n",
      "Train acc: 0.751598, Validation acc: 0.6389\n",
      "best loss => saving\n"
     ]
    },
    {
     "name": "stderr",
     "output_type": "stream",
     "text": [
      "\r",
      " 31%|█████████████████████████▋                                                         | 31/100 [56:28<2:05:19, 108.98s/it]"
     ]
    },
    {
     "name": "stdout",
     "output_type": "stream",
     "text": [
      "[INFO] EPOCH: 31/100\n",
      "Train loss: 0.663475, Validation loss: 1.1478\n",
      "Train acc: 0.755828, Validation acc: 0.6139\n"
     ]
    },
    {
     "name": "stderr",
     "output_type": "stream",
     "text": [
      "\r",
      " 32%|██████████████████████████▌                                                        | 32/100 [58:16<2:03:27, 108.94s/it]"
     ]
    },
    {
     "name": "stdout",
     "output_type": "stream",
     "text": [
      "[INFO] EPOCH: 32/100\n",
      "Train loss: 0.657250, Validation loss: 1.1911\n",
      "Train acc: 0.757268, Validation acc: 0.5936\n"
     ]
    },
    {
     "name": "stderr",
     "output_type": "stream",
     "text": [
      "\r",
      " 33%|██████████████████████████▋                                                      | 33/100 [1:00:05<2:01:38, 108.94s/it]"
     ]
    },
    {
     "name": "stdout",
     "output_type": "stream",
     "text": [
      "[INFO] EPOCH: 33/100\n",
      "Train loss: 0.655691, Validation loss: 1.2616\n",
      "Train acc: 0.756521, Validation acc: 0.6080\n"
     ]
    },
    {
     "name": "stderr",
     "output_type": "stream",
     "text": [
      "\r",
      " 34%|███████████████████████████▌                                                     | 34/100 [1:01:55<1:59:54, 109.01s/it]"
     ]
    },
    {
     "name": "stdout",
     "output_type": "stream",
     "text": [
      "[INFO] EPOCH: 34/100\n",
      "Train loss: 0.644097, Validation loss: 1.2835\n",
      "Train acc: 0.763134, Validation acc: 0.5749\n"
     ]
    },
    {
     "name": "stderr",
     "output_type": "stream",
     "text": [
      "\r",
      " 35%|████████████████████████████▎                                                    | 35/100 [1:03:43<1:57:51, 108.79s/it]"
     ]
    },
    {
     "name": "stdout",
     "output_type": "stream",
     "text": [
      "[INFO] EPOCH: 35/100\n",
      "Train loss: 0.642032, Validation loss: 1.2675\n",
      "Train acc: 0.763257, Validation acc: 0.5831\n"
     ]
    },
    {
     "name": "stderr",
     "output_type": "stream",
     "text": [
      "\r",
      " 36%|█████████████████████████████▏                                                   | 36/100 [1:05:32<1:56:07, 108.87s/it]"
     ]
    },
    {
     "name": "stdout",
     "output_type": "stream",
     "text": [
      "[INFO] EPOCH: 36/100\n",
      "Train loss: 0.639770, Validation loss: 1.3725\n",
      "Train acc: 0.764252, Validation acc: 0.5975\n"
     ]
    },
    {
     "name": "stderr",
     "output_type": "stream",
     "text": [
      "\r",
      " 37%|█████████████████████████████▉                                                   | 37/100 [1:07:20<1:54:09, 108.72s/it]"
     ]
    },
    {
     "name": "stdout",
     "output_type": "stream",
     "text": [
      "[INFO] EPOCH: 37/100\n",
      "Train loss: 0.635314, Validation loss: 1.4952\n",
      "Train acc: 0.767415, Validation acc: 0.5608\n"
     ]
    },
    {
     "name": "stderr",
     "output_type": "stream",
     "text": [
      "\r",
      " 38%|██████████████████████████████▊                                                  | 38/100 [1:09:10<1:52:30, 108.88s/it]"
     ]
    },
    {
     "name": "stdout",
     "output_type": "stream",
     "text": [
      "[INFO] EPOCH: 38/100\n",
      "Train loss: 0.623762, Validation loss: 1.1623\n",
      "Train acc: 0.770360, Validation acc: 0.6508\n"
     ]
    },
    {
     "name": "stderr",
     "output_type": "stream",
     "text": [
      "\r",
      " 39%|███████████████████████████████▌                                                 | 39/100 [1:10:58<1:50:36, 108.80s/it]"
     ]
    },
    {
     "name": "stdout",
     "output_type": "stream",
     "text": [
      "[INFO] EPOCH: 39/100\n",
      "Train loss: 0.625773, Validation loss: 1.3880\n",
      "Train acc: 0.769344, Validation acc: 0.5135\n"
     ]
    },
    {
     "name": "stderr",
     "output_type": "stream",
     "text": [
      "\r",
      " 40%|████████████████████████████████▍                                                | 40/100 [1:12:47<1:48:52, 108.88s/it]"
     ]
    },
    {
     "name": "stdout",
     "output_type": "stream",
     "text": [
      "[INFO] EPOCH: 40/100\n",
      "Train loss: 0.622135, Validation loss: 1.1722\n",
      "Train acc: 0.771691, Validation acc: 0.6088\n"
     ]
    },
    {
     "name": "stderr",
     "output_type": "stream",
     "text": [
      "\r",
      " 41%|█████████████████████████████████▏                                               | 41/100 [1:14:36<1:46:54, 108.72s/it]"
     ]
    },
    {
     "name": "stdout",
     "output_type": "stream",
     "text": [
      "[INFO] EPOCH: 41/100\n",
      "Train loss: 0.614891, Validation loss: 1.5779\n",
      "Train acc: 0.775383, Validation acc: 0.5024\n"
     ]
    },
    {
     "name": "stderr",
     "output_type": "stream",
     "text": [
      "\r",
      " 42%|██████████████████████████████████                                               | 42/100 [1:16:26<1:45:35, 109.24s/it]"
     ]
    },
    {
     "name": "stdout",
     "output_type": "stream",
     "text": [
      "[INFO] EPOCH: 42/100\n",
      "Train loss: 0.613867, Validation loss: 1.1550\n",
      "Train acc: 0.774003, Validation acc: 0.6829\n",
      "best acc => saving\n"
     ]
    },
    {
     "name": "stderr",
     "output_type": "stream",
     "text": [
      "\r",
      " 43%|██████████████████████████████████▊                                              | 43/100 [1:18:15<1:43:37, 109.08s/it]"
     ]
    },
    {
     "name": "stdout",
     "output_type": "stream",
     "text": [
      "[INFO] EPOCH: 43/100\n",
      "Train loss: 0.609196, Validation loss: 1.1144\n",
      "Train acc: 0.775818, Validation acc: 0.6478\n"
     ]
    },
    {
     "name": "stderr",
     "output_type": "stream",
     "text": [
      "\r",
      " 44%|███████████████████████████████████▋                                             | 44/100 [1:20:04<1:41:45, 109.03s/it]"
     ]
    },
    {
     "name": "stdout",
     "output_type": "stream",
     "text": [
      "[INFO] EPOCH: 44/100\n",
      "Train loss: 0.603313, Validation loss: 1.0696\n",
      "Train acc: 0.779094, Validation acc: 0.6641\n",
      "best loss => saving\n"
     ]
    },
    {
     "name": "stderr",
     "output_type": "stream",
     "text": [
      "\r",
      " 45%|████████████████████████████████████▍                                            | 45/100 [1:21:53<1:40:00, 109.09s/it]"
     ]
    },
    {
     "name": "stdout",
     "output_type": "stream",
     "text": [
      "[INFO] EPOCH: 45/100\n",
      "Train loss: 0.596326, Validation loss: 1.1866\n",
      "Train acc: 0.782029, Validation acc: 0.6558\n"
     ]
    },
    {
     "name": "stderr",
     "output_type": "stream",
     "text": [
      "\r",
      " 46%|█████████████████████████████████████▎                                           | 46/100 [1:23:42<1:38:06, 109.01s/it]"
     ]
    },
    {
     "name": "stdout",
     "output_type": "stream",
     "text": [
      "[INFO] EPOCH: 46/100\n",
      "Train loss: 0.596892, Validation loss: 1.1990\n",
      "Train acc: 0.781245, Validation acc: 0.5892\n"
     ]
    },
    {
     "name": "stderr",
     "output_type": "stream",
     "text": [
      "\r",
      " 47%|██████████████████████████████████████                                           | 47/100 [1:25:30<1:36:12, 108.91s/it]"
     ]
    },
    {
     "name": "stdout",
     "output_type": "stream",
     "text": [
      "[INFO] EPOCH: 47/100\n",
      "Train loss: 0.595664, Validation loss: 1.2258\n",
      "Train acc: 0.782576, Validation acc: 0.5461\n"
     ]
    },
    {
     "name": "stderr",
     "output_type": "stream",
     "text": [
      "\r",
      " 48%|██████████████████████████████████████▉                                          | 48/100 [1:27:19<1:34:17, 108.80s/it]"
     ]
    },
    {
     "name": "stdout",
     "output_type": "stream",
     "text": [
      "[INFO] EPOCH: 48/100\n",
      "Train loss: 0.592580, Validation loss: 0.9714\n",
      "Train acc: 0.782568, Validation acc: 0.6820\n",
      "best loss => saving\n"
     ]
    },
    {
     "name": "stderr",
     "output_type": "stream",
     "text": [
      "\r",
      " 49%|███████████████████████████████████████▋                                         | 49/100 [1:29:08<1:32:39, 109.01s/it]"
     ]
    },
    {
     "name": "stdout",
     "output_type": "stream",
     "text": [
      "[INFO] EPOCH: 49/100\n",
      "Train loss: 0.585307, Validation loss: 1.2095\n",
      "Train acc: 0.785508, Validation acc: 0.6601\n"
     ]
    },
    {
     "name": "stderr",
     "output_type": "stream",
     "text": [
      "\r",
      " 50%|████████████████████████████████████████▌                                        | 50/100 [1:30:57<1:30:45, 108.90s/it]"
     ]
    },
    {
     "name": "stdout",
     "output_type": "stream",
     "text": [
      "[INFO] EPOCH: 50/100\n",
      "Train loss: 0.585618, Validation loss: 1.1575\n",
      "Train acc: 0.785099, Validation acc: 0.6534\n",
      "SAVING\n"
     ]
    },
    {
     "name": "stderr",
     "output_type": "stream",
     "text": [
      "\r",
      " 51%|█████████████████████████████████████████▎                                       | 51/100 [1:32:47<1:29:04, 109.08s/it]"
     ]
    },
    {
     "name": "stdout",
     "output_type": "stream",
     "text": [
      "[INFO] EPOCH: 51/100\n",
      "Train loss: 0.580293, Validation loss: 1.2274\n",
      "Train acc: 0.787367, Validation acc: 0.5912\n"
     ]
    },
    {
     "name": "stderr",
     "output_type": "stream",
     "text": [
      "\r",
      " 52%|██████████████████████████████████████████                                       | 52/100 [1:34:35<1:27:04, 108.85s/it]"
     ]
    },
    {
     "name": "stdout",
     "output_type": "stream",
     "text": [
      "[INFO] EPOCH: 52/100\n",
      "Train loss: 0.579760, Validation loss: 1.2896\n",
      "Train acc: 0.788032, Validation acc: 0.6034\n"
     ]
    },
    {
     "name": "stderr",
     "output_type": "stream",
     "text": [
      "\r",
      " 53%|██████████████████████████████████████████▉                                      | 53/100 [1:36:24<1:25:25, 109.05s/it]"
     ]
    },
    {
     "name": "stdout",
     "output_type": "stream",
     "text": [
      "[INFO] EPOCH: 53/100\n",
      "Train loss: 0.574777, Validation loss: 1.1924\n",
      "Train acc: 0.789073, Validation acc: 0.6320\n"
     ]
    },
    {
     "name": "stderr",
     "output_type": "stream",
     "text": [
      "\r",
      " 54%|███████████████████████████████████████████▋                                     | 54/100 [1:38:13<1:23:29, 108.89s/it]"
     ]
    },
    {
     "name": "stdout",
     "output_type": "stream",
     "text": [
      "[INFO] EPOCH: 54/100\n",
      "Train loss: 0.573924, Validation loss: 1.2351\n",
      "Train acc: 0.788498, Validation acc: 0.6598\n"
     ]
    },
    {
     "name": "stderr",
     "output_type": "stream",
     "text": [
      "\r",
      " 55%|████████████████████████████████████████████▌                                    | 55/100 [1:40:02<1:21:39, 108.88s/it]"
     ]
    },
    {
     "name": "stdout",
     "output_type": "stream",
     "text": [
      "[INFO] EPOCH: 55/100\n",
      "Train loss: 0.563896, Validation loss: 1.0970\n",
      "Train acc: 0.793324, Validation acc: 0.6692\n"
     ]
    },
    {
     "name": "stderr",
     "output_type": "stream",
     "text": [
      "\r",
      " 56%|█████████████████████████████████████████████▎                                   | 56/100 [1:41:51<1:19:48, 108.84s/it]"
     ]
    },
    {
     "name": "stdout",
     "output_type": "stream",
     "text": [
      "[INFO] EPOCH: 56/100\n",
      "Train loss: 0.566223, Validation loss: 1.1901\n",
      "Train acc: 0.793345, Validation acc: 0.6546\n"
     ]
    },
    {
     "name": "stderr",
     "output_type": "stream",
     "text": [
      "\r",
      " 57%|██████████████████████████████████████████████▏                                  | 57/100 [1:43:40<1:18:08, 109.03s/it]"
     ]
    },
    {
     "name": "stdout",
     "output_type": "stream",
     "text": [
      "[INFO] EPOCH: 57/100\n",
      "Train loss: 0.561134, Validation loss: 1.0560\n",
      "Train acc: 0.794759, Validation acc: 0.6773\n"
     ]
    },
    {
     "name": "stderr",
     "output_type": "stream",
     "text": [
      "\r",
      " 58%|██████████████████████████████████████████████▉                                  | 58/100 [1:45:29<1:16:13, 108.89s/it]"
     ]
    },
    {
     "name": "stdout",
     "output_type": "stream",
     "text": [
      "[INFO] EPOCH: 58/100\n",
      "Train loss: 0.558455, Validation loss: 1.2055\n",
      "Train acc: 0.795670, Validation acc: 0.6313\n"
     ]
    },
    {
     "name": "stderr",
     "output_type": "stream",
     "text": [
      "\r",
      " 59%|███████████████████████████████████████████████▊                                 | 59/100 [1:47:18<1:14:31, 109.07s/it]"
     ]
    },
    {
     "name": "stdout",
     "output_type": "stream",
     "text": [
      "[INFO] EPOCH: 59/100\n",
      "Train loss: 0.562786, Validation loss: 1.2093\n",
      "Train acc: 0.793862, Validation acc: 0.6072\n"
     ]
    },
    {
     "name": "stderr",
     "output_type": "stream",
     "text": [
      "\r",
      " 60%|████████████████████████████████████████████████▌                                | 60/100 [1:49:07<1:12:41, 109.05s/it]"
     ]
    },
    {
     "name": "stdout",
     "output_type": "stream",
     "text": [
      "[INFO] EPOCH: 60/100\n",
      "Train loss: 0.553307, Validation loss: 1.1746\n",
      "Train acc: 0.796200, Validation acc: 0.6538\n"
     ]
    },
    {
     "name": "stderr",
     "output_type": "stream",
     "text": [
      "\r",
      " 61%|█████████████████████████████████████████████████▍                               | 61/100 [1:50:56<1:10:52, 109.05s/it]"
     ]
    },
    {
     "name": "stdout",
     "output_type": "stream",
     "text": [
      "[INFO] EPOCH: 61/100\n",
      "Train loss: 0.549269, Validation loss: 1.2274\n",
      "Train acc: 0.799629, Validation acc: 0.5875\n"
     ]
    },
    {
     "name": "stderr",
     "output_type": "stream",
     "text": [
      "\r",
      " 62%|██████████████████████████████████████████████████▏                              | 62/100 [1:53:01<1:12:08, 113.90s/it]"
     ]
    },
    {
     "name": "stdout",
     "output_type": "stream",
     "text": [
      "[INFO] EPOCH: 62/100\n",
      "Train loss: 0.552933, Validation loss: 1.1714\n",
      "Train acc: 0.797085, Validation acc: 0.5954\n"
     ]
    },
    {
     "name": "stderr",
     "output_type": "stream",
     "text": [
      "\r",
      " 63%|███████████████████████████████████████████████████                              | 63/100 [1:55:27<1:16:10, 123.52s/it]"
     ]
    },
    {
     "name": "stdout",
     "output_type": "stream",
     "text": [
      "[INFO] EPOCH: 63/100\n",
      "Train loss: 0.549493, Validation loss: 1.0837\n",
      "Train acc: 0.798970, Validation acc: 0.6581\n"
     ]
    },
    {
     "name": "stderr",
     "output_type": "stream",
     "text": [
      "\r",
      " 64%|███████████████████████████████████████████████████▊                             | 64/100 [1:58:30<1:24:49, 141.38s/it]"
     ]
    },
    {
     "name": "stdout",
     "output_type": "stream",
     "text": [
      "[INFO] EPOCH: 64/100\n",
      "Train loss: 0.541424, Validation loss: 1.1141\n",
      "Train acc: 0.801946, Validation acc: 0.6700\n"
     ]
    },
    {
     "name": "stderr",
     "output_type": "stream",
     "text": [
      "\r",
      " 65%|████████████████████████████████████████████████████▋                            | 65/100 [2:00:52<1:22:33, 141.53s/it]"
     ]
    },
    {
     "name": "stdout",
     "output_type": "stream",
     "text": [
      "[INFO] EPOCH: 65/100\n",
      "Train loss: 0.539190, Validation loss: 1.1978\n",
      "Train acc: 0.802832, Validation acc: 0.6620\n"
     ]
    },
    {
     "name": "stderr",
     "output_type": "stream",
     "text": [
      "\r",
      " 66%|█████████████████████████████████████████████████████▍                           | 66/100 [2:03:33<1:23:24, 147.18s/it]"
     ]
    },
    {
     "name": "stdout",
     "output_type": "stream",
     "text": [
      "[INFO] EPOCH: 66/100\n",
      "Train loss: 0.535790, Validation loss: 1.1522\n",
      "Train acc: 0.804726, Validation acc: 0.6034\n"
     ]
    },
    {
     "name": "stderr",
     "output_type": "stream",
     "text": [
      "\r",
      " 67%|██████████████████████████████████████████████████████▎                          | 67/100 [2:06:23<1:24:50, 154.27s/it]"
     ]
    },
    {
     "name": "stdout",
     "output_type": "stream",
     "text": [
      "[INFO] EPOCH: 67/100\n",
      "Train loss: 0.534234, Validation loss: 1.0461\n",
      "Train acc: 0.804199, Validation acc: 0.6818\n"
     ]
    },
    {
     "name": "stderr",
     "output_type": "stream",
     "text": [
      "\r",
      " 68%|███████████████████████████████████████████████████████                          | 68/100 [2:08:14<1:15:20, 141.26s/it]"
     ]
    },
    {
     "name": "stdout",
     "output_type": "stream",
     "text": [
      "[INFO] EPOCH: 68/100\n",
      "Train loss: 0.530407, Validation loss: 1.0978\n",
      "Train acc: 0.804947, Validation acc: 0.6703\n"
     ]
    },
    {
     "name": "stderr",
     "output_type": "stream",
     "text": [
      "\r",
      " 69%|███████████████████████████████████████████████████████▉                         | 69/100 [2:10:47<1:14:46, 144.74s/it]"
     ]
    },
    {
     "name": "stdout",
     "output_type": "stream",
     "text": [
      "[INFO] EPOCH: 69/100\n",
      "Train loss: 0.526441, Validation loss: 1.2610\n",
      "Train acc: 0.806226, Validation acc: 0.5759\n"
     ]
    },
    {
     "name": "stderr",
     "output_type": "stream",
     "text": [
      "\r",
      " 70%|████████████████████████████████████████████████████████▋                        | 70/100 [2:13:10<1:12:04, 144.15s/it]"
     ]
    },
    {
     "name": "stdout",
     "output_type": "stream",
     "text": [
      "[INFO] EPOCH: 70/100\n",
      "Train loss: 0.524186, Validation loss: 1.1149\n",
      "Train acc: 0.807421, Validation acc: 0.6488\n"
     ]
    },
    {
     "name": "stderr",
     "output_type": "stream",
     "text": [
      "\r",
      " 71%|█████████████████████████████████████████████████████████▌                       | 71/100 [2:14:59<1:04:35, 133.65s/it]"
     ]
    },
    {
     "name": "stdout",
     "output_type": "stream",
     "text": [
      "[INFO] EPOCH: 71/100\n",
      "Train loss: 0.521410, Validation loss: 1.0724\n",
      "Train acc: 0.808555, Validation acc: 0.6618\n"
     ]
    },
    {
     "name": "stderr",
     "output_type": "stream",
     "text": [
      "\r",
      " 72%|███████████████████████████████████████████████████████████▊                       | 72/100 [2:16:48<58:56, 126.31s/it]"
     ]
    },
    {
     "name": "stdout",
     "output_type": "stream",
     "text": [
      "[INFO] EPOCH: 72/100\n",
      "Train loss: 0.515113, Validation loss: 1.2781\n",
      "Train acc: 0.811119, Validation acc: 0.6249\n"
     ]
    },
    {
     "name": "stderr",
     "output_type": "stream",
     "text": [
      "\r",
      " 73%|████████████████████████████████████████████████████████████▌                      | 73/100 [2:18:39<54:40, 121.51s/it]"
     ]
    },
    {
     "name": "stdout",
     "output_type": "stream",
     "text": [
      "[INFO] EPOCH: 73/100\n",
      "Train loss: 0.516968, Validation loss: 1.0901\n",
      "Train acc: 0.810479, Validation acc: 0.6586\n"
     ]
    },
    {
     "name": "stderr",
     "output_type": "stream",
     "text": [
      "\r",
      " 74%|█████████████████████████████████████████████████████████████▍                     | 74/100 [2:20:29<51:12, 118.16s/it]"
     ]
    },
    {
     "name": "stdout",
     "output_type": "stream",
     "text": [
      "[INFO] EPOCH: 74/100\n",
      "Train loss: 0.511517, Validation loss: 1.1796\n",
      "Train acc: 0.812024, Validation acc: 0.6249\n"
     ]
    },
    {
     "name": "stderr",
     "output_type": "stream",
     "text": [
      "\r",
      " 75%|██████████████████████████████████████████████████████████████▎                    | 75/100 [2:22:19<48:12, 115.70s/it]"
     ]
    },
    {
     "name": "stdout",
     "output_type": "stream",
     "text": [
      "[INFO] EPOCH: 75/100\n",
      "Train loss: 0.515990, Validation loss: 1.2735\n",
      "Train acc: 0.810717, Validation acc: 0.5289\n"
     ]
    },
    {
     "name": "stderr",
     "output_type": "stream",
     "text": [
      "\r",
      " 76%|███████████████████████████████████████████████████████████████                    | 76/100 [2:24:14<46:12, 115.54s/it]"
     ]
    },
    {
     "name": "stdout",
     "output_type": "stream",
     "text": [
      "[INFO] EPOCH: 76/100\n",
      "Train loss: 0.505099, Validation loss: 1.1268\n",
      "Train acc: 0.815885, Validation acc: 0.6442\n"
     ]
    },
    {
     "name": "stderr",
     "output_type": "stream",
     "text": [
      "\r",
      " 77%|███████████████████████████████████████████████████████████████▉                   | 77/100 [2:26:14<44:44, 116.71s/it]"
     ]
    },
    {
     "name": "stdout",
     "output_type": "stream",
     "text": [
      "[INFO] EPOCH: 77/100\n",
      "Train loss: 0.503832, Validation loss: 1.2795\n",
      "Train acc: 0.815826, Validation acc: 0.6118\n"
     ]
    },
    {
     "name": "stderr",
     "output_type": "stream",
     "text": [
      "\r",
      " 78%|████████████████████████████████████████████████████████████████▋                  | 78/100 [2:28:01<41:49, 114.05s/it]"
     ]
    },
    {
     "name": "stdout",
     "output_type": "stream",
     "text": [
      "[INFO] EPOCH: 78/100\n",
      "Train loss: 0.506481, Validation loss: 1.5120\n",
      "Train acc: 0.814873, Validation acc: 0.5021\n"
     ]
    },
    {
     "name": "stderr",
     "output_type": "stream",
     "text": [
      "\r",
      " 79%|█████████████████████████████████████████████████████████████████▌                 | 79/100 [2:29:50<39:18, 112.32s/it]"
     ]
    },
    {
     "name": "stdout",
     "output_type": "stream",
     "text": [
      "[INFO] EPOCH: 79/100\n",
      "Train loss: 0.496592, Validation loss: 1.1495\n",
      "Train acc: 0.818702, Validation acc: 0.6352\n"
     ]
    },
    {
     "name": "stderr",
     "output_type": "stream",
     "text": [
      "\r",
      " 80%|██████████████████████████████████████████████████████████████████▍                | 80/100 [2:31:38<36:59, 110.99s/it]"
     ]
    },
    {
     "name": "stdout",
     "output_type": "stream",
     "text": [
      "[INFO] EPOCH: 80/100\n",
      "Train loss: 0.496904, Validation loss: 1.1170\n",
      "Train acc: 0.818268, Validation acc: 0.5923\n"
     ]
    },
    {
     "name": "stderr",
     "output_type": "stream",
     "text": [
      "\r",
      " 81%|███████████████████████████████████████████████████████████████████▏               | 81/100 [2:33:25<34:50, 110.04s/it]"
     ]
    },
    {
     "name": "stdout",
     "output_type": "stream",
     "text": [
      "[INFO] EPOCH: 81/100\n",
      "Train loss: 0.497529, Validation loss: 1.2530\n",
      "Train acc: 0.817627, Validation acc: 0.5938\n"
     ]
    },
    {
     "name": "stderr",
     "output_type": "stream",
     "text": [
      "\r",
      " 82%|████████████████████████████████████████████████████████████████████               | 82/100 [2:35:48<35:59, 119.97s/it]"
     ]
    },
    {
     "name": "stdout",
     "output_type": "stream",
     "text": [
      "[INFO] EPOCH: 82/100\n",
      "Train loss: 0.493063, Validation loss: 1.1445\n",
      "Train acc: 0.819624, Validation acc: 0.6478\n"
     ]
    },
    {
     "name": "stderr",
     "output_type": "stream",
     "text": [
      "\r",
      " 83%|████████████████████████████████████████████████████████████████████▉              | 83/100 [2:37:36<32:55, 116.22s/it]"
     ]
    },
    {
     "name": "stdout",
     "output_type": "stream",
     "text": [
      "[INFO] EPOCH: 83/100\n",
      "Train loss: 0.482684, Validation loss: 1.6888\n",
      "Train acc: 0.823846, Validation acc: 0.5667\n"
     ]
    },
    {
     "name": "stderr",
     "output_type": "stream",
     "text": [
      "\r",
      " 84%|█████████████████████████████████████████████████████████████████████▋             | 84/100 [2:39:24<30:20, 113.78s/it]"
     ]
    },
    {
     "name": "stdout",
     "output_type": "stream",
     "text": [
      "[INFO] EPOCH: 84/100\n",
      "Train loss: 0.483327, Validation loss: 1.1342\n",
      "Train acc: 0.823479, Validation acc: 0.6803\n"
     ]
    },
    {
     "name": "stderr",
     "output_type": "stream",
     "text": [
      "\r",
      " 85%|██████████████████████████████████████████████████████████████████████▌            | 85/100 [2:41:12<27:58, 111.91s/it]"
     ]
    },
    {
     "name": "stdout",
     "output_type": "stream",
     "text": [
      "[INFO] EPOCH: 85/100\n",
      "Train loss: 0.485024, Validation loss: 1.1527\n",
      "Train acc: 0.822184, Validation acc: 0.6176\n",
      "[INFO] EPOCH: 86/100\n",
      "Train loss: 0.479070, Validation loss: 1.0767\n",
      "Train acc: 0.824787, Validation acc: 0.6881\n",
      "best acc => saving\n"
     ]
    },
    {
     "name": "stderr",
     "output_type": "stream",
     "text": [
      " 87%|████████████████████████████████████████████████████████████████████████▏          | 87/100 [2:44:48<23:49, 109.96s/it]"
     ]
    },
    {
     "name": "stdout",
     "output_type": "stream",
     "text": [
      "[INFO] EPOCH: 87/100\n",
      "Train loss: 0.474927, Validation loss: 1.6191\n",
      "Train acc: 0.827250, Validation acc: 0.5447\n"
     ]
    },
    {
     "name": "stderr",
     "output_type": "stream",
     "text": [
      "\r",
      " 88%|█████████████████████████████████████████████████████████████████████████          | 88/100 [2:47:16<24:17, 121.49s/it]"
     ]
    },
    {
     "name": "stdout",
     "output_type": "stream",
     "text": [
      "[INFO] EPOCH: 88/100\n",
      "Train loss: 0.472716, Validation loss: 1.1979\n",
      "Train acc: 0.826629, Validation acc: 0.6407\n"
     ]
    },
    {
     "name": "stderr",
     "output_type": "stream",
     "text": [
      "\r",
      " 89%|█████████████████████████████████████████████████████████████████████████▊         | 89/100 [2:49:31<22:58, 125.33s/it]"
     ]
    },
    {
     "name": "stdout",
     "output_type": "stream",
     "text": [
      "[INFO] EPOCH: 89/100\n",
      "Train loss: 0.469076, Validation loss: 0.9726\n",
      "Train acc: 0.829096, Validation acc: 0.6843\n"
     ]
    },
    {
     "name": "stderr",
     "output_type": "stream",
     "text": [
      "\r",
      " 90%|██████████████████████████████████████████████████████████████████████████▋        | 90/100 [2:52:33<23:45, 142.50s/it]"
     ]
    },
    {
     "name": "stdout",
     "output_type": "stream",
     "text": [
      "[INFO] EPOCH: 90/100\n",
      "Train loss: 0.468289, Validation loss: 1.4689\n",
      "Train acc: 0.828855, Validation acc: 0.5392\n"
     ]
    },
    {
     "name": "stderr",
     "output_type": "stream",
     "text": [
      "\r",
      " 91%|███████████████████████████████████████████████████████████████████████████▌       | 91/100 [2:55:52<23:54, 159.44s/it]"
     ]
    },
    {
     "name": "stdout",
     "output_type": "stream",
     "text": [
      "[INFO] EPOCH: 91/100\n",
      "Train loss: 0.463278, Validation loss: 1.2849\n",
      "Train acc: 0.831593, Validation acc: 0.5626\n"
     ]
    },
    {
     "name": "stderr",
     "output_type": "stream",
     "text": [
      "\r",
      " 92%|████████████████████████████████████████████████████████████████████████████▎      | 92/100 [2:59:00<22:22, 167.81s/it]"
     ]
    },
    {
     "name": "stdout",
     "output_type": "stream",
     "text": [
      "[INFO] EPOCH: 92/100\n",
      "Train loss: 0.465799, Validation loss: 1.2591\n",
      "Train acc: 0.829856, Validation acc: 0.6134\n",
      "[INFO] EPOCH: 93/100\n",
      "Train loss: 0.461098, Validation loss: 1.0859\n",
      "Train acc: 0.832806, Validation acc: 0.6900\n",
      "best acc => saving\n"
     ]
    },
    {
     "name": "stderr",
     "output_type": "stream",
     "text": [
      " 94%|██████████████████████████████████████████████████████████████████████████████     | 94/100 [3:04:07<15:51, 158.57s/it]"
     ]
    },
    {
     "name": "stdout",
     "output_type": "stream",
     "text": [
      "[INFO] EPOCH: 94/100\n",
      "Train loss: 0.456114, Validation loss: 1.3069\n",
      "Train acc: 0.834168, Validation acc: 0.5638\n"
     ]
    },
    {
     "name": "stderr",
     "output_type": "stream",
     "text": [
      "\r",
      " 95%|██████████████████████████████████████████████████████████████████████████████▊    | 95/100 [3:06:30<12:49, 153.87s/it]"
     ]
    },
    {
     "name": "stdout",
     "output_type": "stream",
     "text": [
      "[INFO] EPOCH: 95/100\n",
      "Train loss: 0.454084, Validation loss: 1.0549\n",
      "Train acc: 0.835336, Validation acc: 0.6550\n"
     ]
    }
   ],
   "source": [
    "# loop over epochs\n",
    "NUM_EPOCHS = 100\n",
    "print(\"[INFO] training the network...\")\n",
    "startTime = time.time()\n",
    "#for e in tqdm(range(NUM_EPOCHS)):\n",
    "for e in tqdm(range(NUM_EPOCHS)):\n",
    "    # set the model in training mode\n",
    "    unet.train()\n",
    "    # initialize the total training and validation loss\n",
    "    totalTrainLoss = 0\n",
    "    totalTestLoss = 0\n",
    "    totalTrainAcc = 0\n",
    "    totalTestAcc = 0\n",
    "    # loop over the training set\n",
    "    for (i, (x, y)) in enumerate(train_dl):\n",
    "        # send the input to the device\n",
    "        (x, y) = (x.to(DEVICE), y.to(DEVICE))\n",
    "        # perform a forward pass and calculate the training loss\n",
    "        pred = unet(x)\n",
    "        y = y.to(torch.long)\n",
    "        y = y.squeeze()\n",
    "        \n",
    "        loss, acc = lossFunc(pred, y)\n",
    "        \n",
    "        # first, zero out any previously accumulated gradients, then\n",
    "        # perform backpropagation, and then update model parameters\n",
    "        opt.zero_grad()\n",
    "        loss.backward()\n",
    "        opt.step()\n",
    "        # add the loss to the total training loss so far\n",
    "        totalTrainLoss += loss\n",
    "        totalTrainAcc += acc\n",
    "    # switch off autograd\n",
    "    with torch.no_grad():\n",
    "        # set the model in evaluation mode\n",
    "        unet.eval()\n",
    "        # loop over the validation set\n",
    "        for (x, y) in val_dl:\n",
    "            # send the input to the device\n",
    "            (x, y) = (x.to(DEVICE), y.to(DEVICE))\n",
    "            # make the predictions and calculate the validation loss\n",
    "            pred = unet(x)\n",
    "            #pred=pred.to(torch.float32)\n",
    "            y = y.to(torch.long)\n",
    "            y = y.squeeze()\n",
    "            \n",
    "            loss, acc = lossFunc(pred, y)\n",
    "            totalTestLoss += loss\n",
    "            totalTestAcc += acc\n",
    "    # calculate the average training and validation loss\n",
    "    avgTrainLoss = totalTrainLoss / trainSteps\n",
    "    avgTestLoss = totalTestLoss / testSteps\n",
    "    avgTrainAcc = totalTrainAcc / trainSteps\n",
    "    avgTestAcc = totalTestAcc / testSteps\n",
    "    # update our training history\n",
    "    H[\"train_loss\"].append(avgTrainLoss.cpu().detach().numpy())\n",
    "    H[\"test_loss\"].append(avgTestLoss.cpu().detach().numpy())\n",
    "    H[\"train_acc\"].append(avgTrainAcc.cpu().detach().numpy())\n",
    "    H[\"test_acc\"].append(avgTestAcc.cpu().detach().numpy())\n",
    "    # print the model training and validation information\n",
    "    print(\"[INFO] EPOCH: {}/{}\".format(e + 1, NUM_EPOCHS))\n",
    "    print(\"Train loss: {:.6f}, Validation loss: {:.4f}\".format(\n",
    "      avgTrainLoss, avgTestLoss))\n",
    "    print(\"Train acc: {:.6f}, Validation acc: {:.4f}\".format(\n",
    "      avgTrainAcc, avgTestAcc))\n",
    "    # Save the best model (the one that has the lowest loss for validation)\n",
    "    if (bestValLoss == -1) or (bestValLoss > avgTestLoss):\n",
    "        bestValLoss = avgTestLoss\n",
    "        print(\"best loss => saving\")\n",
    "        torch.save(unet.state_dict(), 'best_model_fl_2_loss.pth')\n",
    "    if (bestValAcc < avgTestAcc):\n",
    "        bestValAcc = avgTestAcc\n",
    "        print(\"best acc => saving\")\n",
    "        torch.save(unet.state_dict(), 'best_model_acc_fl_2_loss.pth')\n",
    "    if ((e+1)%50 == 0):\n",
    "        epoch_name = 200 + e+1\n",
    "        print(\"SAVING\")\n",
    "        torch.save(unet.state_dict(), f\"unet_model_epoch_{epoch_name}_fl_2_loss.pth\")\n",
    "        \n",
    "# display the total time needed to perform the training\n",
    "endTime = time.time()\n",
    "print(\"[INFO] total time taken to train the model: {:.2f}s\".format(endTime - startTime))"
   ]
  },
  {
   "cell_type": "code",
   "execution_count": null,
   "id": "9867c3d1",
   "metadata": {},
   "outputs": [],
   "source": [
    "date = datetime.datetime.now()\n",
    "date_ymd = date.date()\n",
    "date_hm = f\"{date.hour}:{date.minute}\""
   ]
  },
  {
   "cell_type": "code",
   "execution_count": null,
   "id": "a8e72473",
   "metadata": {
    "scrolled": true
   },
   "outputs": [],
   "source": [
    "plt.style.use(\"ggplot\")\n",
    "plt.figure()\n",
    "plt.plot(H[\"train_loss\"], label=\"train_loss\")\n",
    "plt.plot(H[\"test_loss\"], label=\"val_loss\")\n",
    "plt.title(\"Training Loss on Dataset\")\n",
    "plt.xlabel(\"Epoch #\")\n",
    "plt.ylabel(\"Loss\")\n",
    "plt.legend(loc=\"lower left\")\n",
    "plt.savefig(f\"train_val_loss_{date_ymd}_{date_hm}_fl_2_loss.png\", bbox_inches='tight')"
   ]
  },
  {
   "cell_type": "code",
   "execution_count": null,
   "id": "a60a71db",
   "metadata": {},
   "outputs": [],
   "source": [
    "plt.style.use(\"ggplot\")\n",
    "plt.figure()\n",
    "plt.plot(H[\"train_acc\"], label=\"train_acc\")\n",
    "plt.plot(H[\"test_acc\"], label=\"val_acc\")\n",
    "plt.title(\"Training Accuracy on Dataset\")\n",
    "plt.xlabel(\"Epoch #\")\n",
    "plt.ylabel(\"Accuracy\")\n",
    "plt.legend(loc=\"lower left\")\n",
    "plt.savefig(f\"train_val_acc_{date_ymd}_{date_hm}_fl_2_loss.png\", bbox_inches='tight')"
   ]
  },
  {
   "cell_type": "code",
   "execution_count": null,
   "id": "cef9d296",
   "metadata": {},
   "outputs": [],
   "source": [
    "torch.save(unet.state_dict(), f\"unet_model_{date_ymd}_{date_hm}_fl_2_loss.pth\")\n",
    "torch.save(unet, f\"unet_model_{date_ymd}_{date_hm}_fl_2_loss.pt\")\n",
    "torch.save(H, f\"unet_model_{date_ymd}_{date_hm}_fl_2_loss_dict.pth\")"
   ]
  },
  {
   "cell_type": "code",
   "execution_count": null,
   "id": "2ddf9bad",
   "metadata": {},
   "outputs": [],
   "source": []
  }
 ],
 "metadata": {
  "kernelspec": {
   "display_name": "Python 3 (ipykernel)",
   "language": "python",
   "name": "python3"
  },
  "language_info": {
   "codemirror_mode": {
    "name": "ipython",
    "version": 3
   },
   "file_extension": ".py",
   "mimetype": "text/x-python",
   "name": "python",
   "nbconvert_exporter": "python",
   "pygments_lexer": "ipython3",
   "version": "3.7.7"
  }
 },
 "nbformat": 4,
 "nbformat_minor": 5
}
