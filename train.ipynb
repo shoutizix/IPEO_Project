{
 "cells": [
  {
   "cell_type": "code",
   "execution_count": 1,
   "id": "740be313",
   "metadata": {},
   "outputs": [
    {
     "name": "stdout",
     "output_type": "stream",
     "text": [
      "Requirement already satisfied: torch in ./ipeo_venv/lib/python3.7/site-packages (1.13.1)\n",
      "Requirement already satisfied: torchvision in ./ipeo_venv/lib/python3.7/site-packages (0.14.1)\n",
      "Requirement already satisfied: torchtext in ./ipeo_venv/lib/python3.7/site-packages (0.14.1)\n",
      "Requirement already satisfied: pytorch_lightning in ./ipeo_venv/lib/python3.7/site-packages (1.8.6)\n",
      "Requirement already satisfied: tensorboard in ./ipeo_venv/lib/python3.7/site-packages (2.11.0)\n",
      "Requirement already satisfied: matplotlib in ./ipeo_venv/lib/python3.7/site-packages (3.5.3)\n",
      "Requirement already satisfied: tqdm in ./ipeo_venv/lib/python3.7/site-packages (4.64.1)\n",
      "Requirement already satisfied: datetime in ./ipeo_venv/lib/python3.7/site-packages (4.9)\n",
      "\u001b[31mERROR: Could not find a version that satisfies the requirement time (from versions: none)\u001b[0m\u001b[31m\n",
      "\u001b[0m\u001b[31mERROR: No matching distribution found for time\u001b[0m\u001b[31m\n",
      "\u001b[0m"
     ]
    }
   ],
   "source": [
    "# USEFUL WHEN RUNNING ON CLUSTER\n",
    "import sys\n",
    "!pip install torch torchvision torchtext pytorch_lightning tensorboard matplotlib tqdm datetime time "
   ]
  },
  {
   "cell_type": "code",
   "execution_count": 2,
   "id": "1516afb7",
   "metadata": {},
   "outputs": [
    {
     "name": "stdout",
     "output_type": "stream",
     "text": [
      "Thu Jan 12 14:06:33 2023       \r\n",
      "+-----------------------------------------------------------------------------+\r\n",
      "| NVIDIA-SMI 455.23.05    Driver Version: 455.23.05    CUDA Version: 11.1     |\r\n",
      "|-------------------------------+----------------------+----------------------+\r\n",
      "| GPU  Name        Persistence-M| Bus-Id        Disp.A | Volatile Uncorr. ECC |\r\n",
      "| Fan  Temp  Perf  Pwr:Usage/Cap|         Memory-Usage | GPU-Util  Compute M. |\r\n",
      "|                               |                      |               MIG M. |\r\n",
      "|===============================+======================+======================|\r\n",
      "|   0  Tesla V100-PCIE...  On   | 00000000:86:00.0 Off |                  Off |\r\n",
      "| N/A   35C    P0    30W / 250W |      0MiB / 32510MiB |      0%      Default |\r\n",
      "|                               |                      |                  N/A |\r\n",
      "+-------------------------------+----------------------+----------------------+\r\n",
      "                                                                               \r\n",
      "+-----------------------------------------------------------------------------+\r\n",
      "| Processes:                                                                  |\r\n",
      "|  GPU   GI   CI        PID   Type   Process name                  GPU Memory |\r\n",
      "|        ID   ID                                                   Usage      |\r\n",
      "|=============================================================================|\r\n",
      "|  No running processes found                                                 |\r\n",
      "+-----------------------------------------------------------------------------+\r\n"
     ]
    }
   ],
   "source": [
    "!nvidia-smi"
   ]
  },
  {
   "cell_type": "code",
   "execution_count": 1,
   "id": "f3eddd2a",
   "metadata": {},
   "outputs": [],
   "source": [
    "import torch\n",
    "from torch.utils.data import DataLoader\n",
    "from torch.nn import CrossEntropyLoss\n",
    "from torch.nn import BCELoss\n",
    "from torch.nn import MSELoss\n",
    "from torch.nn import functional as F\n",
    "\n",
    "from torch.optim import Adam\n",
    "from torch.optim import SGD\n",
    "from torch.optim.lr_scheduler import CyclicLR\n",
    "from tqdm import tqdm\n",
    "import matplotlib.pyplot as plt\n",
    "import time\n",
    "import datetime\n",
    "\n",
    "from src.model import UNet\n",
    "from src.dataloader import LandCoverData\n",
    "\n",
    "%load_ext autoreload\n",
    "%autoreload 2"
   ]
  },
  {
   "cell_type": "code",
   "execution_count": 10,
   "id": "b8a4fd55",
   "metadata": {},
   "outputs": [],
   "source": [
    "#path=\"../\"\n",
    "#path=\"/scratch/izar/damiani/\"\n",
    "path=\"/scratch/izar/nkaltenr/\"\n",
    "\n",
    "train_dataset = LandCoverData(path, split=\"train\", ignore_last_number=11, use_augmented=False)\n",
    "val_dataset = LandCoverData(path, split=\"val\")"
   ]
  },
  {
   "cell_type": "code",
   "execution_count": 11,
   "id": "08078119",
   "metadata": {},
   "outputs": [],
   "source": [
    "BATCH_SIZE = 2\n",
    "\n",
    "# num_workers 8 default but 2 on colab\n",
    "train_dl = DataLoader(train_dataset, BATCH_SIZE, True)\n",
    "val_dl = DataLoader(val_dataset, BATCH_SIZE, False, drop_last=True)"
   ]
  },
  {
   "cell_type": "code",
   "execution_count": 12,
   "id": "ef7dc93b",
   "metadata": {},
   "outputs": [],
   "source": [
    "INPUT_IMAGE_HEIGHT=200\n",
    "INPUT_IMAGE_WIDTH=200\n",
    "\n",
    "DEVICE = \"cuda\"\n",
    "#DEVICE = \"cpu\"\n",
    "INIT_LR = 0.001\n",
    "INIT_MOMENTUM = 0.9"
   ]
  },
  {
   "cell_type": "code",
   "execution_count": 13,
   "id": "42a19141",
   "metadata": {},
   "outputs": [
    {
     "name": "stderr",
     "output_type": "stream",
     "text": [
      "Using cache found in /home/nkaltenr/.cache/torch/hub/adeelh_pytorch-multi-class-focal-loss_master\n"
     ]
    }
   ],
   "source": [
    "focal_loss = torch.hub.load(\n",
    "\t'adeelh/pytorch-multi-class-focal-loss',\n",
    "\tmodel='focal_loss',\n",
    "\talpha=None,\n",
    "\tgamma=2,\n",
    "\treduction='mean',\n",
    "\tdevice=DEVICE,\n",
    "\tdtype=torch.float32,\n",
    "\tforce_reload=False\n",
    ")"
   ]
  },
  {
   "cell_type": "code",
   "execution_count": 14,
   "id": "668bd925",
   "metadata": {},
   "outputs": [],
   "source": [
    "# From https://github.com/Mr-TalhaIlyas/Loss-Functions-Package-Tensorflow-Keras-PyTorch\n",
    "import torch\n",
    "import torch.nn as nn\n",
    "import torch.nn.functional as F\n",
    "#PyTorch\n",
    "#Dice Loss\n",
    "ALPHA = 0.5\n",
    "BETA = 0.5\n",
    "#Try also\n",
    "#ALPHA = 0.3\n",
    "#BETA = 0.7\n",
    "\n",
    "GAMMA = 2\n",
    "\n",
    "class FocalTverskyLoss(torch.nn.Module):\n",
    "    def __init__(self, weight=None, size_average=True):\n",
    "        super(FocalTverskyLoss, self).__init__()\n",
    "\n",
    "    def forward(self, inputs, targets, smooth=1, alpha=ALPHA, beta=BETA, gamma=GAMMA):\n",
    "        \n",
    "        #comment out if your model contains a sigmoid or equivalent activation layer\n",
    "        inputs = torch.sigmoid(inputs)       \n",
    "        \n",
    "        #flatten label and prediction tensors\n",
    "        inputs = inputs.view(-1)\n",
    "        targets = targets.view(-1)\n",
    "        \n",
    "        #True Positives, False Positives & False Negatives\n",
    "        #TP = (inputs * targets).sum()    \n",
    "        #FP = ((1-targets) * inputs).sum()\n",
    "        #FN = (targets * (1-inputs)).sum()\n",
    "        TP = torch.sum(targets * inputs, dim=(0, 2, 3))\n",
    "        FN = torch.sum(targets * (1-inputs), dim=(0, 2, 3))\n",
    "        FP = torch.sum((1-targets) * inputs, dim=(0, 2, 3))\n",
    "        \n",
    "        Tversky = (TP + smooth) / (TP + alpha*FP + beta*FN + smooth)  \n",
    "        FocalTversky = (1 - Tversky)**gamma\n",
    "                       \n",
    "        return FocalTversky"
   ]
  },
  {
   "cell_type": "code",
   "execution_count": 15,
   "id": "3940d7ab",
   "metadata": {},
   "outputs": [],
   "source": [
    "# from https://stackoverflow.com/questions/65125670/implementing-multiclass-dice-loss-function\n",
    "import torch\n",
    "import torch.nn as nn\n",
    "import torch.nn.functional as F\n",
    "\n",
    "def dice_coef_8cat(y_true, y_pred, smooth=1e-7):\n",
    "    '''\n",
    "    Dice coefficient for 8 categories.\n",
    "    Pass to model as metric during compile statement\n",
    "    '''\n",
    "    y_true_f = torch.flatten(F.one_hot(y_true.to(torch.int64), num_classes=8)[...,:])\n",
    "    y_pred_f = torch.flatten(y_pred[...,:])\n",
    "    intersect = torch.sum(y_true_f * y_pred_f, axis=-1)\n",
    "    denom = torch.sum(y_true_f + y_pred_f, axis=-1)\n",
    "    return torch.mean((2. * intersect / (denom + smooth)))\n",
    "\n",
    "def dice_coef_8cat_loss(y_true, y_pred):\n",
    "    '''\n",
    "    Dice loss to minimize. Pass to model as loss during compile statement\n",
    "    '''\n",
    "    return 1 - dice_coef_8cat(y_true, y_pred)"
   ]
  },
  {
   "cell_type": "code",
   "execution_count": 16,
   "id": "65b7411d",
   "metadata": {},
   "outputs": [],
   "source": [
    "class mIoULoss(torch.nn.Module):\n",
    "    def __init__(self, weight=None, size_average=True, n_classes=2):\n",
    "        super(mIoULoss, self).__init__()\n",
    "        self.classes = n_classes\n",
    "\n",
    "    def to_one_hot(self, tensor):\n",
    "        n,h,w = tensor.size()\n",
    "        one_hot = torch.zeros(n,self.classes,h,w).to(tensor.device).scatter_(1,tensor.view(n,1,h,w),1)\n",
    "        return one_hot\n",
    "\n",
    "    def forward(self, inputs, target):\n",
    "        # inputs => N x Classes x H x W\n",
    "        # target_oneHot => N x Classes x H x W\n",
    "\n",
    "        N = inputs.size()[0]\n",
    "\n",
    "        # predicted probabilities for each pixel along channel\n",
    "        inputs = F.softmax(inputs,dim=1)\n",
    "        \n",
    "        # Numerator Product\n",
    "        target_oneHot = self.to_one_hot(target)\n",
    "        inter = inputs * target_oneHot\n",
    "        ## Sum over all pixels N x C x H x W => N x C\n",
    "        inter = inter.view(N,self.classes,-1).sum(2)\n",
    "\n",
    "        #Denominator \n",
    "        union= inputs + target_oneHot - (inputs*target_oneHot)\n",
    "        ## Sum over all pixels N x C x H x W => N x C\n",
    "        union = union.view(N,self.classes,-1).sum(2)\n",
    "\n",
    "        loss = inter/union\n",
    "\n",
    "        ## Return average loss over classes and batch\n",
    "        return 1-loss.mean()"
   ]
  },
  {
   "cell_type": "code",
   "execution_count": 17,
   "id": "2ef91167",
   "metadata": {},
   "outputs": [],
   "source": [
    "#weight_ce = [1., 3., 3.1, 14., 7., 3.3, 0.9, 1.]\n",
    "#class_weights_ce = torch.FloatTensor(weight_ce).to(DEVICE)\n",
    "#ce = CrossEntropyLoss(weight=class_weights_ce)\n",
    "ce = CrossEntropyLoss()\n",
    "\n",
    "#INIT_ALPHA = 10.0\n",
    "#INIT_GAMMA = 2.0\n",
    "#ml = MixedLoss(INIT_ALPHA, INIT_GAMMA)\n",
    "#ftl = FocalTverskyLoss()\n",
    "iou=mIoULoss(n_classes=8)\n",
    "\n",
    "\n",
    "def UnetLoss(preds, targets):\n",
    "    #print(f\"preds : {preds.shape}\")\n",
    "    #print(f\"targets : {targets.shape}\")\n",
    "    #loss = ce(preds, targets)\n",
    "    #d_loss = dice_coef_8cat_loss(targets, preds)\n",
    "    \n",
    "    #loss = iou(preds, targets)\n",
    "    \n",
    "    #mix_loss = ce_loss + d_loss\n",
    "    #ml_loss = ml\n",
    "    loss = focal_loss(preds, targets)\n",
    "    #ftl_loss = ftl(preds, targets)\n",
    "    acc = (torch.max(preds, 1)[1] == targets).float().mean()\n",
    "    return loss, acc"
   ]
  },
  {
   "cell_type": "code",
   "execution_count": 18,
   "id": "973cfaf1",
   "metadata": {},
   "outputs": [],
   "source": [
    "# initialize our UNet model\n",
    "unet = UNet(nbClasses=8).to(DEVICE)\n",
    "# initialize loss function and optimizer\n",
    "lossFunc = UnetLoss\n",
    "opt = SGD(unet.parameters(), lr=INIT_LR, momentum=INIT_MOMENTUM)\n",
    "# calculate steps per epoch for training and validation set\n",
    "trainSteps = len(train_dataset) // BATCH_SIZE\n",
    "valSteps = len(val_dataset) // BATCH_SIZE\n",
    "# initialize a dictionary to store training history\n",
    "H = {\"train_loss\": [], \"val_loss\": [], \"train_acc\": [], \"val_acc\": []}\n",
    "bestValLoss = float('inf')\n",
    "bestValAcc = -1"
   ]
  },
  {
   "cell_type": "code",
   "execution_count": 57,
   "id": "7ca4c765",
   "metadata": {},
   "outputs": [],
   "source": [
    "#H = torch.load('unet_model_2023-01-03_0:54_fl_2_loss_dict.pth', map_location=torch.device(DEVICE))"
   ]
  },
  {
   "cell_type": "code",
   "execution_count": 58,
   "id": "9eef6bcc",
   "metadata": {},
   "outputs": [],
   "source": [
    "#unet.load_state_dict(torch.load('unet_model_epoch_200_fl_2_loss.pth', map_location=torch.device(DEVICE)))"
   ]
  },
  {
   "cell_type": "code",
   "execution_count": 19,
   "id": "24fb9796",
   "metadata": {},
   "outputs": [],
   "source": [
    "name_for_save = \"focal_loss_gamma_2\""
   ]
  },
  {
   "cell_type": "code",
   "execution_count": 20,
   "id": "3db3fc99",
   "metadata": {
    "scrolled": true
   },
   "outputs": [
    {
     "name": "stdout",
     "output_type": "stream",
     "text": [
      "[INFO] training the network...\n"
     ]
    },
    {
     "name": "stderr",
     "output_type": "stream",
     "text": [
      "\r",
      "  0%|                                                   | 0/100 [00:00<?, ?it/s]"
     ]
    },
    {
     "name": "stdout",
     "output_type": "stream",
     "text": [
      "[INFO] EPOCH: 1/100\n",
      "Train loss: 0.894132, Validation loss: 0.9493\n",
      "Train acc: 0.503707, Validation acc: 0.5195\n",
      "best loss => saving\n",
      "best acc => saving\n"
     ]
    },
    {
     "name": "stderr",
     "output_type": "stream",
     "text": [
      "\r",
      "  1%|▍                                       | 1/100 [02:36<4:17:51, 156.27s/it]"
     ]
    },
    {
     "name": "stdout",
     "output_type": "stream",
     "text": [
      "[INFO] EPOCH: 2/100\n",
      "Train loss: 0.693763, Validation loss: 0.7529\n",
      "Train acc: 0.574036, Validation acc: 0.5696\n",
      "best loss => saving\n",
      "best acc => saving\n"
     ]
    },
    {
     "name": "stderr",
     "output_type": "stream",
     "text": [
      "\r",
      "  2%|▊                                       | 2/100 [04:57<4:00:44, 147.39s/it]"
     ]
    },
    {
     "name": "stdout",
     "output_type": "stream",
     "text": [
      "[INFO] EPOCH: 3/100\n",
      "Train loss: 0.603599, Validation loss: 0.8633\n",
      "Train acc: 0.601360, Validation acc: 0.5832\n",
      "best acc => saving\n"
     ]
    },
    {
     "name": "stderr",
     "output_type": "stream",
     "text": [
      "  4%|█▌                                      | 4/100 [09:43<3:51:26, 144.65s/it]"
     ]
    },
    {
     "name": "stdout",
     "output_type": "stream",
     "text": [
      "[INFO] EPOCH: 4/100\n",
      "Train loss: 0.544070, Validation loss: 0.9215\n",
      "Train acc: 0.616906, Validation acc: 0.5325\n",
      "[INFO] EPOCH: 5/100\n",
      "Train loss: 0.515252, Validation loss: 0.8652\n",
      "Train acc: 0.628037, Validation acc: 0.6129\n",
      "best acc => saving\n"
     ]
    },
    {
     "name": "stderr",
     "output_type": "stream",
     "text": [
      "  6%|██▍                                     | 6/100 [14:33<3:46:28, 144.56s/it]"
     ]
    },
    {
     "name": "stdout",
     "output_type": "stream",
     "text": [
      "[INFO] EPOCH: 6/100\n",
      "Train loss: 0.494883, Validation loss: 0.9173\n",
      "Train acc: 0.638657, Validation acc: 0.5724\n"
     ]
    },
    {
     "name": "stderr",
     "output_type": "stream",
     "text": [
      "\r",
      "  7%|██▊                                     | 7/100 [16:57<3:43:49, 144.41s/it]"
     ]
    },
    {
     "name": "stdout",
     "output_type": "stream",
     "text": [
      "[INFO] EPOCH: 7/100\n",
      "Train loss: 0.469939, Validation loss: 0.8770\n",
      "Train acc: 0.650411, Validation acc: 0.5232\n",
      "[INFO] EPOCH: 8/100\n",
      "Train loss: 0.452783, Validation loss: 0.6707\n",
      "Train acc: 0.660937, Validation acc: 0.6096\n",
      "best loss => saving\n"
     ]
    },
    {
     "name": "stderr",
     "output_type": "stream",
     "text": [
      "  9%|███▌                                    | 9/100 [21:45<3:38:35, 144.12s/it]"
     ]
    },
    {
     "name": "stdout",
     "output_type": "stream",
     "text": [
      "[INFO] EPOCH: 9/100\n",
      "Train loss: 0.439453, Validation loss: 0.7919\n",
      "Train acc: 0.663409, Validation acc: 0.5755\n"
     ]
    },
    {
     "name": "stderr",
     "output_type": "stream",
     "text": [
      "\r",
      " 10%|███▉                                   | 10/100 [24:09<3:35:52, 143.91s/it]"
     ]
    },
    {
     "name": "stdout",
     "output_type": "stream",
     "text": [
      "[INFO] EPOCH: 10/100\n",
      "Train loss: 0.427965, Validation loss: 0.7946\n",
      "Train acc: 0.670814, Validation acc: 0.5951\n"
     ]
    },
    {
     "name": "stderr",
     "output_type": "stream",
     "text": [
      "\r",
      " 11%|████▎                                  | 11/100 [26:32<3:33:09, 143.71s/it]"
     ]
    },
    {
     "name": "stdout",
     "output_type": "stream",
     "text": [
      "[INFO] EPOCH: 11/100\n",
      "Train loss: 0.420484, Validation loss: 0.7255\n",
      "Train acc: 0.675485, Validation acc: 0.5784\n",
      "[INFO] EPOCH: 12/100\n",
      "Train loss: 0.406614, Validation loss: 0.6099\n",
      "Train acc: 0.682197, Validation acc: 0.6211\n",
      "best loss => saving\n",
      "best acc => saving\n"
     ]
    },
    {
     "name": "stderr",
     "output_type": "stream",
     "text": [
      " 13%|█████                                  | 13/100 [31:18<3:28:15, 143.62s/it]"
     ]
    },
    {
     "name": "stdout",
     "output_type": "stream",
     "text": [
      "[INFO] EPOCH: 13/100\n",
      "Train loss: 0.395711, Validation loss: 0.8446\n",
      "Train acc: 0.688038, Validation acc: 0.5359\n",
      "[INFO] EPOCH: 14/100\n",
      "Train loss: 0.387271, Validation loss: 0.6726\n",
      "Train acc: 0.692757, Validation acc: 0.6562\n",
      "best acc => saving\n"
     ]
    },
    {
     "name": "stderr",
     "output_type": "stream",
     "text": [
      " 15%|█████▊                                 | 15/100 [36:02<3:22:27, 142.91s/it]"
     ]
    },
    {
     "name": "stdout",
     "output_type": "stream",
     "text": [
      "[INFO] EPOCH: 15/100\n",
      "Train loss: 0.391234, Validation loss: 0.6823\n",
      "Train acc: 0.689185, Validation acc: 0.6228\n"
     ]
    },
    {
     "name": "stderr",
     "output_type": "stream",
     "text": [
      "\r",
      " 16%|██████▏                                | 16/100 [38:22<3:18:44, 141.96s/it]"
     ]
    },
    {
     "name": "stdout",
     "output_type": "stream",
     "text": [
      "[INFO] EPOCH: 16/100\n",
      "Train loss: 0.378086, Validation loss: 0.7392\n",
      "Train acc: 0.697921, Validation acc: 0.5540\n"
     ]
    },
    {
     "name": "stderr",
     "output_type": "stream",
     "text": [
      "\r",
      " 17%|██████▋                                | 17/100 [40:44<3:16:12, 141.83s/it]"
     ]
    },
    {
     "name": "stdout",
     "output_type": "stream",
     "text": [
      "[INFO] EPOCH: 17/100\n",
      "Train loss: 0.369140, Validation loss: 0.6684\n",
      "Train acc: 0.703537, Validation acc: 0.5354\n"
     ]
    },
    {
     "name": "stderr",
     "output_type": "stream",
     "text": [
      "\r",
      " 18%|███████                                | 18/100 [43:06<3:14:04, 142.00s/it]"
     ]
    },
    {
     "name": "stdout",
     "output_type": "stream",
     "text": [
      "[INFO] EPOCH: 18/100\n",
      "Train loss: 0.357197, Validation loss: 0.7255\n",
      "Train acc: 0.710430, Validation acc: 0.6405\n"
     ]
    },
    {
     "name": "stderr",
     "output_type": "stream",
     "text": [
      "\r",
      " 19%|███████▍                               | 19/100 [45:26<3:10:56, 141.44s/it]"
     ]
    },
    {
     "name": "stdout",
     "output_type": "stream",
     "text": [
      "[INFO] EPOCH: 19/100\n",
      "Train loss: 0.350823, Validation loss: 0.6481\n",
      "Train acc: 0.712883, Validation acc: 0.6145\n"
     ]
    },
    {
     "name": "stderr",
     "output_type": "stream",
     "text": [
      "\r",
      " 20%|███████▊                               | 20/100 [47:46<3:07:47, 140.85s/it]"
     ]
    },
    {
     "name": "stdout",
     "output_type": "stream",
     "text": [
      "[INFO] EPOCH: 20/100\n",
      "Train loss: 0.344460, Validation loss: 0.7101\n",
      "Train acc: 0.719852, Validation acc: 0.6081\n"
     ]
    },
    {
     "name": "stderr",
     "output_type": "stream",
     "text": [
      "\r",
      " 21%|████████▏                              | 21/100 [50:05<3:04:58, 140.48s/it]"
     ]
    },
    {
     "name": "stdout",
     "output_type": "stream",
     "text": [
      "[INFO] EPOCH: 21/100\n",
      "Train loss: 0.340707, Validation loss: 0.7047\n",
      "Train acc: 0.721898, Validation acc: 0.6204\n"
     ]
    },
    {
     "name": "stderr",
     "output_type": "stream",
     "text": [
      "\r",
      " 22%|████████▌                              | 22/100 [52:25<3:02:20, 140.27s/it]"
     ]
    },
    {
     "name": "stdout",
     "output_type": "stream",
     "text": [
      "[INFO] EPOCH: 22/100\n",
      "Train loss: 0.328398, Validation loss: 0.7337\n",
      "Train acc: 0.728415, Validation acc: 0.5693\n"
     ]
    },
    {
     "name": "stderr",
     "output_type": "stream",
     "text": [
      "\r",
      " 23%|████████▉                              | 23/100 [54:45<2:59:49, 140.13s/it]"
     ]
    },
    {
     "name": "stdout",
     "output_type": "stream",
     "text": [
      "[INFO] EPOCH: 23/100\n",
      "Train loss: 0.325092, Validation loss: 0.7811\n",
      "Train acc: 0.732737, Validation acc: 0.5868\n",
      "[INFO] EPOCH: 24/100\n",
      "Train loss: 0.318883, Validation loss: 0.5958\n",
      "Train acc: 0.734779, Validation acc: 0.6590\n",
      "best loss => saving\n",
      "best acc => saving\n"
     ]
    },
    {
     "name": "stderr",
     "output_type": "stream",
     "text": [
      " 25%|█████████▊                             | 25/100 [59:25<2:55:08, 140.11s/it]"
     ]
    },
    {
     "name": "stdout",
     "output_type": "stream",
     "text": [
      "[INFO] EPOCH: 25/100\n",
      "Train loss: 0.304636, Validation loss: 0.7247\n",
      "Train acc: 0.744157, Validation acc: 0.6161\n"
     ]
    },
    {
     "name": "stderr",
     "output_type": "stream",
     "text": [
      "\r",
      " 26%|█████████▌                           | 26/100 [1:01:45<2:52:43, 140.05s/it]"
     ]
    },
    {
     "name": "stdout",
     "output_type": "stream",
     "text": [
      "[INFO] EPOCH: 26/100\n",
      "Train loss: 0.302586, Validation loss: 0.7633\n",
      "Train acc: 0.746693, Validation acc: 0.5882\n"
     ]
    },
    {
     "name": "stderr",
     "output_type": "stream",
     "text": [
      "\r",
      " 27%|█████████▉                           | 27/100 [1:04:05<2:50:22, 140.04s/it]"
     ]
    },
    {
     "name": "stdout",
     "output_type": "stream",
     "text": [
      "[INFO] EPOCH: 27/100\n",
      "Train loss: 0.292314, Validation loss: 0.6990\n",
      "Train acc: 0.751218, Validation acc: 0.6051\n"
     ]
    },
    {
     "name": "stderr",
     "output_type": "stream",
     "text": [
      "\r",
      " 28%|██████████▎                          | 28/100 [1:06:25<2:47:52, 139.90s/it]"
     ]
    },
    {
     "name": "stdout",
     "output_type": "stream",
     "text": [
      "[INFO] EPOCH: 28/100\n",
      "Train loss: 0.278356, Validation loss: 0.8649\n",
      "Train acc: 0.761751, Validation acc: 0.5338\n"
     ]
    },
    {
     "name": "stderr",
     "output_type": "stream",
     "text": [
      "\r",
      " 29%|██████████▋                          | 29/100 [1:08:45<2:45:33, 139.91s/it]"
     ]
    },
    {
     "name": "stdout",
     "output_type": "stream",
     "text": [
      "[INFO] EPOCH: 29/100\n",
      "Train loss: 0.271059, Validation loss: 0.6738\n",
      "Train acc: 0.766131, Validation acc: 0.5830\n"
     ]
    },
    {
     "name": "stderr",
     "output_type": "stream",
     "text": [
      "\r",
      " 30%|███████████                          | 30/100 [1:11:04<2:43:06, 139.80s/it]"
     ]
    },
    {
     "name": "stdout",
     "output_type": "stream",
     "text": [
      "[INFO] EPOCH: 30/100\n",
      "Train loss: 0.264467, Validation loss: 0.6738\n",
      "Train acc: 0.771075, Validation acc: 0.6558\n"
     ]
    },
    {
     "name": "stderr",
     "output_type": "stream",
     "text": [
      "\r",
      " 31%|███████████▍                         | 31/100 [1:13:24<2:40:51, 139.88s/it]"
     ]
    },
    {
     "name": "stdout",
     "output_type": "stream",
     "text": [
      "[INFO] EPOCH: 31/100\n",
      "Train loss: 0.245079, Validation loss: 0.8685\n",
      "Train acc: 0.781439, Validation acc: 0.5618\n"
     ]
    },
    {
     "name": "stderr",
     "output_type": "stream",
     "text": [
      "\r",
      " 32%|███████████▊                         | 32/100 [1:15:44<2:38:29, 139.84s/it]"
     ]
    },
    {
     "name": "stdout",
     "output_type": "stream",
     "text": [
      "[INFO] EPOCH: 32/100\n",
      "Train loss: 0.238993, Validation loss: 0.8718\n",
      "Train acc: 0.787099, Validation acc: 0.5670\n"
     ]
    },
    {
     "name": "stderr",
     "output_type": "stream",
     "text": [
      "\r",
      " 33%|████████████▏                        | 33/100 [1:18:05<2:36:34, 140.22s/it]"
     ]
    },
    {
     "name": "stdout",
     "output_type": "stream",
     "text": [
      "[INFO] EPOCH: 33/100\n",
      "Train loss: 0.238741, Validation loss: 0.6562\n",
      "Train acc: 0.790520, Validation acc: 0.6257\n"
     ]
    },
    {
     "name": "stderr",
     "output_type": "stream",
     "text": [
      "\r",
      " 34%|████████████▌                        | 34/100 [1:20:36<2:37:45, 143.42s/it]"
     ]
    },
    {
     "name": "stdout",
     "output_type": "stream",
     "text": [
      "[INFO] EPOCH: 34/100\n",
      "Train loss: 0.219724, Validation loss: 0.8099\n",
      "Train acc: 0.801849, Validation acc: 0.5760\n"
     ]
    },
    {
     "name": "stderr",
     "output_type": "stream",
     "text": [
      "\r",
      " 35%|████████████▉                        | 35/100 [1:23:08<2:38:05, 145.93s/it]"
     ]
    },
    {
     "name": "stdout",
     "output_type": "stream",
     "text": [
      "[INFO] EPOCH: 35/100\n",
      "Train loss: 0.205092, Validation loss: 0.6716\n",
      "Train acc: 0.812025, Validation acc: 0.6451\n"
     ]
    },
    {
     "name": "stderr",
     "output_type": "stream",
     "text": [
      "\r",
      " 36%|█████████████▎                       | 36/100 [1:25:42<2:38:18, 148.41s/it]"
     ]
    },
    {
     "name": "stdout",
     "output_type": "stream",
     "text": [
      "[INFO] EPOCH: 36/100\n",
      "Train loss: 0.191795, Validation loss: 1.0848\n",
      "Train acc: 0.822828, Validation acc: 0.4784\n"
     ]
    },
    {
     "name": "stderr",
     "output_type": "stream",
     "text": [
      "\r",
      " 37%|█████████████▋                       | 37/100 [1:28:14<2:37:00, 149.54s/it]"
     ]
    },
    {
     "name": "stdout",
     "output_type": "stream",
     "text": [
      "[INFO] EPOCH: 37/100\n",
      "Train loss: 0.189439, Validation loss: 0.9394\n",
      "Train acc: 0.826762, Validation acc: 0.5098\n"
     ]
    },
    {
     "name": "stderr",
     "output_type": "stream",
     "text": [
      "\r",
      " 38%|██████████████                       | 38/100 [1:30:36<2:32:18, 147.39s/it]"
     ]
    },
    {
     "name": "stdout",
     "output_type": "stream",
     "text": [
      "[INFO] EPOCH: 38/100\n",
      "Train loss: 0.179878, Validation loss: 0.9091\n",
      "Train acc: 0.833293, Validation acc: 0.5246\n"
     ]
    },
    {
     "name": "stderr",
     "output_type": "stream",
     "text": [
      "\r",
      " 39%|██████████████▍                      | 39/100 [1:32:57<2:27:46, 145.36s/it]"
     ]
    },
    {
     "name": "stdout",
     "output_type": "stream",
     "text": [
      "[INFO] EPOCH: 39/100\n",
      "Train loss: 0.174687, Validation loss: 1.2924\n",
      "Train acc: 0.839854, Validation acc: 0.5231\n"
     ]
    },
    {
     "name": "stderr",
     "output_type": "stream",
     "text": [
      "\r",
      " 40%|██████████████▊                      | 40/100 [1:35:17<2:23:34, 143.58s/it]"
     ]
    },
    {
     "name": "stdout",
     "output_type": "stream",
     "text": [
      "[INFO] EPOCH: 40/100\n",
      "Train loss: 0.155210, Validation loss: 0.8111\n",
      "Train acc: 0.853985, Validation acc: 0.6074\n"
     ]
    },
    {
     "name": "stderr",
     "output_type": "stream",
     "text": [
      "\r",
      " 41%|███████████████▏                     | 41/100 [1:37:38<2:20:32, 142.92s/it]"
     ]
    },
    {
     "name": "stdout",
     "output_type": "stream",
     "text": [
      "[INFO] EPOCH: 41/100\n",
      "Train loss: 0.153458, Validation loss: 1.4434\n",
      "Train acc: 0.856433, Validation acc: 0.5494\n"
     ]
    },
    {
     "name": "stderr",
     "output_type": "stream",
     "text": [
      "\r",
      " 42%|███████████████▌                     | 42/100 [1:39:57<2:17:10, 141.90s/it]"
     ]
    },
    {
     "name": "stdout",
     "output_type": "stream",
     "text": [
      "[INFO] EPOCH: 42/100\n",
      "Train loss: 0.135429, Validation loss: 1.1032\n",
      "Train acc: 0.872598, Validation acc: 0.5194\n"
     ]
    },
    {
     "name": "stderr",
     "output_type": "stream",
     "text": [
      "\r",
      " 43%|███████████████▉                     | 43/100 [1:42:17<2:14:07, 141.18s/it]"
     ]
    },
    {
     "name": "stdout",
     "output_type": "stream",
     "text": [
      "[INFO] EPOCH: 43/100\n",
      "Train loss: 0.127679, Validation loss: 0.7776\n",
      "Train acc: 0.880035, Validation acc: 0.5882\n"
     ]
    },
    {
     "name": "stderr",
     "output_type": "stream",
     "text": [
      "\r",
      " 44%|████████████████▎                    | 44/100 [1:44:38<2:11:42, 141.11s/it]"
     ]
    },
    {
     "name": "stdout",
     "output_type": "stream",
     "text": [
      "[INFO] EPOCH: 44/100\n",
      "Train loss: 0.128699, Validation loss: 1.0294\n",
      "Train acc: 0.880268, Validation acc: 0.5028\n"
     ]
    },
    {
     "name": "stderr",
     "output_type": "stream",
     "text": [
      "\r",
      " 45%|████████████████▋                    | 45/100 [1:46:58<2:08:58, 140.70s/it]"
     ]
    },
    {
     "name": "stdout",
     "output_type": "stream",
     "text": [
      "[INFO] EPOCH: 45/100\n",
      "Train loss: 0.114029, Validation loss: 0.8480\n",
      "Train acc: 0.891479, Validation acc: 0.5718\n"
     ]
    },
    {
     "name": "stderr",
     "output_type": "stream",
     "text": [
      "\r",
      " 46%|█████████████████                    | 46/100 [1:49:17<2:06:12, 140.24s/it]"
     ]
    },
    {
     "name": "stdout",
     "output_type": "stream",
     "text": [
      "[INFO] EPOCH: 46/100\n",
      "Train loss: 0.096818, Validation loss: 0.9826\n",
      "Train acc: 0.907335, Validation acc: 0.5094\n"
     ]
    },
    {
     "name": "stderr",
     "output_type": "stream",
     "text": [
      "\r",
      " 47%|█████████████████▍                   | 47/100 [1:51:36<2:03:42, 140.04s/it]"
     ]
    },
    {
     "name": "stdout",
     "output_type": "stream",
     "text": [
      "[INFO] EPOCH: 47/100\n",
      "Train loss: 0.093445, Validation loss: 0.9621\n",
      "Train acc: 0.910607, Validation acc: 0.5936\n"
     ]
    },
    {
     "name": "stderr",
     "output_type": "stream",
     "text": [
      "\r",
      " 48%|█████████████████▊                   | 48/100 [1:53:56<2:01:14, 139.90s/it]"
     ]
    },
    {
     "name": "stdout",
     "output_type": "stream",
     "text": [
      "[INFO] EPOCH: 48/100\n",
      "Train loss: 0.082035, Validation loss: 0.9427\n",
      "Train acc: 0.920685, Validation acc: 0.5976\n"
     ]
    },
    {
     "name": "stderr",
     "output_type": "stream",
     "text": [
      "\r",
      " 49%|██████████████████▏                  | 49/100 [1:56:15<1:58:43, 139.68s/it]"
     ]
    },
    {
     "name": "stdout",
     "output_type": "stream",
     "text": [
      "[INFO] EPOCH: 49/100\n",
      "Train loss: 0.086378, Validation loss: 0.8333\n",
      "Train acc: 0.919732, Validation acc: 0.6380\n",
      "[INFO] EPOCH: 50/100\n",
      "Train loss: 0.085719, Validation loss: 1.0841\n",
      "Train acc: 0.919852, Validation acc: 0.5227\n",
      "SAVING\n"
     ]
    },
    {
     "name": "stderr",
     "output_type": "stream",
     "text": [
      " 51%|██████████████████▊                  | 51/100 [2:00:55<1:54:10, 139.81s/it]"
     ]
    },
    {
     "name": "stdout",
     "output_type": "stream",
     "text": [
      "[INFO] EPOCH: 51/100\n",
      "Train loss: 0.081142, Validation loss: 0.9969\n",
      "Train acc: 0.924508, Validation acc: 0.5233\n"
     ]
    },
    {
     "name": "stderr",
     "output_type": "stream",
     "text": [
      "\r",
      " 52%|███████████████████▏                 | 52/100 [2:03:14<1:51:42, 139.63s/it]"
     ]
    },
    {
     "name": "stdout",
     "output_type": "stream",
     "text": [
      "[INFO] EPOCH: 52/100\n",
      "Train loss: 0.074110, Validation loss: 1.1244\n",
      "Train acc: 0.930310, Validation acc: 0.5118\n"
     ]
    },
    {
     "name": "stderr",
     "output_type": "stream",
     "text": [
      "\r",
      " 53%|███████████████████▌                 | 53/100 [2:05:35<1:49:38, 139.98s/it]"
     ]
    },
    {
     "name": "stdout",
     "output_type": "stream",
     "text": [
      "[INFO] EPOCH: 53/100\n",
      "Train loss: 0.071815, Validation loss: 1.1386\n",
      "Train acc: 0.932322, Validation acc: 0.4938\n"
     ]
    },
    {
     "name": "stderr",
     "output_type": "stream",
     "text": [
      "\r",
      " 54%|███████████████████▉                 | 54/100 [2:07:55<1:47:14, 139.87s/it]"
     ]
    },
    {
     "name": "stdout",
     "output_type": "stream",
     "text": [
      "[INFO] EPOCH: 54/100\n",
      "Train loss: 0.063783, Validation loss: 0.8958\n",
      "Train acc: 0.939435, Validation acc: 0.5830\n",
      "[INFO] EPOCH: 55/100\n",
      "Train loss: 0.057881, Validation loss: 0.8836\n",
      "Train acc: 0.943705, Validation acc: 0.6708\n",
      "best acc => saving\n"
     ]
    },
    {
     "name": "stderr",
     "output_type": "stream",
     "text": [
      " 56%|████████████████████▋                | 56/100 [2:12:33<1:42:20, 139.57s/it]"
     ]
    },
    {
     "name": "stdout",
     "output_type": "stream",
     "text": [
      "[INFO] EPOCH: 56/100\n",
      "Train loss: 0.059074, Validation loss: 1.0459\n",
      "Train acc: 0.944600, Validation acc: 0.6011\n"
     ]
    },
    {
     "name": "stderr",
     "output_type": "stream",
     "text": [
      "\r",
      " 57%|█████████████████████                | 57/100 [2:14:53<1:40:05, 139.65s/it]"
     ]
    },
    {
     "name": "stdout",
     "output_type": "stream",
     "text": [
      "[INFO] EPOCH: 57/100\n",
      "Train loss: 0.058352, Validation loss: 0.9345\n",
      "Train acc: 0.945199, Validation acc: 0.6313\n"
     ]
    },
    {
     "name": "stderr",
     "output_type": "stream",
     "text": [
      "\r",
      " 58%|█████████████████████▍               | 58/100 [2:17:12<1:37:33, 139.36s/it]"
     ]
    },
    {
     "name": "stdout",
     "output_type": "stream",
     "text": [
      "[INFO] EPOCH: 58/100\n",
      "Train loss: 0.053816, Validation loss: 1.0316\n",
      "Train acc: 0.950322, Validation acc: 0.5387\n"
     ]
    },
    {
     "name": "stderr",
     "output_type": "stream",
     "text": [
      "\r",
      " 59%|█████████████████████▊               | 59/100 [2:19:31<1:35:10, 139.28s/it]"
     ]
    },
    {
     "name": "stdout",
     "output_type": "stream",
     "text": [
      "[INFO] EPOCH: 59/100\n",
      "Train loss: 0.046231, Validation loss: 1.0443\n",
      "Train acc: 0.956921, Validation acc: 0.5529\n"
     ]
    },
    {
     "name": "stderr",
     "output_type": "stream",
     "text": [
      "\r",
      " 60%|██████████████████████▏              | 60/100 [2:21:50<1:32:48, 139.20s/it]"
     ]
    },
    {
     "name": "stdout",
     "output_type": "stream",
     "text": [
      "[INFO] EPOCH: 60/100\n",
      "Train loss: 0.039838, Validation loss: 1.0286\n",
      "Train acc: 0.959596, Validation acc: 0.5620\n"
     ]
    },
    {
     "name": "stderr",
     "output_type": "stream",
     "text": [
      "\r",
      " 61%|██████████████████████▌              | 61/100 [2:24:09<1:30:23, 139.08s/it]"
     ]
    },
    {
     "name": "stdout",
     "output_type": "stream",
     "text": [
      "[INFO] EPOCH: 61/100\n",
      "Train loss: 0.043760, Validation loss: 1.2103\n",
      "Train acc: 0.958151, Validation acc: 0.5110\n"
     ]
    },
    {
     "name": "stderr",
     "output_type": "stream",
     "text": [
      "\r",
      " 62%|██████████████████████▉              | 62/100 [2:26:28<1:28:05, 139.09s/it]"
     ]
    },
    {
     "name": "stdout",
     "output_type": "stream",
     "text": [
      "[INFO] EPOCH: 62/100\n",
      "Train loss: 0.035600, Validation loss: 1.0043\n",
      "Train acc: 0.963342, Validation acc: 0.6166\n"
     ]
    },
    {
     "name": "stderr",
     "output_type": "stream",
     "text": [
      "\r",
      " 63%|███████████████████████▎             | 63/100 [2:28:49<1:26:03, 139.56s/it]"
     ]
    },
    {
     "name": "stdout",
     "output_type": "stream",
     "text": [
      "[INFO] EPOCH: 63/100\n",
      "Train loss: 0.038277, Validation loss: 1.1112\n",
      "Train acc: 0.962795, Validation acc: 0.5327\n"
     ]
    },
    {
     "name": "stderr",
     "output_type": "stream",
     "text": [
      "\r",
      " 64%|███████████████████████▋             | 64/100 [2:31:10<1:24:03, 140.10s/it]"
     ]
    },
    {
     "name": "stdout",
     "output_type": "stream",
     "text": [
      "[INFO] EPOCH: 64/100\n",
      "Train loss: 0.034140, Validation loss: 1.1817\n",
      "Train acc: 0.965237, Validation acc: 0.5527\n"
     ]
    },
    {
     "name": "stderr",
     "output_type": "stream",
     "text": [
      "\r",
      " 65%|████████████████████████             | 65/100 [2:33:29<1:21:34, 139.86s/it]"
     ]
    },
    {
     "name": "stdout",
     "output_type": "stream",
     "text": [
      "[INFO] EPOCH: 65/100\n",
      "Train loss: 0.032745, Validation loss: 1.3322\n",
      "Train acc: 0.966857, Validation acc: 0.5096\n"
     ]
    },
    {
     "name": "stderr",
     "output_type": "stream",
     "text": [
      "\r",
      " 66%|████████████████████████▍            | 66/100 [2:35:49<1:19:11, 139.74s/it]"
     ]
    },
    {
     "name": "stdout",
     "output_type": "stream",
     "text": [
      "[INFO] EPOCH: 66/100\n",
      "Train loss: 0.032863, Validation loss: 0.9996\n",
      "Train acc: 0.966625, Validation acc: 0.6059\n"
     ]
    },
    {
     "name": "stderr",
     "output_type": "stream",
     "text": [
      "\r",
      " 67%|████████████████████████▊            | 67/100 [2:38:08<1:16:47, 139.62s/it]"
     ]
    },
    {
     "name": "stdout",
     "output_type": "stream",
     "text": [
      "[INFO] EPOCH: 67/100\n",
      "Train loss: 0.030614, Validation loss: 1.1296\n",
      "Train acc: 0.968499, Validation acc: 0.5687\n"
     ]
    },
    {
     "name": "stderr",
     "output_type": "stream",
     "text": [
      "\r",
      " 68%|█████████████████████████▏           | 68/100 [2:40:28<1:14:31, 139.73s/it]"
     ]
    },
    {
     "name": "stdout",
     "output_type": "stream",
     "text": [
      "[INFO] EPOCH: 68/100\n",
      "Train loss: 0.029419, Validation loss: 1.1629\n",
      "Train acc: 0.969829, Validation acc: 0.5691\n"
     ]
    },
    {
     "name": "stderr",
     "output_type": "stream",
     "text": [
      "\r",
      " 69%|█████████████████████████▌           | 69/100 [2:42:47<1:12:04, 139.50s/it]"
     ]
    },
    {
     "name": "stdout",
     "output_type": "stream",
     "text": [
      "[INFO] EPOCH: 69/100\n",
      "Train loss: 0.033113, Validation loss: 1.0652\n",
      "Train acc: 0.967072, Validation acc: 0.5981\n"
     ]
    },
    {
     "name": "stderr",
     "output_type": "stream",
     "text": [
      "\r",
      " 70%|█████████████████████████▉           | 70/100 [2:45:06<1:09:37, 139.25s/it]"
     ]
    },
    {
     "name": "stdout",
     "output_type": "stream",
     "text": [
      "[INFO] EPOCH: 70/100\n",
      "Train loss: 0.029104, Validation loss: 1.0679\n",
      "Train acc: 0.970485, Validation acc: 0.5631\n"
     ]
    },
    {
     "name": "stderr",
     "output_type": "stream",
     "text": [
      "\r",
      " 71%|██████████████████████████▎          | 71/100 [2:47:26<1:07:24, 139.46s/it]"
     ]
    },
    {
     "name": "stdout",
     "output_type": "stream",
     "text": [
      "[INFO] EPOCH: 71/100\n",
      "Train loss: 0.032303, Validation loss: 1.3197\n",
      "Train acc: 0.967897, Validation acc: 0.4783\n"
     ]
    },
    {
     "name": "stderr",
     "output_type": "stream",
     "text": [
      "\r",
      " 72%|██████████████████████████▋          | 72/100 [2:49:51<1:05:53, 141.19s/it]"
     ]
    },
    {
     "name": "stdout",
     "output_type": "stream",
     "text": [
      "[INFO] EPOCH: 72/100\n",
      "Train loss: 0.026663, Validation loss: 1.1174\n",
      "Train acc: 0.972702, Validation acc: 0.5689\n"
     ]
    },
    {
     "name": "stderr",
     "output_type": "stream",
     "text": [
      "\r",
      " 73%|███████████████████████████          | 73/100 [2:52:32<1:06:13, 147.15s/it]"
     ]
    },
    {
     "name": "stdout",
     "output_type": "stream",
     "text": [
      "[INFO] EPOCH: 73/100\n",
      "Train loss: 0.022765, Validation loss: 1.2052\n",
      "Train acc: 0.975215, Validation acc: 0.5660\n"
     ]
    },
    {
     "name": "stderr",
     "output_type": "stream",
     "text": [
      "\r",
      " 74%|███████████████████████████▍         | 74/100 [2:54:52<1:02:53, 145.14s/it]"
     ]
    },
    {
     "name": "stdout",
     "output_type": "stream",
     "text": [
      "[INFO] EPOCH: 74/100\n",
      "Train loss: 0.024717, Validation loss: 0.9252\n",
      "Train acc: 0.973565, Validation acc: 0.6288\n"
     ]
    },
    {
     "name": "stderr",
     "output_type": "stream",
     "text": [
      "\r",
      " 75%|█████████████████████████████▎         | 75/100 [2:57:12<59:46, 143.44s/it]"
     ]
    },
    {
     "name": "stdout",
     "output_type": "stream",
     "text": [
      "[INFO] EPOCH: 75/100\n",
      "Train loss: 0.025379, Validation loss: 1.0157\n",
      "Train acc: 0.973863, Validation acc: 0.5609\n"
     ]
    },
    {
     "name": "stderr",
     "output_type": "stream",
     "text": [
      "\r",
      " 76%|█████████████████████████████▋         | 76/100 [2:59:32<56:57, 142.40s/it]"
     ]
    },
    {
     "name": "stdout",
     "output_type": "stream",
     "text": [
      "[INFO] EPOCH: 76/100\n",
      "Train loss: 0.024839, Validation loss: 1.0748\n",
      "Train acc: 0.974090, Validation acc: 0.6012\n"
     ]
    },
    {
     "name": "stderr",
     "output_type": "stream",
     "text": [
      "\r",
      " 77%|██████████████████████████████         | 77/100 [3:01:52<54:16, 141.60s/it]"
     ]
    },
    {
     "name": "stdout",
     "output_type": "stream",
     "text": [
      "[INFO] EPOCH: 77/100\n",
      "Train loss: 0.029873, Validation loss: 1.0378\n",
      "Train acc: 0.970575, Validation acc: 0.6244\n"
     ]
    },
    {
     "name": "stderr",
     "output_type": "stream",
     "text": [
      "\r",
      " 78%|██████████████████████████████▍        | 78/100 [3:04:19<52:34, 143.41s/it]"
     ]
    },
    {
     "name": "stdout",
     "output_type": "stream",
     "text": [
      "[INFO] EPOCH: 78/100\n",
      "Train loss: 0.022562, Validation loss: 1.1212\n",
      "Train acc: 0.975862, Validation acc: 0.6044\n"
     ]
    },
    {
     "name": "stderr",
     "output_type": "stream",
     "text": [
      "\r",
      " 79%|██████████████████████████████▊        | 79/100 [3:06:55<51:29, 147.10s/it]"
     ]
    },
    {
     "name": "stdout",
     "output_type": "stream",
     "text": [
      "[INFO] EPOCH: 79/100\n",
      "Train loss: 0.020359, Validation loss: 1.1523\n",
      "Train acc: 0.977544, Validation acc: 0.5804\n"
     ]
    },
    {
     "name": "stderr",
     "output_type": "stream",
     "text": [
      "\r",
      " 80%|███████████████████████████████▏       | 80/100 [3:09:56<52:27, 157.39s/it]"
     ]
    },
    {
     "name": "stdout",
     "output_type": "stream",
     "text": [
      "[INFO] EPOCH: 80/100\n",
      "Train loss: 0.022125, Validation loss: 0.9510\n",
      "Train acc: 0.977170, Validation acc: 0.6255\n"
     ]
    },
    {
     "name": "stderr",
     "output_type": "stream",
     "text": [
      "\r",
      " 81%|███████████████████████████████▌       | 81/100 [3:12:18<48:22, 152.76s/it]"
     ]
    },
    {
     "name": "stdout",
     "output_type": "stream",
     "text": [
      "[INFO] EPOCH: 81/100\n",
      "Train loss: 0.018808, Validation loss: 1.1572\n",
      "Train acc: 0.979035, Validation acc: 0.6008\n"
     ]
    },
    {
     "name": "stderr",
     "output_type": "stream",
     "text": [
      "\r",
      " 82%|███████████████████████████████▉       | 82/100 [3:14:38<44:37, 148.76s/it]"
     ]
    },
    {
     "name": "stdout",
     "output_type": "stream",
     "text": [
      "[INFO] EPOCH: 82/100\n",
      "Train loss: 0.021386, Validation loss: 1.1360\n",
      "Train acc: 0.977203, Validation acc: 0.5919\n"
     ]
    },
    {
     "name": "stderr",
     "output_type": "stream",
     "text": [
      "\r",
      " 83%|████████████████████████████████▎      | 83/100 [3:16:57<41:21, 145.98s/it]"
     ]
    },
    {
     "name": "stdout",
     "output_type": "stream",
     "text": [
      "[INFO] EPOCH: 83/100\n",
      "Train loss: 0.020024, Validation loss: 1.3261\n",
      "Train acc: 0.977572, Validation acc: 0.5210\n"
     ]
    },
    {
     "name": "stderr",
     "output_type": "stream",
     "text": [
      "\r",
      " 84%|████████████████████████████████▊      | 84/100 [3:19:19<38:36, 144.79s/it]"
     ]
    },
    {
     "name": "stdout",
     "output_type": "stream",
     "text": [
      "[INFO] EPOCH: 84/100\n",
      "Train loss: 0.017769, Validation loss: 1.4648\n",
      "Train acc: 0.979638, Validation acc: 0.5128\n"
     ]
    },
    {
     "name": "stderr",
     "output_type": "stream",
     "text": [
      "\r",
      " 85%|█████████████████████████████████▏     | 85/100 [3:21:41<35:56, 143.79s/it]"
     ]
    },
    {
     "name": "stdout",
     "output_type": "stream",
     "text": [
      "[INFO] EPOCH: 85/100\n",
      "Train loss: 0.020171, Validation loss: 1.2938\n",
      "Train acc: 0.978310, Validation acc: 0.5339\n"
     ]
    },
    {
     "name": "stderr",
     "output_type": "stream",
     "text": [
      "\r",
      " 86%|█████████████████████████████████▌     | 86/100 [3:24:02<33:23, 143.13s/it]"
     ]
    },
    {
     "name": "stdout",
     "output_type": "stream",
     "text": [
      "[INFO] EPOCH: 86/100\n",
      "Train loss: 0.019036, Validation loss: 1.3940\n",
      "Train acc: 0.979522, Validation acc: 0.4607\n"
     ]
    },
    {
     "name": "stderr",
     "output_type": "stream",
     "text": [
      "\r",
      " 87%|█████████████████████████████████▉     | 87/100 [3:26:21<30:44, 141.90s/it]"
     ]
    },
    {
     "name": "stdout",
     "output_type": "stream",
     "text": [
      "[INFO] EPOCH: 87/100\n",
      "Train loss: 0.019146, Validation loss: 1.1529\n",
      "Train acc: 0.978491, Validation acc: 0.6184\n"
     ]
    },
    {
     "name": "stderr",
     "output_type": "stream",
     "text": [
      "\r",
      " 88%|██████████████████████████████████▎    | 88/100 [3:28:41<28:13, 141.14s/it]"
     ]
    },
    {
     "name": "stdout",
     "output_type": "stream",
     "text": [
      "[INFO] EPOCH: 88/100\n",
      "Train loss: 0.019810, Validation loss: 1.2523\n",
      "Train acc: 0.978301, Validation acc: 0.5430\n"
     ]
    },
    {
     "name": "stderr",
     "output_type": "stream",
     "text": [
      "\r",
      " 89%|██████████████████████████████████▋    | 89/100 [3:31:00<25:45, 140.48s/it]"
     ]
    },
    {
     "name": "stdout",
     "output_type": "stream",
     "text": [
      "[INFO] EPOCH: 89/100\n",
      "Train loss: 0.017160, Validation loss: 1.2087\n",
      "Train acc: 0.980174, Validation acc: 0.5589\n"
     ]
    },
    {
     "name": "stderr",
     "output_type": "stream",
     "text": [
      "\r",
      " 90%|███████████████████████████████████    | 90/100 [3:33:19<23:21, 140.13s/it]"
     ]
    },
    {
     "name": "stdout",
     "output_type": "stream",
     "text": [
      "[INFO] EPOCH: 90/100\n",
      "Train loss: 0.018789, Validation loss: 1.1769\n",
      "Train acc: 0.979508, Validation acc: 0.5623\n"
     ]
    },
    {
     "name": "stderr",
     "output_type": "stream",
     "text": [
      "\r",
      " 91%|███████████████████████████████████▍   | 91/100 [3:35:40<21:02, 140.30s/it]"
     ]
    },
    {
     "name": "stdout",
     "output_type": "stream",
     "text": [
      "[INFO] EPOCH: 91/100\n",
      "Train loss: 0.016902, Validation loss: 1.1350\n",
      "Train acc: 0.980712, Validation acc: 0.5933\n"
     ]
    },
    {
     "name": "stderr",
     "output_type": "stream",
     "text": [
      "\r",
      " 92%|███████████████████████████████████▉   | 92/100 [3:38:03<18:49, 141.14s/it]"
     ]
    },
    {
     "name": "stdout",
     "output_type": "stream",
     "text": [
      "[INFO] EPOCH: 92/100\n",
      "Train loss: 0.017781, Validation loss: 1.4863\n",
      "Train acc: 0.980273, Validation acc: 0.5010\n"
     ]
    },
    {
     "name": "stderr",
     "output_type": "stream",
     "text": [
      "\r",
      " 93%|████████████████████████████████████▎  | 93/100 [3:40:27<16:35, 142.16s/it]"
     ]
    },
    {
     "name": "stdout",
     "output_type": "stream",
     "text": [
      "[INFO] EPOCH: 93/100\n",
      "Train loss: 0.022871, Validation loss: 1.1378\n",
      "Train acc: 0.976601, Validation acc: 0.5719\n"
     ]
    },
    {
     "name": "stderr",
     "output_type": "stream",
     "text": [
      "\r",
      " 94%|████████████████████████████████████▋  | 94/100 [3:43:00<14:32, 145.41s/it]"
     ]
    },
    {
     "name": "stdout",
     "output_type": "stream",
     "text": [
      "[INFO] EPOCH: 94/100\n",
      "Train loss: 0.022050, Validation loss: 1.0565\n",
      "Train acc: 0.976494, Validation acc: 0.5808\n"
     ]
    },
    {
     "name": "stderr",
     "output_type": "stream",
     "text": [
      "\r",
      " 95%|█████████████████████████████████████  | 95/100 [3:45:29<12:12, 146.43s/it]"
     ]
    },
    {
     "name": "stdout",
     "output_type": "stream",
     "text": [
      "[INFO] EPOCH: 95/100\n",
      "Train loss: 0.025452, Validation loss: 1.1153\n",
      "Train acc: 0.973531, Validation acc: 0.5369\n"
     ]
    },
    {
     "name": "stderr",
     "output_type": "stream",
     "text": [
      "\r",
      " 96%|█████████████████████████████████████▍ | 96/100 [3:47:50<09:39, 144.90s/it]"
     ]
    },
    {
     "name": "stdout",
     "output_type": "stream",
     "text": [
      "[INFO] EPOCH: 96/100\n",
      "Train loss: 0.020442, Validation loss: 1.1989\n",
      "Train acc: 0.978237, Validation acc: 0.5832\n"
     ]
    },
    {
     "name": "stderr",
     "output_type": "stream",
     "text": [
      "\r",
      " 97%|█████████████████████████████████████▊ | 97/100 [3:50:13<07:12, 144.24s/it]"
     ]
    },
    {
     "name": "stdout",
     "output_type": "stream",
     "text": [
      "[INFO] EPOCH: 97/100\n",
      "Train loss: 0.016754, Validation loss: 1.2761\n",
      "Train acc: 0.981081, Validation acc: 0.4972\n"
     ]
    },
    {
     "name": "stderr",
     "output_type": "stream",
     "text": [
      "\r",
      " 98%|██████████████████████████████████████▏| 98/100 [3:52:33<04:45, 142.86s/it]"
     ]
    },
    {
     "name": "stdout",
     "output_type": "stream",
     "text": [
      "[INFO] EPOCH: 98/100\n",
      "Train loss: 0.014042, Validation loss: 1.1111\n",
      "Train acc: 0.983213, Validation acc: 0.5597\n"
     ]
    },
    {
     "name": "stderr",
     "output_type": "stream",
     "text": [
      "\r",
      " 99%|██████████████████████████████████████▌| 99/100 [3:54:53<02:22, 142.11s/it]"
     ]
    },
    {
     "name": "stdout",
     "output_type": "stream",
     "text": [
      "[INFO] EPOCH: 99/100\n",
      "Train loss: 0.014480, Validation loss: 1.1143\n",
      "Train acc: 0.983355, Validation acc: 0.6156\n",
      "[INFO] EPOCH: 100/100\n",
      "Train loss: 0.013315, Validation loss: 1.0061\n",
      "Train acc: 0.983929, Validation acc: 0.6264\n",
      "SAVING\n"
     ]
    },
    {
     "name": "stderr",
     "output_type": "stream",
     "text": [
      "100%|██████████████████████████████████████| 100/100 [3:57:14<00:00, 142.34s/it]"
     ]
    },
    {
     "name": "stdout",
     "output_type": "stream",
     "text": [
      "[INFO] total time taken to train the model: 14234.40s\n"
     ]
    },
    {
     "name": "stderr",
     "output_type": "stream",
     "text": [
      "\n"
     ]
    }
   ],
   "source": [
    "# loop over epochs\n",
    "NUM_EPOCHS = 100\n",
    "print(\"[INFO] training the network...\")\n",
    "startTime = time.time()\n",
    "for e in tqdm(range(NUM_EPOCHS)):\n",
    "    # set the model in training mode\n",
    "    unet.train()\n",
    "    # initialize the total training and validation loss\n",
    "    totalTrainLoss = 0\n",
    "    totalValLoss = 0\n",
    "    totalTrainAcc = 0\n",
    "    totalValAcc = 0\n",
    "    # loop over the training set\n",
    "    for (i, (x, y)) in enumerate(train_dl):\n",
    "        # send the input to the device\n",
    "        (x, y) = (x.to(DEVICE), y.to(DEVICE))\n",
    "        # perform a forward pass and calculate the training loss\n",
    "        pred = unet(x)\n",
    "        y = y.to(torch.long)\n",
    "        y = y.squeeze()\n",
    "        \n",
    "        loss, acc = lossFunc(pred, y)\n",
    "        \n",
    "        # first, zero out any previously accumulated gradients, then\n",
    "        # perform backpropagation, and then update model parameters\n",
    "        opt.zero_grad()\n",
    "        loss.backward()\n",
    "        opt.step()\n",
    "        # add the loss to the total training loss so far\n",
    "        totalTrainLoss += loss\n",
    "        totalTrainAcc += acc\n",
    "    # switch off autograd\n",
    "    with torch.no_grad():\n",
    "        # set the model in evaluation mode\n",
    "        unet.eval()\n",
    "        # loop over the validation set\n",
    "        for (x, y) in val_dl:\n",
    "            # send the input to the device\n",
    "            (x, y) = (x.to(DEVICE), y.to(DEVICE))\n",
    "            # make the predictions and calculate the validation loss\n",
    "            pred = unet(x)\n",
    "            #pred=pred.to(torch.float32)\n",
    "            y = y.to(torch.long)\n",
    "            y = y.squeeze()\n",
    "            \n",
    "            loss, acc = lossFunc(pred, y)\n",
    "            totalValLoss += loss\n",
    "            totalValAcc += acc\n",
    "    # calculate the average training and validation loss\n",
    "    avgTrainLoss = totalTrainLoss / trainSteps\n",
    "    avgValLoss = totalValLoss / valSteps\n",
    "    avgTrainAcc = totalTrainAcc / trainSteps\n",
    "    avgValAcc = totalValAcc / valSteps\n",
    "    # update our training history\n",
    "    H[\"train_loss\"].append(avgTrainLoss.cpu().detach().numpy())\n",
    "    H[\"val_loss\"].append(avgValLoss.cpu().detach().numpy())\n",
    "    H[\"train_acc\"].append(avgTrainAcc.cpu().detach().numpy())\n",
    "    H[\"val_acc\"].append(avgValAcc.cpu().detach().numpy())\n",
    "    # print the model training and validation information\n",
    "    print(\"[INFO] EPOCH: {}/{}\".format(e + 1, NUM_EPOCHS))\n",
    "    print(\"Train loss: {:.6f}, Validation loss: {:.4f}\".format(\n",
    "      avgTrainLoss, avgValLoss))\n",
    "    print(\"Train acc: {:.6f}, Validation acc: {:.4f}\".format(\n",
    "      avgTrainAcc, avgValAcc))\n",
    "    # Save the best model (the one that has the lowest loss for validation)\n",
    "    if (bestValLoss == -1) or (bestValLoss > avgValLoss):\n",
    "        bestValLoss = avgValLoss\n",
    "        print(\"best loss => saving\")\n",
    "        torch.save(unet.state_dict(), f'best_model_{name_for_save}_loss.pth')\n",
    "    if (bestValAcc < avgValAcc):\n",
    "        bestValAcc = avgValAcc\n",
    "        print(\"best acc => saving\")\n",
    "        torch.save(unet.state_dict(), f'best_model_acc_{name_for_save}_loss.pth')\n",
    "    if ((e+1)%50 == 0):\n",
    "        epoch_name = e+1\n",
    "        print(\"SAVING\")\n",
    "        torch.save(unet.state_dict(), f\"unet_model_epoch_{epoch_name}_{name_for_save}_loss.pth\")\n",
    "        torch.save(H, f\"unet_model_epoch_{epoch_name}_{name_for_save}_H.pth\")\n",
    "        \n",
    "# display the total time needed to perform the training\n",
    "endTime = time.time()\n",
    "print(\"[INFO] total time taken to train the model: {:.2f}s\".format(endTime - startTime))"
   ]
  },
  {
   "cell_type": "code",
   "execution_count": 21,
   "id": "9867c3d1",
   "metadata": {},
   "outputs": [],
   "source": [
    "date = datetime.datetime.now()\n",
    "date_ymd = date.date()\n",
    "date_hm = f\"{date.hour}:{date.minute}\""
   ]
  },
  {
   "cell_type": "code",
   "execution_count": 22,
   "id": "a8e72473",
   "metadata": {
    "scrolled": true
   },
   "outputs": [
    {
     "data": {
      "image/png": "[encoded data removed]",
      "text/plain": [
       "<Figure size 640x480 with 1 Axes>"
      ]
     },
     "metadata": {},
     "output_type": "display_data"
    }
   ],
   "source": [
    "plt.style.use(\"ggplot\")\n",
    "plt.figure()\n",
    "plt.plot(H[\"train_loss\"], label=\"train_loss\")\n",
    "plt.plot(H[\"val_loss\"], label=\"val_loss\")\n",
    "plt.title(\"Training Loss on Dataset\")\n",
    "plt.xlabel(\"Epoch #\")\n",
    "plt.ylabel(\"Loss\")\n",
    "plt.legend(loc=\"lower left\")\n",
    "plt.savefig(f\"train_val_loss_{date_ymd}_{date_hm}_{name_for_save}_loss.png\", bbox_inches='tight')"
   ]
  },
  {
   "cell_type": "code",
   "execution_count": 23,
   "id": "a60a71db",
   "metadata": {},
   "outputs": [
    {
     "data": {
      "image/png": "[encoded data removed]",
      "text/plain": [
       "<Figure size 640x480 with 1 Axes>"
      ]
     },
     "metadata": {},
     "output_type": "display_data"
    }
   ],
   "source": [
    "plt.style.use(\"ggplot\")\n",
    "plt.figure()\n",
    "plt.plot(H[\"train_acc\"], label=\"train_acc\")\n",
    "plt.plot(H[\"val_acc\"], label=\"val_acc\")\n",
    "plt.title(\"Training Accuracy on Dataset\")\n",
    "plt.xlabel(\"Epoch #\")\n",
    "plt.ylabel(\"Accuracy\")\n",
    "plt.legend(loc=\"lower left\")\n",
    "plt.savefig(f\"train_val_acc_{date_ymd}_{date_hm}_{name_for_save}_loss.png\", bbox_inches='tight')"
   ]
  },
  {
   "cell_type": "code",
   "execution_count": 24,
   "id": "cef9d296",
   "metadata": {},
   "outputs": [],
   "source": [
    "torch.save(unet.state_dict(), f\"unet_model_{date_ymd}_{date_hm}_{name_for_save}_loss.pth\")\n",
    "torch.save(unet, f\"unet_model_{date_ymd}_{date_hm}_{name_for_save}_loss.pt\")\n",
    "torch.save(H, f\"unet_model_{date_ymd}_{date_hm}_{name_for_save}_loss_dict.pth\")"
   ]
  },
  {
   "cell_type": "code",
   "execution_count": null,
   "id": "2ddf9bad",
   "metadata": {},
   "outputs": [],
   "source": []
  }
 ],
 "metadata": {
  "kernelspec": {
   "display_name": "Python 3 (ipykernel)",
   "language": "python",
   "name": "python3"
  },
  "language_info": {
   "codemirror_mode": {
    "name": "ipython",
    "version": 3
   },
   "file_extension": ".py",
   "mimetype": "text/x-python",
   "name": "python",
   "nbconvert_exporter": "python",
   "pygments_lexer": "ipython3",
   "version": "3.7.7"
  }
 },
 "nbformat": 4,
 "nbformat_minor": 5
}
