{
 "cells": [
  {
   "cell_type": "code",
   "execution_count": 1,
   "id": "740be313",
   "metadata": {},
   "outputs": [
    {
     "name": "stdout",
     "output_type": "stream",
     "text": [
      "Requirement already satisfied: torch in /home/nkaltenr/ipeo_venv/lib/python3.7/site-packages (1.13.1)\n",
      "Collecting torchvision\n",
      "  Using cached torchvision-0.14.1-cp37-cp37m-manylinux1_x86_64.whl (24.2 MB)\n",
      "Collecting torchtext\n",
      "  Using cached torchtext-0.14.1-cp37-cp37m-manylinux1_x86_64.whl (2.0 MB)\n",
      "Collecting pytorch_lightning\n",
      "  Using cached pytorch_lightning-1.8.6-py3-none-any.whl (800 kB)\n",
      "Collecting tensorboard\n",
      "  Using cached tensorboard-2.11.0-py3-none-any.whl (6.0 MB)\n",
      "Requirement already satisfied: matplotlib in /home/nkaltenr/ipeo_venv/lib/python3.7/site-packages (3.5.3)\n",
      "Requirement already satisfied: tqdm in /home/nkaltenr/ipeo_venv/lib/python3.7/site-packages (4.64.1)\n",
      "Collecting datetime\n",
      "  Using cached DateTime-4.9-py2.py3-none-any.whl (52 kB)\n",
      "\u001b[31mERROR: Could not find a version that satisfies the requirement time (from versions: none)\u001b[0m\u001b[31m\n",
      "\u001b[0m\u001b[31mERROR: No matching distribution found for time\u001b[0m\u001b[31m\n",
      "\u001b[0m"
     ]
    }
   ],
   "source": [
    "# USEFUL WHEN RUNNING ON CLUSTER\n",
    "import sys\n",
    "!pip install torch torchvision torchtext pytorch_lightning tensorboard matplotlib tqdm datetime time "
   ]
  },
  {
   "cell_type": "code",
   "execution_count": 1,
   "id": "1516afb7",
   "metadata": {},
   "outputs": [
    {
     "name": "stdout",
     "output_type": "stream",
     "text": [
      "Fri Dec 23 16:16:17 2022       \r\n",
      "+-----------------------------------------------------------------------------+\r\n",
      "| NVIDIA-SMI 455.23.05    Driver Version: 455.23.05    CUDA Version: 11.1     |\r\n",
      "|-------------------------------+----------------------+----------------------+\r\n",
      "| GPU  Name        Persistence-M| Bus-Id        Disp.A | Volatile Uncorr. ECC |\r\n",
      "| Fan  Temp  Perf  Pwr:Usage/Cap|         Memory-Usage | GPU-Util  Compute M. |\r\n",
      "|                               |                      |               MIG M. |\r\n",
      "|===============================+======================+======================|\r\n",
      "|   0  Tesla V100-PCIE...  On   | 00000000:86:00.0 Off |                  Off |\r\n",
      "| N/A   33C    P0    23W / 250W |      0MiB / 32510MiB |      0%      Default |\r\n",
      "|                               |                      |                  N/A |\r\n",
      "+-------------------------------+----------------------+----------------------+\r\n",
      "                                                                               \r\n",
      "+-----------------------------------------------------------------------------+\r\n",
      "| Processes:                                                                  |\r\n",
      "|  GPU   GI   CI        PID   Type   Process name                  GPU Memory |\r\n",
      "|        ID   ID                                                   Usage      |\r\n",
      "|=============================================================================|\r\n",
      "|  No running processes found                                                 |\r\n",
      "+-----------------------------------------------------------------------------+\r\n"
     ]
    }
   ],
   "source": [
    "!nvidia-smi"
   ]
  },
  {
   "cell_type": "code",
   "execution_count": 1,
   "id": "f3eddd2a",
   "metadata": {},
   "outputs": [],
   "source": [
    "import torch\n",
    "from torch.utils.data import DataLoader\n",
    "from torch.nn import CrossEntropyLoss\n",
    "from torch.nn import BCELoss\n",
    "from torch.nn import MSELoss\n",
    "\n",
    "from torch.optim import Adam\n",
    "from torch.optim import SGD\n",
    "from torch.optim.lr_scheduler import CyclicLR\n",
    "from tqdm import tqdm\n",
    "import matplotlib.pyplot as plt\n",
    "import time\n",
    "import datetime\n",
    "\n",
    "from src.model import UNet\n",
    "from src.dataloader import LandCoverData\n",
    "\n",
    "%load_ext autoreload\n",
    "%autoreload 2"
   ]
  },
  {
   "cell_type": "code",
   "execution_count": 2,
   "id": "b8a4fd55",
   "metadata": {},
   "outputs": [],
   "source": [
    "#path=\"../\"\n",
    "#path=\"/scratch/izar/damiani/\"\n",
    "path=\"/scratch/izar/nkaltenr/\"\n",
    "\n",
    "train_dataset = LandCoverData(path, split=\"train\", ignore_last_number=11, use_augmented=True)\n",
    "val_dataset = LandCoverData(path, split=\"val\")"
   ]
  },
  {
   "cell_type": "code",
   "execution_count": 3,
   "id": "08078119",
   "metadata": {},
   "outputs": [],
   "source": [
    "BATCH_SIZE = 32\n",
    "\n",
    "# num_workers 8 default but 2 on colab\n",
    "train_dl = DataLoader(train_dataset, BATCH_SIZE, True, num_workers=1)\n",
    "val_dl = DataLoader(val_dataset, BATCH_SIZE, False, num_workers=1)"
   ]
  },
  {
   "cell_type": "code",
   "execution_count": 4,
   "id": "ef7dc93b",
   "metadata": {},
   "outputs": [],
   "source": [
    "INPUT_IMAGE_HEIGHT=200\n",
    "INPUT_IMAGE_WIDTH=200\n",
    "\n",
    "DEVICE = \"cuda\"\n",
    "#DEVICE = \"cpu\"\n",
    "INIT_LR = 0.001\n",
    "INIT_MOMENTUM = 0.9\n",
    "INIT_WEIGHT_DECAY = 0.01\n",
    "NUM_EPOCHS = 400"
   ]
  },
  {
   "cell_type": "code",
   "execution_count": 5,
   "id": "a57974e7",
   "metadata": {},
   "outputs": [],
   "source": [
    "# from https://www.kaggle.com/rishabhiitbhu/unet-with-resnet34-encoder-pytorch\n",
    "\n",
    "def dice_loss(input, target):\n",
    "    input = torch.sigmoid(input)\n",
    "    smooth = 1.0\n",
    "    iflat = input.view(-1)\n",
    "    tflat = target.view(-1)\n",
    "    intersection = (iflat * tflat).sum()\n",
    "    return ((2.0 * intersection + smooth) / (iflat.sum() + tflat.sum() + smooth))"
   ]
  },
  {
   "cell_type": "code",
   "execution_count": 6,
   "id": "4f50f77e",
   "metadata": {},
   "outputs": [],
   "source": [
    "# from https://www.kaggle.com/rishabhiitbhu/unet-with-resnet34-encoder-pytorch\n",
    "\n",
    "class FocalLoss(torch.nn.Module):\n",
    "    def __init__(self, gamma):\n",
    "        super().__init__()\n",
    "        self.gamma = gamma\n",
    "\n",
    "    def forward(self, input, target):\n",
    "        if not (target.size() == input.size()):\n",
    "            raise ValueError(\"Target size ({}) must be the same as input size ({})\"\n",
    "                             .format(target.size(), input.size()))\n",
    "        max_val = (-input).clamp(min=0)\n",
    "        loss = input - input * target + max_val + \\\n",
    "            ((-max_val).exp() + (-input - max_val).exp()).log()\n",
    "        invprobs = F.logsigmoid(-input * (target * 2.0 - 1.0))\n",
    "        loss = (invprobs * self.gamma).exp() * loss\n",
    "        return loss.mean()"
   ]
  },
  {
   "cell_type": "code",
   "execution_count": 7,
   "id": "0cf18920",
   "metadata": {},
   "outputs": [],
   "source": [
    "# from https://www.kaggle.com/rishabhiitbhu/unet-with-resnet34-encoder-pytorch\n",
    "\n",
    "class MixedLoss(torch.nn.Module):\n",
    "    def __init__(self, alpha, gamma):\n",
    "        super().__init__()\n",
    "        self.alpha = alpha\n",
    "        self.focal = FocalLoss(gamma)\n",
    "\n",
    "    def forward(self, input, target):\n",
    "        loss = self.alpha*self.focal(input, target) - torch.log(dice_loss(input, target))\n",
    "        return loss.mean()"
   ]
  },
  {
   "cell_type": "code",
   "execution_count": 5,
   "id": "42a19141",
   "metadata": {},
   "outputs": [
    {
     "name": "stderr",
     "output_type": "stream",
     "text": [
      "Using cache found in /home/nkaltenr/.cache/torch/hub/adeelh_pytorch-multi-class-focal-loss_master\n"
     ]
    }
   ],
   "source": [
    "focal_loss = torch.hub.load(\n",
    "\t'adeelh/pytorch-multi-class-focal-loss',\n",
    "\tmodel='focal_loss',\n",
    "\talpha=None,\n",
    "\tgamma=2,\n",
    "\treduction='mean',\n",
    "\tdevice=DEVICE,\n",
    "\tdtype=torch.float32,\n",
    "\tforce_reload=False\n",
    ")"
   ]
  },
  {
   "cell_type": "code",
   "execution_count": 9,
   "id": "668bd925",
   "metadata": {},
   "outputs": [],
   "source": [
    "# From https://github.com/Mr-TalhaIlyas/Loss-Functions-Package-Tensorflow-Keras-PyTorch\n",
    "import torch\n",
    "import torch.nn as nn\n",
    "import torch.nn.functional as F\n",
    "#PyTorch\n",
    "#Dice Loss\n",
    "ALPHA = 0.5\n",
    "BETA = 0.5\n",
    "#Try also\n",
    "#ALPHA = 0.3\n",
    "#BETA = 0.7\n",
    "\n",
    "GAMMA = 2\n",
    "\n",
    "class FocalTverskyLoss(torch.nn.Module):\n",
    "    def __init__(self, weight=None, size_average=True):\n",
    "        super(FocalTverskyLoss, self).__init__()\n",
    "\n",
    "    def forward(self, inputs, targets, smooth=1, alpha=ALPHA, beta=BETA, gamma=GAMMA):\n",
    "        \n",
    "        #comment out if your model contains a sigmoid or equivalent activation layer\n",
    "        inputs = torch.sigmoid(inputs)       \n",
    "        \n",
    "        #flatten label and prediction tensors\n",
    "        inputs = inputs.view(-1)\n",
    "        targets = targets.view(-1)\n",
    "        \n",
    "        #True Positives, False Positives & False Negatives\n",
    "        #TP = (inputs * targets).sum()    \n",
    "        #FP = ((1-targets) * inputs).sum()\n",
    "        #FN = (targets * (1-inputs)).sum()\n",
    "        TP = torch.sum(targets * inputs, dim=(0, 2, 3))\n",
    "        FN = torch.sum(targets * (1-inputs), dim=(0, 2, 3))\n",
    "        FP = torch.sum((1-targets) * inputs, dim=(0, 2, 3))\n",
    "        \n",
    "        Tversky = (TP + smooth) / (TP + alpha*FP + beta*FN + smooth)  \n",
    "        FocalTversky = (1 - Tversky)**gamma\n",
    "                       \n",
    "        return FocalTversky"
   ]
  },
  {
   "cell_type": "code",
   "execution_count": 5,
   "id": "3940d7ab",
   "metadata": {},
   "outputs": [],
   "source": [
    "# from https://stackoverflow.com/questions/65125670/implementing-multiclass-dice-loss-function\n",
    "import torch\n",
    "import torch.nn as nn\n",
    "import torch.nn.functional as F\n",
    "\n",
    "def dice_coef_8cat(y_true, y_pred, smooth=1e-7):\n",
    "    '''\n",
    "    Dice coefficient for 8 categories.\n",
    "    Pass to model as metric during compile statement\n",
    "    '''\n",
    "    y_true_f = torch.flatten(F.one_hot(y_true.to(torch.int64), num_classes=8)[...,:])\n",
    "    y_pred_f = torch.flatten(y_pred[...,:])\n",
    "    intersect = torch.sum(y_true_f * y_pred_f, axis=-1)\n",
    "    denom = torch.sum(y_true_f + y_pred_f, axis=-1)\n",
    "    return torch.mean((2. * intersect / (denom + smooth)))\n",
    "\n",
    "def dice_coef_8cat_loss(y_true, y_pred):\n",
    "    '''\n",
    "    Dice loss to minimize. Pass to model as loss during compile statement\n",
    "    '''\n",
    "    return 1 - dice_coef_8cat(y_true, y_pred)"
   ]
  },
  {
   "cell_type": "code",
   "execution_count": 6,
   "id": "2ef91167",
   "metadata": {},
   "outputs": [],
   "source": [
    "#weight_ce = [1., 3., 3.1, 14., 7., 3.3, 0.9, 1.]\n",
    "#class_weights_ce = torch.FloatTensor(weight_ce).to(DEVICE)\n",
    "#ce = CrossEntropyLoss(weight=class_weights_ce)\n",
    "ce = CrossEntropyLoss()\n",
    "\n",
    "#INIT_ALPHA = 10.0\n",
    "#INIT_GAMMA = 2.0\n",
    "#ml = MixedLoss(INIT_ALPHA, INIT_GAMMA)\n",
    "#ftl = FocalTverskyLoss()\n",
    "\n",
    "\n",
    "def UnetLoss(preds, targets):\n",
    "    #print(f\"preds : {preds.shape}\")\n",
    "    #print(f\"targets : {targets.shape}\")\n",
    "    #ce_loss = ce(preds, targets)\n",
    "    #d_loss = dice_coef_8cat_loss(targets, preds)\n",
    "    \n",
    "    #mix_loss = ce_loss + d_loss\n",
    "    #ml_loss = ml\n",
    "    fl = focal_loss(preds, targets)\n",
    "    #ftl_loss = ftl(preds, targets)\n",
    "    acc = (torch.max(preds, 1)[1] == targets).float().mean()\n",
    "    return fl, acc"
   ]
  },
  {
   "cell_type": "code",
   "execution_count": 7,
   "id": "973cfaf1",
   "metadata": {},
   "outputs": [],
   "source": [
    "# initialize our UNet model\n",
    "unet = UNet(nbClasses=8).to(DEVICE)\n",
    "# initialize loss function and optimizer\n",
    "lossFunc = UnetLoss\n",
    "opt = SGD(unet.parameters(), lr=INIT_LR, momentum=INIT_MOMENTUM)\n",
    "#opt = Adam(unet.parameters(), lr= INIT_LR)\n",
    "#opt = Adam(unet.parameters(), lr=INIT_LR, weight_decay=INIT_WEIGHT_DECAY)\n",
    "# calculate steps per epoch for training and test set\n",
    "trainSteps = len(train_dataset) // BATCH_SIZE\n",
    "testSteps = len(val_dataset) // BATCH_SIZE\n",
    "# initialize a dictionary to store training history\n",
    "H = {\"train_loss\": [], \"test_loss\": [], \"train_acc\": [], \"test_acc\": []}\n",
    "bestValLoss = float('inf')\n",
    "bestValAcc = -1"
   ]
  },
  {
   "cell_type": "code",
   "execution_count": 8,
   "id": "7ca4c765",
   "metadata": {},
   "outputs": [],
   "source": [
    "H = torch.load('unet_model_2023-01-03_0:54_fl_2_loss_dict.pth', map_location=torch.device(DEVICE))"
   ]
  },
  {
   "cell_type": "code",
   "execution_count": 9,
   "id": "b91b0834",
   "metadata": {
    "scrolled": true
   },
   "outputs": [
    {
     "name": "stdout",
     "output_type": "stream",
     "text": [
      "{'train_loss': [array(0.8882564, dtype=float32), array(0.6806669, dtype=float32), array(0.60211587, dtype=float32), array(0.5623767, dtype=float32), array(0.5372199, dtype=float32), array(0.5127149, dtype=float32), array(0.50119543, dtype=float32), array(0.4862936, dtype=float32), array(0.4765946, dtype=float32), array(0.46477878, dtype=float32), array(0.45284355, dtype=float32), array(0.4476596, dtype=float32), array(0.44159225, dtype=float32), array(0.43448934, dtype=float32), array(0.42616245, dtype=float32), array(0.41681606, dtype=float32), array(0.41505843, dtype=float32), array(0.4076343, dtype=float32), array(0.40447962, dtype=float32), array(0.3977208, dtype=float32), array(0.39123365, dtype=float32), array(0.38581866, dtype=float32), array(0.38168678, dtype=float32), array(0.37570047, dtype=float32), array(0.3713576, dtype=float32), array(0.3637783, dtype=float32), array(0.35988957, dtype=float32), array(0.35516194, dtype=float32), array(0.35121557, dtype=float32), array(0.34700343, dtype=float32), array(0.3416094, dtype=float32), array(0.33537823, dtype=float32), array(0.3309416, dtype=float32), array(0.3269675, dtype=float32), array(0.32013938, dtype=float32), array(0.31547105, dtype=float32), array(0.31055123, dtype=float32), array(0.303204, dtype=float32), array(0.30204153, dtype=float32), array(0.29455724, dtype=float32), array(0.28771296, dtype=float32), array(0.28310713, dtype=float32), array(0.2801547, dtype=float32), array(0.2734445, dtype=float32), array(0.2716201, dtype=float32), array(0.26432046, dtype=float32), array(0.26311877, dtype=float32), array(0.25240448, dtype=float32), array(0.2503733, dtype=float32), array(0.24396789, dtype=float32), array(0.23969437, dtype=float32), array(0.23436105, dtype=float32), array(0.23080191, dtype=float32), array(0.22418934, dtype=float32), array(0.22659262, dtype=float32), array(0.21786484, dtype=float32), array(0.21126695, dtype=float32), array(0.21182045, dtype=float32), array(0.20617126, dtype=float32), array(0.20545386, dtype=float32), array(0.20148565, dtype=float32), array(0.19356363, dtype=float32), array(0.18939556, dtype=float32), array(0.19167249, dtype=float32), array(0.18788268, dtype=float32), array(0.18463415, dtype=float32), array(0.1742074, dtype=float32), array(0.17869021, dtype=float32), array(0.17572393, dtype=float32), array(0.1712214, dtype=float32), array(0.16987841, dtype=float32), array(0.16694973, dtype=float32), array(0.16370912, dtype=float32), array(0.16128556, dtype=float32), array(0.15752344, dtype=float32), array(0.15696369, dtype=float32), array(0.15254168, dtype=float32), array(0.14944407, dtype=float32), array(0.14813459, dtype=float32), array(0.14546569, dtype=float32), array(0.13969404, dtype=float32), array(0.13998054, dtype=float32), array(0.14075352, dtype=float32), array(0.1392289, dtype=float32), array(0.13101208, dtype=float32), array(0.13369927, dtype=float32), array(0.12807636, dtype=float32), array(0.12888879, dtype=float32), array(0.12960961, dtype=float32), array(0.12668838, dtype=float32), array(0.12298972, dtype=float32), array(0.1230387, dtype=float32), array(0.12398351, dtype=float32), array(0.11976243, dtype=float32), array(0.12069742, dtype=float32), array(0.11876208, dtype=float32), array(0.11564563, dtype=float32), array(0.1114644, dtype=float32), array(0.11076823, dtype=float32), array(0.11416481, dtype=float32)], 'test_loss': [array(0.979127, dtype=float32), array(0.89907867, dtype=float32), array(0.87280464, dtype=float32), array(0.86754024, dtype=float32), array(0.9233909, dtype=float32), array(0.9087894, dtype=float32), array(0.81193084, dtype=float32), array(0.8344754, dtype=float32), array(0.9382406, dtype=float32), array(0.81712776, dtype=float32), array(0.9262066, dtype=float32), array(0.7854788, dtype=float32), array(0.794519, dtype=float32), array(0.8705823, dtype=float32), array(0.7368395, dtype=float32), array(0.7459751, dtype=float32), array(0.7633447, dtype=float32), array(0.9011794, dtype=float32), array(0.7858469, dtype=float32), array(0.83727914, dtype=float32), array(0.80147475, dtype=float32), array(0.80218923, dtype=float32), array(0.8574513, dtype=float32), array(0.67024773, dtype=float32), array(0.92323416, dtype=float32), array(0.7904142, dtype=float32), array(0.91397095, dtype=float32), array(0.88020355, dtype=float32), array(0.7731434, dtype=float32), array(0.82852703, dtype=float32), array(0.71912044, dtype=float32), array(0.77148086, dtype=float32), array(0.84611434, dtype=float32), array(0.7865918, dtype=float32), array(0.8798563, dtype=float32), array(0.8103676, dtype=float32), array(0.80781925, dtype=float32), array(0.71675986, dtype=float32), array(0.9335927, dtype=float32), array(0.73692286, dtype=float32), array(0.83708626, dtype=float32), array(0.8424741, dtype=float32), array(1.0493625, dtype=float32), array(0.8711083, dtype=float32), array(0.96357095, dtype=float32), array(0.7554054, dtype=float32), array(0.8977638, dtype=float32), array(0.8397119, dtype=float32), array(0.99644333, dtype=float32), array(1.0740557, dtype=float32), array(0.893394, dtype=float32), array(0.9090286, dtype=float32), array(0.9748098, dtype=float32), array(0.87675565, dtype=float32), array(0.8981198, dtype=float32), array(0.94246, dtype=float32), array(1.003029, dtype=float32), array(0.8222216, dtype=float32), array(0.9736583, dtype=float32), array(0.8307686, dtype=float32), array(0.9749157, dtype=float32), array(1.1052917, dtype=float32), array(0.9428124, dtype=float32), array(0.88973445, dtype=float32), array(1.1212305, dtype=float32), array(1.2225448, dtype=float32), array(0.92227685, dtype=float32), array(0.9322518, dtype=float32), array(0.9663886, dtype=float32), array(0.96195394, dtype=float32), array(1.0642638, dtype=float32), array(1.1464627, dtype=float32), array(0.9890436, dtype=float32), array(0.96868193, dtype=float32), array(1.1498697, dtype=float32), array(1.3226993, dtype=float32), array(0.933701, dtype=float32), array(1.0311042, dtype=float32), array(0.96700436, dtype=float32), array(1.0387577, dtype=float32), array(1.0285228, dtype=float32), array(1.0476203, dtype=float32), array(1.1993746, dtype=float32), array(1.0588534, dtype=float32), array(1.0398474, dtype=float32), array(1.0536083, dtype=float32), array(0.94475126, dtype=float32), array(0.96642554, dtype=float32), array(1.1967874, dtype=float32), array(1.1108372, dtype=float32), array(1.3030025, dtype=float32), array(1.0412722, dtype=float32), array(1.0131319, dtype=float32), array(1.1694942, dtype=float32), array(1.5796627, dtype=float32), array(1.0417709, dtype=float32), array(1.0328245, dtype=float32), array(1.2104073, dtype=float32), array(1.0995905, dtype=float32), array(1.1186328, dtype=float32)], 'train_acc': [array(0.49356404, dtype=float32), array(0.5708145, dtype=float32), array(0.60409564, dtype=float32), array(0.6222305, dtype=float32), array(0.633881, dtype=float32), array(0.6457119, dtype=float32), array(0.64748, dtype=float32), array(0.6556747, dtype=float32), array(0.66012776, dtype=float32), array(0.66482365, dtype=float32), array(0.66817045, dtype=float32), array(0.67319524, dtype=float32), array(0.6749503, dtype=float32), array(0.6780921, dtype=float32), array(0.68291616, dtype=float32), array(0.6852902, dtype=float32), array(0.68752235, dtype=float32), array(0.6912578, dtype=float32), array(0.6920849, dtype=float32), array(0.69530505, dtype=float32), array(0.69765013, dtype=float32), array(0.701035, dtype=float32), array(0.70304984, dtype=float32), array(0.7073822, dtype=float32), array(0.70585597, dtype=float32), array(0.7128845, dtype=float32), array(0.7123243, dtype=float32), array(0.7142215, dtype=float32), array(0.7173409, dtype=float32), array(0.7186677, dtype=float32), array(0.72140306, dtype=float32), array(0.7241379, dtype=float32), array(0.72755563, dtype=float32), array(0.7281075, dtype=float32), array(0.7322795, dtype=float32), array(0.73519474, dtype=float32), array(0.73718405, dtype=float32), array(0.7424269, dtype=float32), array(0.74129367, dtype=float32), array(0.7459792, dtype=float32), array(0.74945414, dtype=float32), array(0.752424, dtype=float32), array(0.754299, dtype=float32), array(0.7573384, dtype=float32), array(0.7587357, dtype=float32), array(0.76350206, dtype=float32), array(0.76404643, dtype=float32), array(0.7698279, dtype=float32), array(0.77224636, dtype=float32), array(0.7758536, dtype=float32), array(0.7781068, dtype=float32), array(0.7821016, dtype=float32), array(0.7839619, dtype=float32), array(0.7888876, dtype=float32), array(0.78651214, dtype=float32), array(0.7930357, dtype=float32), array(0.7977991, dtype=float32), array(0.7962878, dtype=float32), array(0.80167836, dtype=float32), array(0.8015996, dtype=float32), array(0.805001, dtype=float32), array(0.8094915, dtype=float32), array(0.81242144, dtype=float32), array(0.8114577, dtype=float32), array(0.8137969, dtype=float32), array(0.81693375, dtype=float32), array(0.8239568, dtype=float32), array(0.820094, dtype=float32), array(0.82220507, dtype=float32), array(0.82604593, dtype=float32), array(0.8274794, dtype=float32), array(0.82927203, dtype=float32), array(0.8324722, dtype=float32), array(0.83416086, dtype=float32), array(0.8366339, dtype=float32), array(0.83782405, dtype=float32), array(0.840414, dtype=float32), array(0.8430657, dtype=float32), array(0.84517705, dtype=float32), array(0.8465767, dtype=float32), array(0.8513052, dtype=float32), array(0.85141706, dtype=float32), array(0.8498522, dtype=float32), array(0.85201436, dtype=float32), array(0.85831845, dtype=float32), array(0.85682446, dtype=float32), array(0.86095846, dtype=float32), array(0.86060804, dtype=float32), array(0.86026907, dtype=float32), array(0.86308074, dtype=float32), array(0.86612266, dtype=float32), array(0.86558163, dtype=float32), array(0.8652964, dtype=float32), array(0.868735, dtype=float32), array(0.8680278, dtype=float32), array(0.8700182, dtype=float32), array(0.87236464, dtype=float32), array(0.87601745, dtype=float32), array(0.8767886, dtype=float32), array(0.87420565, dtype=float32)], 'test_acc': [array(0.46499243, dtype=float32), array(0.53485614, dtype=float32), array(0.52014524, dtype=float32), array(0.53473955, dtype=float32), array(0.502161, dtype=float32), array(0.52807456, dtype=float32), array(0.5616317, dtype=float32), array(0.55674237, dtype=float32), array(0.5195519, dtype=float32), array(0.5574637, dtype=float32), array(0.5270046, dtype=float32), array(0.5615824, dtype=float32), array(0.5453713, dtype=float32), array(0.5528806, dtype=float32), array(0.5973701, dtype=float32), array(0.577247, dtype=float32), array(0.5690534, dtype=float32), array(0.53705907, dtype=float32), array(0.5879546, dtype=float32), array(0.5842672, dtype=float32), array(0.588926, dtype=float32), array(0.5830154, dtype=float32), array(0.5275504, dtype=float32), array(0.63303185, dtype=float32), array(0.5888802, dtype=float32), array(0.6083131, dtype=float32), array(0.5915691, dtype=float32), array(0.59986746, dtype=float32), array(0.5863869, dtype=float32), array(0.6187971, dtype=float32), array(0.5771731, dtype=float32), array(0.60253847, dtype=float32), array(0.554728, dtype=float32), array(0.55532765, dtype=float32), array(0.5938132, dtype=float32), array(0.59126747, dtype=float32), array(0.6368988, dtype=float32), array(0.61333376, dtype=float32), array(0.5564761, dtype=float32), array(0.61119527, dtype=float32), array(0.60239446, dtype=float32), array(0.57405585, dtype=float32), array(0.53982663, dtype=float32), array(0.5670421, dtype=float32), array(0.5527985, dtype=float32), array(0.62018096, dtype=float32), array(0.56742907, dtype=float32), array(0.5433951, dtype=float32), array(0.55781764, dtype=float32), array(0.49686345, dtype=float32), array(0.59545314, dtype=float32), array(0.54908067, dtype=float32), array(0.55174035, dtype=float32), array(0.6048763, dtype=float32), array(0.5672275, dtype=float32), array(0.5639906, dtype=float32), array(0.5501631, dtype=float32), array(0.5932538, dtype=float32), array(0.5666068, dtype=float32), array(0.62704635, dtype=float32), array(0.5850693, dtype=float32), array(0.52571326, dtype=float32), array(0.5610277, dtype=float32), array(0.58671224, dtype=float32), array(0.5800686, dtype=float32), array(0.49717215, dtype=float32), array(0.5729702, dtype=float32), array(0.59366333, dtype=float32), array(0.5916602, dtype=float32), array(0.5857215, dtype=float32), array(0.5424039, dtype=float32), array(0.5734013, dtype=float32), array(0.58596176, dtype=float32), array(0.59139067, dtype=float32), array(0.5483618, dtype=float32), array(0.51725507, dtype=float32), array(0.59586954, dtype=float32), array(0.56828594, dtype=float32), array(0.5906242, dtype=float32), array(0.5904742, dtype=float32), array(0.58760095, dtype=float32), array(0.57302547, dtype=float32), array(0.5577118, dtype=float32), array(0.57846594, dtype=float32), array(0.57216483, dtype=float32), array(0.56139094, dtype=float32), array(0.598243, dtype=float32), array(0.6219204, dtype=float32), array(0.57112783, dtype=float32), array(0.58526254, dtype=float32), array(0.5366725, dtype=float32), array(0.59798163, dtype=float32), array(0.58964705, dtype=float32), array(0.5303257, dtype=float32), array(0.4594301, dtype=float32), array(0.58967054, dtype=float32), array(0.6182843, dtype=float32), array(0.5543518, dtype=float32), array(0.60155886, dtype=float32), array(0.58380693, dtype=float32)]}\n"
     ]
    }
   ],
   "source": []
  },
  {
   "cell_type": "code",
   "execution_count": 16,
   "id": "9eef6bcc",
   "metadata": {},
   "outputs": [
    {
     "data": {
      "text/plain": [
       "<All keys matched successfully>"
      ]
     },
     "execution_count": 16,
     "metadata": {},
     "output_type": "execute_result"
    }
   ],
   "source": [
    "unet.load_state_dict(torch.load('unet_model_epoch_200_fl_2_loss.pth', map_location=torch.device(DEVICE)))"
   ]
  },
  {
   "cell_type": "code",
   "execution_count": 17,
   "id": "3db3fc99",
   "metadata": {
    "scrolled": true
   },
   "outputs": [
    {
     "name": "stdout",
     "output_type": "stream",
     "text": [
      "[INFO] training the network...\n"
     ]
    },
    {
     "name": "stderr",
     "output_type": "stream",
     "text": [
      "  0%|                                                   | 0/100 [00:26<?, ?it/s]\n"
     ]
    },
    {
     "ename": "KeyboardInterrupt",
     "evalue": "",
     "output_type": "error",
     "traceback": [
      "\u001b[0;31m---------------------------------------------------------------------------\u001b[0m",
      "\u001b[0;31mKeyboardInterrupt\u001b[0m                         Traceback (most recent call last)",
      "\u001b[0;32m/tmp/1206900/ipykernel_11367/2524956542.py\u001b[0m in \u001b[0;36m<module>\u001b[0;34m\u001b[0m\n\u001b[1;32m     13\u001b[0m     \u001b[0mtotalTestAcc\u001b[0m \u001b[0;34m=\u001b[0m \u001b[0;36m0\u001b[0m\u001b[0;34m\u001b[0m\u001b[0;34m\u001b[0m\u001b[0m\n\u001b[1;32m     14\u001b[0m     \u001b[0;31m# loop over the training set\u001b[0m\u001b[0;34m\u001b[0m\u001b[0;34m\u001b[0m\u001b[0;34m\u001b[0m\u001b[0m\n\u001b[0;32m---> 15\u001b[0;31m     \u001b[0;32mfor\u001b[0m \u001b[0;34m(\u001b[0m\u001b[0mi\u001b[0m\u001b[0;34m,\u001b[0m \u001b[0;34m(\u001b[0m\u001b[0mx\u001b[0m\u001b[0;34m,\u001b[0m \u001b[0my\u001b[0m\u001b[0;34m)\u001b[0m\u001b[0;34m)\u001b[0m \u001b[0;32min\u001b[0m \u001b[0menumerate\u001b[0m\u001b[0;34m(\u001b[0m\u001b[0mtrain_dl\u001b[0m\u001b[0;34m)\u001b[0m\u001b[0;34m:\u001b[0m\u001b[0;34m\u001b[0m\u001b[0;34m\u001b[0m\u001b[0m\n\u001b[0m\u001b[1;32m     16\u001b[0m         \u001b[0;31m# send the input to the device\u001b[0m\u001b[0;34m\u001b[0m\u001b[0;34m\u001b[0m\u001b[0;34m\u001b[0m\u001b[0m\n\u001b[1;32m     17\u001b[0m         \u001b[0;34m(\u001b[0m\u001b[0mx\u001b[0m\u001b[0;34m,\u001b[0m \u001b[0my\u001b[0m\u001b[0;34m)\u001b[0m \u001b[0;34m=\u001b[0m \u001b[0;34m(\u001b[0m\u001b[0mx\u001b[0m\u001b[0;34m.\u001b[0m\u001b[0mto\u001b[0m\u001b[0;34m(\u001b[0m\u001b[0mDEVICE\u001b[0m\u001b[0;34m)\u001b[0m\u001b[0;34m,\u001b[0m \u001b[0my\u001b[0m\u001b[0;34m.\u001b[0m\u001b[0mto\u001b[0m\u001b[0;34m(\u001b[0m\u001b[0mDEVICE\u001b[0m\u001b[0;34m)\u001b[0m\u001b[0;34m)\u001b[0m\u001b[0;34m\u001b[0m\u001b[0;34m\u001b[0m\u001b[0m\n",
      "\u001b[0;32m~/ipeo_venv/lib/python3.7/site-packages/torch/utils/data/dataloader.py\u001b[0m in \u001b[0;36m__next__\u001b[0;34m(self)\u001b[0m\n\u001b[1;32m    626\u001b[0m                 \u001b[0;31m# TODO(https://github.com/pytorch/pytorch/issues/76750)\u001b[0m\u001b[0;34m\u001b[0m\u001b[0;34m\u001b[0m\u001b[0;34m\u001b[0m\u001b[0m\n\u001b[1;32m    627\u001b[0m                 \u001b[0mself\u001b[0m\u001b[0;34m.\u001b[0m\u001b[0m_reset\u001b[0m\u001b[0;34m(\u001b[0m\u001b[0;34m)\u001b[0m  \u001b[0;31m# type: ignore[call-arg]\u001b[0m\u001b[0;34m\u001b[0m\u001b[0;34m\u001b[0m\u001b[0m\n\u001b[0;32m--> 628\u001b[0;31m             \u001b[0mdata\u001b[0m \u001b[0;34m=\u001b[0m \u001b[0mself\u001b[0m\u001b[0;34m.\u001b[0m\u001b[0m_next_data\u001b[0m\u001b[0;34m(\u001b[0m\u001b[0;34m)\u001b[0m\u001b[0;34m\u001b[0m\u001b[0;34m\u001b[0m\u001b[0m\n\u001b[0m\u001b[1;32m    629\u001b[0m             \u001b[0mself\u001b[0m\u001b[0;34m.\u001b[0m\u001b[0m_num_yielded\u001b[0m \u001b[0;34m+=\u001b[0m \u001b[0;36m1\u001b[0m\u001b[0;34m\u001b[0m\u001b[0;34m\u001b[0m\u001b[0m\n\u001b[1;32m    630\u001b[0m             \u001b[0;32mif\u001b[0m \u001b[0mself\u001b[0m\u001b[0;34m.\u001b[0m\u001b[0m_dataset_kind\u001b[0m \u001b[0;34m==\u001b[0m \u001b[0m_DatasetKind\u001b[0m\u001b[0;34m.\u001b[0m\u001b[0mIterable\u001b[0m \u001b[0;32mand\u001b[0m\u001b[0;31m \u001b[0m\u001b[0;31m\\\u001b[0m\u001b[0;34m\u001b[0m\u001b[0;34m\u001b[0m\u001b[0m\n",
      "\u001b[0;32m~/ipeo_venv/lib/python3.7/site-packages/torch/utils/data/dataloader.py\u001b[0m in \u001b[0;36m_next_data\u001b[0;34m(self)\u001b[0m\n\u001b[1;32m   1314\u001b[0m \u001b[0;34m\u001b[0m\u001b[0m\n\u001b[1;32m   1315\u001b[0m             \u001b[0;32massert\u001b[0m \u001b[0;32mnot\u001b[0m \u001b[0mself\u001b[0m\u001b[0;34m.\u001b[0m\u001b[0m_shutdown\u001b[0m \u001b[0;32mand\u001b[0m \u001b[0mself\u001b[0m\u001b[0;34m.\u001b[0m\u001b[0m_tasks_outstanding\u001b[0m \u001b[0;34m>\u001b[0m \u001b[0;36m0\u001b[0m\u001b[0;34m\u001b[0m\u001b[0;34m\u001b[0m\u001b[0m\n\u001b[0;32m-> 1316\u001b[0;31m             \u001b[0midx\u001b[0m\u001b[0;34m,\u001b[0m \u001b[0mdata\u001b[0m \u001b[0;34m=\u001b[0m \u001b[0mself\u001b[0m\u001b[0;34m.\u001b[0m\u001b[0m_get_data\u001b[0m\u001b[0;34m(\u001b[0m\u001b[0;34m)\u001b[0m\u001b[0;34m\u001b[0m\u001b[0;34m\u001b[0m\u001b[0m\n\u001b[0m\u001b[1;32m   1317\u001b[0m             \u001b[0mself\u001b[0m\u001b[0;34m.\u001b[0m\u001b[0m_tasks_outstanding\u001b[0m \u001b[0;34m-=\u001b[0m \u001b[0;36m1\u001b[0m\u001b[0;34m\u001b[0m\u001b[0;34m\u001b[0m\u001b[0m\n\u001b[1;32m   1318\u001b[0m             \u001b[0;32mif\u001b[0m \u001b[0mself\u001b[0m\u001b[0;34m.\u001b[0m\u001b[0m_dataset_kind\u001b[0m \u001b[0;34m==\u001b[0m \u001b[0m_DatasetKind\u001b[0m\u001b[0;34m.\u001b[0m\u001b[0mIterable\u001b[0m\u001b[0;34m:\u001b[0m\u001b[0;34m\u001b[0m\u001b[0;34m\u001b[0m\u001b[0m\n",
      "\u001b[0;32m~/ipeo_venv/lib/python3.7/site-packages/torch/utils/data/dataloader.py\u001b[0m in \u001b[0;36m_get_data\u001b[0;34m(self)\u001b[0m\n\u001b[1;32m   1280\u001b[0m         \u001b[0;32melse\u001b[0m\u001b[0;34m:\u001b[0m\u001b[0;34m\u001b[0m\u001b[0;34m\u001b[0m\u001b[0m\n\u001b[1;32m   1281\u001b[0m             \u001b[0;32mwhile\u001b[0m \u001b[0;32mTrue\u001b[0m\u001b[0;34m:\u001b[0m\u001b[0;34m\u001b[0m\u001b[0;34m\u001b[0m\u001b[0m\n\u001b[0;32m-> 1282\u001b[0;31m                 \u001b[0msuccess\u001b[0m\u001b[0;34m,\u001b[0m \u001b[0mdata\u001b[0m \u001b[0;34m=\u001b[0m \u001b[0mself\u001b[0m\u001b[0;34m.\u001b[0m\u001b[0m_try_get_data\u001b[0m\u001b[0;34m(\u001b[0m\u001b[0;34m)\u001b[0m\u001b[0;34m\u001b[0m\u001b[0;34m\u001b[0m\u001b[0m\n\u001b[0m\u001b[1;32m   1283\u001b[0m                 \u001b[0;32mif\u001b[0m \u001b[0msuccess\u001b[0m\u001b[0;34m:\u001b[0m\u001b[0;34m\u001b[0m\u001b[0;34m\u001b[0m\u001b[0m\n\u001b[1;32m   1284\u001b[0m                     \u001b[0;32mreturn\u001b[0m \u001b[0mdata\u001b[0m\u001b[0;34m\u001b[0m\u001b[0;34m\u001b[0m\u001b[0m\n",
      "\u001b[0;32m~/ipeo_venv/lib/python3.7/site-packages/torch/utils/data/dataloader.py\u001b[0m in \u001b[0;36m_try_get_data\u001b[0;34m(self, timeout)\u001b[0m\n\u001b[1;32m   1118\u001b[0m         \u001b[0;31m#   (bool: whether successfully get data, any: data if successful else None)\u001b[0m\u001b[0;34m\u001b[0m\u001b[0;34m\u001b[0m\u001b[0;34m\u001b[0m\u001b[0m\n\u001b[1;32m   1119\u001b[0m         \u001b[0;32mtry\u001b[0m\u001b[0;34m:\u001b[0m\u001b[0;34m\u001b[0m\u001b[0;34m\u001b[0m\u001b[0m\n\u001b[0;32m-> 1120\u001b[0;31m             \u001b[0mdata\u001b[0m \u001b[0;34m=\u001b[0m \u001b[0mself\u001b[0m\u001b[0;34m.\u001b[0m\u001b[0m_data_queue\u001b[0m\u001b[0;34m.\u001b[0m\u001b[0mget\u001b[0m\u001b[0;34m(\u001b[0m\u001b[0mtimeout\u001b[0m\u001b[0;34m=\u001b[0m\u001b[0mtimeout\u001b[0m\u001b[0;34m)\u001b[0m\u001b[0;34m\u001b[0m\u001b[0;34m\u001b[0m\u001b[0m\n\u001b[0m\u001b[1;32m   1121\u001b[0m             \u001b[0;32mreturn\u001b[0m \u001b[0;34m(\u001b[0m\u001b[0;32mTrue\u001b[0m\u001b[0;34m,\u001b[0m \u001b[0mdata\u001b[0m\u001b[0;34m)\u001b[0m\u001b[0;34m\u001b[0m\u001b[0;34m\u001b[0m\u001b[0m\n\u001b[1;32m   1122\u001b[0m         \u001b[0;32mexcept\u001b[0m \u001b[0mException\u001b[0m \u001b[0;32mas\u001b[0m \u001b[0me\u001b[0m\u001b[0;34m:\u001b[0m\u001b[0;34m\u001b[0m\u001b[0;34m\u001b[0m\u001b[0m\n",
      "\u001b[0;32m/ssoft/spack/arvine/v1/opt/spack/linux-rhel7-skylake_avx512/gcc-8.4.0/python-3.7.7-drpdlwdbo3lmtkcbckq227ypnzno4ek3/lib/python3.7/multiprocessing/queues.py\u001b[0m in \u001b[0;36mget\u001b[0;34m(self, block, timeout)\u001b[0m\n\u001b[1;32m    102\u001b[0m                 \u001b[0;32mif\u001b[0m \u001b[0mblock\u001b[0m\u001b[0;34m:\u001b[0m\u001b[0;34m\u001b[0m\u001b[0;34m\u001b[0m\u001b[0m\n\u001b[1;32m    103\u001b[0m                     \u001b[0mtimeout\u001b[0m \u001b[0;34m=\u001b[0m \u001b[0mdeadline\u001b[0m \u001b[0;34m-\u001b[0m \u001b[0mtime\u001b[0m\u001b[0;34m.\u001b[0m\u001b[0mmonotonic\u001b[0m\u001b[0;34m(\u001b[0m\u001b[0;34m)\u001b[0m\u001b[0;34m\u001b[0m\u001b[0;34m\u001b[0m\u001b[0m\n\u001b[0;32m--> 104\u001b[0;31m                     \u001b[0;32mif\u001b[0m \u001b[0;32mnot\u001b[0m \u001b[0mself\u001b[0m\u001b[0;34m.\u001b[0m\u001b[0m_poll\u001b[0m\u001b[0;34m(\u001b[0m\u001b[0mtimeout\u001b[0m\u001b[0;34m)\u001b[0m\u001b[0;34m:\u001b[0m\u001b[0;34m\u001b[0m\u001b[0;34m\u001b[0m\u001b[0m\n\u001b[0m\u001b[1;32m    105\u001b[0m                         \u001b[0;32mraise\u001b[0m \u001b[0mEmpty\u001b[0m\u001b[0;34m\u001b[0m\u001b[0;34m\u001b[0m\u001b[0m\n\u001b[1;32m    106\u001b[0m                 \u001b[0;32melif\u001b[0m \u001b[0;32mnot\u001b[0m \u001b[0mself\u001b[0m\u001b[0;34m.\u001b[0m\u001b[0m_poll\u001b[0m\u001b[0;34m(\u001b[0m\u001b[0;34m)\u001b[0m\u001b[0;34m:\u001b[0m\u001b[0;34m\u001b[0m\u001b[0;34m\u001b[0m\u001b[0m\n",
      "\u001b[0;32m/ssoft/spack/arvine/v1/opt/spack/linux-rhel7-skylake_avx512/gcc-8.4.0/python-3.7.7-drpdlwdbo3lmtkcbckq227ypnzno4ek3/lib/python3.7/multiprocessing/connection.py\u001b[0m in \u001b[0;36mpoll\u001b[0;34m(self, timeout)\u001b[0m\n\u001b[1;32m    255\u001b[0m         \u001b[0mself\u001b[0m\u001b[0;34m.\u001b[0m\u001b[0m_check_closed\u001b[0m\u001b[0;34m(\u001b[0m\u001b[0;34m)\u001b[0m\u001b[0;34m\u001b[0m\u001b[0;34m\u001b[0m\u001b[0m\n\u001b[1;32m    256\u001b[0m         \u001b[0mself\u001b[0m\u001b[0;34m.\u001b[0m\u001b[0m_check_readable\u001b[0m\u001b[0;34m(\u001b[0m\u001b[0;34m)\u001b[0m\u001b[0;34m\u001b[0m\u001b[0;34m\u001b[0m\u001b[0m\n\u001b[0;32m--> 257\u001b[0;31m         \u001b[0;32mreturn\u001b[0m \u001b[0mself\u001b[0m\u001b[0;34m.\u001b[0m\u001b[0m_poll\u001b[0m\u001b[0;34m(\u001b[0m\u001b[0mtimeout\u001b[0m\u001b[0;34m)\u001b[0m\u001b[0;34m\u001b[0m\u001b[0;34m\u001b[0m\u001b[0m\n\u001b[0m\u001b[1;32m    258\u001b[0m \u001b[0;34m\u001b[0m\u001b[0m\n\u001b[1;32m    259\u001b[0m     \u001b[0;32mdef\u001b[0m \u001b[0m__enter__\u001b[0m\u001b[0;34m(\u001b[0m\u001b[0mself\u001b[0m\u001b[0;34m)\u001b[0m\u001b[0;34m:\u001b[0m\u001b[0;34m\u001b[0m\u001b[0;34m\u001b[0m\u001b[0m\n",
      "\u001b[0;32m/ssoft/spack/arvine/v1/opt/spack/linux-rhel7-skylake_avx512/gcc-8.4.0/python-3.7.7-drpdlwdbo3lmtkcbckq227ypnzno4ek3/lib/python3.7/multiprocessing/connection.py\u001b[0m in \u001b[0;36m_poll\u001b[0;34m(self, timeout)\u001b[0m\n\u001b[1;32m    412\u001b[0m \u001b[0;34m\u001b[0m\u001b[0m\n\u001b[1;32m    413\u001b[0m     \u001b[0;32mdef\u001b[0m \u001b[0m_poll\u001b[0m\u001b[0;34m(\u001b[0m\u001b[0mself\u001b[0m\u001b[0;34m,\u001b[0m \u001b[0mtimeout\u001b[0m\u001b[0;34m)\u001b[0m\u001b[0;34m:\u001b[0m\u001b[0;34m\u001b[0m\u001b[0;34m\u001b[0m\u001b[0m\n\u001b[0;32m--> 414\u001b[0;31m         \u001b[0mr\u001b[0m \u001b[0;34m=\u001b[0m \u001b[0mwait\u001b[0m\u001b[0;34m(\u001b[0m\u001b[0;34m[\u001b[0m\u001b[0mself\u001b[0m\u001b[0;34m]\u001b[0m\u001b[0;34m,\u001b[0m \u001b[0mtimeout\u001b[0m\u001b[0;34m)\u001b[0m\u001b[0;34m\u001b[0m\u001b[0;34m\u001b[0m\u001b[0m\n\u001b[0m\u001b[1;32m    415\u001b[0m         \u001b[0;32mreturn\u001b[0m \u001b[0mbool\u001b[0m\u001b[0;34m(\u001b[0m\u001b[0mr\u001b[0m\u001b[0;34m)\u001b[0m\u001b[0;34m\u001b[0m\u001b[0;34m\u001b[0m\u001b[0m\n\u001b[1;32m    416\u001b[0m \u001b[0;34m\u001b[0m\u001b[0m\n",
      "\u001b[0;32m/ssoft/spack/arvine/v1/opt/spack/linux-rhel7-skylake_avx512/gcc-8.4.0/python-3.7.7-drpdlwdbo3lmtkcbckq227ypnzno4ek3/lib/python3.7/multiprocessing/connection.py\u001b[0m in \u001b[0;36mwait\u001b[0;34m(object_list, timeout)\u001b[0m\n\u001b[1;32m    918\u001b[0m \u001b[0;34m\u001b[0m\u001b[0m\n\u001b[1;32m    919\u001b[0m             \u001b[0;32mwhile\u001b[0m \u001b[0;32mTrue\u001b[0m\u001b[0;34m:\u001b[0m\u001b[0;34m\u001b[0m\u001b[0;34m\u001b[0m\u001b[0m\n\u001b[0;32m--> 920\u001b[0;31m                 \u001b[0mready\u001b[0m \u001b[0;34m=\u001b[0m \u001b[0mselector\u001b[0m\u001b[0;34m.\u001b[0m\u001b[0mselect\u001b[0m\u001b[0;34m(\u001b[0m\u001b[0mtimeout\u001b[0m\u001b[0;34m)\u001b[0m\u001b[0;34m\u001b[0m\u001b[0;34m\u001b[0m\u001b[0m\n\u001b[0m\u001b[1;32m    921\u001b[0m                 \u001b[0;32mif\u001b[0m \u001b[0mready\u001b[0m\u001b[0;34m:\u001b[0m\u001b[0;34m\u001b[0m\u001b[0;34m\u001b[0m\u001b[0m\n\u001b[1;32m    922\u001b[0m                     \u001b[0;32mreturn\u001b[0m \u001b[0;34m[\u001b[0m\u001b[0mkey\u001b[0m\u001b[0;34m.\u001b[0m\u001b[0mfileobj\u001b[0m \u001b[0;32mfor\u001b[0m \u001b[0;34m(\u001b[0m\u001b[0mkey\u001b[0m\u001b[0;34m,\u001b[0m \u001b[0mevents\u001b[0m\u001b[0;34m)\u001b[0m \u001b[0;32min\u001b[0m \u001b[0mready\u001b[0m\u001b[0;34m]\u001b[0m\u001b[0;34m\u001b[0m\u001b[0;34m\u001b[0m\u001b[0m\n",
      "\u001b[0;32m/ssoft/spack/arvine/v1/opt/spack/linux-rhel7-skylake_avx512/gcc-8.4.0/python-3.7.7-drpdlwdbo3lmtkcbckq227ypnzno4ek3/lib/python3.7/selectors.py\u001b[0m in \u001b[0;36mselect\u001b[0;34m(self, timeout)\u001b[0m\n\u001b[1;32m    413\u001b[0m         \u001b[0mready\u001b[0m \u001b[0;34m=\u001b[0m \u001b[0;34m[\u001b[0m\u001b[0;34m]\u001b[0m\u001b[0;34m\u001b[0m\u001b[0;34m\u001b[0m\u001b[0m\n\u001b[1;32m    414\u001b[0m         \u001b[0;32mtry\u001b[0m\u001b[0;34m:\u001b[0m\u001b[0;34m\u001b[0m\u001b[0;34m\u001b[0m\u001b[0m\n\u001b[0;32m--> 415\u001b[0;31m             \u001b[0mfd_event_list\u001b[0m \u001b[0;34m=\u001b[0m \u001b[0mself\u001b[0m\u001b[0;34m.\u001b[0m\u001b[0m_selector\u001b[0m\u001b[0;34m.\u001b[0m\u001b[0mpoll\u001b[0m\u001b[0;34m(\u001b[0m\u001b[0mtimeout\u001b[0m\u001b[0;34m)\u001b[0m\u001b[0;34m\u001b[0m\u001b[0;34m\u001b[0m\u001b[0m\n\u001b[0m\u001b[1;32m    416\u001b[0m         \u001b[0;32mexcept\u001b[0m \u001b[0mInterruptedError\u001b[0m\u001b[0;34m:\u001b[0m\u001b[0;34m\u001b[0m\u001b[0;34m\u001b[0m\u001b[0m\n\u001b[1;32m    417\u001b[0m             \u001b[0;32mreturn\u001b[0m \u001b[0mready\u001b[0m\u001b[0;34m\u001b[0m\u001b[0;34m\u001b[0m\u001b[0m\n",
      "\u001b[0;31mKeyboardInterrupt\u001b[0m: "
     ]
    }
   ],
   "source": [
    "# loop over epochs\n",
    "NUM_EPOCHS = 100\n",
    "print(\"[INFO] training the network...\")\n",
    "startTime = time.time()\n",
    "#for e in tqdm(range(NUM_EPOCHS)):\n",
    "for e in tqdm(range(NUM_EPOCHS)):\n",
    "    # set the model in training mode\n",
    "    unet.train()\n",
    "    # initialize the total training and validation loss\n",
    "    totalTrainLoss = 0\n",
    "    totalTestLoss = 0\n",
    "    totalTrainAcc = 0\n",
    "    totalTestAcc = 0\n",
    "    # loop over the training set\n",
    "    for (i, (x, y)) in enumerate(train_dl):\n",
    "        # send the input to the device\n",
    "        (x, y) = (x.to(DEVICE), y.to(DEVICE))\n",
    "        # perform a forward pass and calculate the training loss\n",
    "        pred = unet(x)\n",
    "        y = y.to(torch.long)\n",
    "        y = y.squeeze()\n",
    "        \n",
    "        loss, acc = lossFunc(pred, y)\n",
    "        \n",
    "        # first, zero out any previously accumulated gradients, then\n",
    "        # perform backpropagation, and then update model parameters\n",
    "        opt.zero_grad()\n",
    "        loss.backward()\n",
    "        opt.step()\n",
    "        # add the loss to the total training loss so far\n",
    "        totalTrainLoss += loss\n",
    "        totalTrainAcc += acc\n",
    "    # switch off autograd\n",
    "    with torch.no_grad():\n",
    "        # set the model in evaluation mode\n",
    "        unet.eval()\n",
    "        # loop over the validation set\n",
    "        for (x, y) in val_dl:\n",
    "          # send the input to the device\n",
    "          (x, y) = (x.to(DEVICE), y.to(DEVICE))\n",
    "          # make the predictions and calculate the validation loss\n",
    "          pred = unet(x)\n",
    "          #pred=pred.to(torch.float32)\n",
    "          y = y.to(torch.long)\n",
    "          y = y.squeeze()\n",
    "          loss, acc = lossFunc(pred, y)\n",
    "          totalTestLoss += loss\n",
    "          totalTestAcc += acc\n",
    "    # calculate the average training and validation loss\n",
    "    avgTrainLoss = totalTrainLoss / trainSteps\n",
    "    avgTestLoss = totalTestLoss / testSteps\n",
    "    avgTrainAcc = totalTrainAcc / trainSteps\n",
    "    avgTestAcc = totalTestAcc / testSteps\n",
    "    # update our training history\n",
    "    H[\"train_loss\"].append(avgTrainLoss.cpu().detach().numpy())\n",
    "    H[\"test_loss\"].append(avgTestLoss.cpu().detach().numpy())\n",
    "    H[\"train_acc\"].append(avgTrainAcc.cpu().detach().numpy())\n",
    "    H[\"test_acc\"].append(avgTestAcc.cpu().detach().numpy())\n",
    "    # print the model training and validation information\n",
    "    print(\"[INFO] EPOCH: {}/{}\".format(e + 1, NUM_EPOCHS))\n",
    "    print(\"Train loss: {:.6f}, Validation loss: {:.4f}\".format(\n",
    "      avgTrainLoss, avgTestLoss))\n",
    "    print(\"Train acc: {:.6f}, Validation acc: {:.4f}\".format(\n",
    "      avgTrainAcc, avgTestAcc))\n",
    "    # Save the best model (the one that has the lowest loss for validation)\n",
    "    if (bestValLoss == -1) or (bestValLoss > avgTestLoss):\n",
    "        bestValLoss = avgTestLoss\n",
    "        print(\"best loss => saving\")\n",
    "        torch.save(unet.state_dict(), 'best_model_fl_2_loss.pth')\n",
    "    if (bestValAcc < avgTestAcc):\n",
    "        bestValAcc = avgTestAcc\n",
    "        print(\"best acc => saving\")\n",
    "        torch.save(unet.state_dict(), 'best_model_acc_fl_2_loss.pth')\n",
    "    if ((e+1)%50 == 0):\n",
    "        epoch_name = 200 + e+1\n",
    "        print(\"SAVING\")\n",
    "        torch.save(unet.state_dict(), f\"unet_model_epoch_{epoch_name}_fl_2_loss.pth\")\n",
    "        \n",
    "# display the total time needed to perform the training\n",
    "endTime = time.time()\n",
    "print(\"[INFO] total time taken to train the model: {:.2f}s\".format(\n",
    "\tendTime - startTime))"
   ]
  },
  {
   "cell_type": "code",
   "execution_count": null,
   "id": "9867c3d1",
   "metadata": {},
   "outputs": [],
   "source": [
    "date = datetime.datetime.now()\n",
    "date_ymd = date.date()\n",
    "date_hm = f\"{date.hour}:{date.minute}\""
   ]
  },
  {
   "cell_type": "code",
   "execution_count": null,
   "id": "a8e72473",
   "metadata": {
    "scrolled": true
   },
   "outputs": [],
   "source": [
    "plt.style.use(\"ggplot\")\n",
    "plt.figure()\n",
    "plt.plot(H[\"train_loss\"], label=\"train_loss\")\n",
    "plt.plot(H[\"test_loss\"], label=\"val_loss\")\n",
    "plt.title(\"Training Loss on Dataset\")\n",
    "plt.xlabel(\"Epoch #\")\n",
    "plt.ylabel(\"Loss\")\n",
    "plt.legend(loc=\"lower left\")\n",
    "plt.savefig(f\"train_val_loss_{date_ymd}_{date_hm}_fl_2_loss.png\", bbox_inches='tight')"
   ]
  },
  {
   "cell_type": "code",
   "execution_count": null,
   "id": "a60a71db",
   "metadata": {},
   "outputs": [],
   "source": [
    "plt.style.use(\"ggplot\")\n",
    "plt.figure()\n",
    "plt.plot(H[\"train_acc\"], label=\"train_acc\")\n",
    "plt.plot(H[\"test_acc\"], label=\"val_acc\")\n",
    "plt.title(\"Training Accuracy on Dataset\")\n",
    "plt.xlabel(\"Epoch #\")\n",
    "plt.ylabel(\"Accuracy\")\n",
    "plt.legend(loc=\"lower left\")\n",
    "plt.savefig(f\"train_val_acc_{date_ymd}_{date_hm}_fl_2_loss.png\", bbox_inches='tight')"
   ]
  },
  {
   "cell_type": "code",
   "execution_count": null,
   "id": "cef9d296",
   "metadata": {},
   "outputs": [],
   "source": [
    "torch.save(unet.state_dict(), f\"unet_model_{date_ymd}_{date_hm}_fl_2_loss.pth\")\n",
    "torch.save(unet, f\"unet_model_{date_ymd}_{date_hm}_fl_2_loss.pt\")\n",
    "torch.save(H, f\"unet_model_{date_ymd}_{date_hm}_fl_2_loss_dict.pth\")"
   ]
  },
  {
   "cell_type": "code",
   "execution_count": null,
   "id": "2ddf9bad",
   "metadata": {},
   "outputs": [],
   "source": []
  }
 ],
 "metadata": {
  "kernelspec": {
   "display_name": "Python 3 (ipykernel)",
   "language": "python",
   "name": "python3"
  },
  "language_info": {
   "codemirror_mode": {
    "name": "ipython",
    "version": 3
   },
   "file_extension": ".py",
   "mimetype": "text/x-python",
   "name": "python",
   "nbconvert_exporter": "python",
   "pygments_lexer": "ipython3",
   "version": "3.7.7"
  }
 },
 "nbformat": 4,
 "nbformat_minor": 5
}
