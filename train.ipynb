{
 "cells": [
  {
   "cell_type": "code",
   "execution_count": 1,
   "id": "740be313",
   "metadata": {},
   "outputs": [
    {
     "name": "stdout",
     "output_type": "stream",
     "text": [
      "Requirement already satisfied: torch in ./ipeo_venv/lib/python3.7/site-packages (1.13.1)\n",
      "Requirement already satisfied: torchvision in ./ipeo_venv/lib/python3.7/site-packages (0.14.1)\n",
      "Collecting torchsummary\n",
      "  Using cached torchsummary-1.5.1-py3-none-any.whl (2.8 kB)\n",
      "Requirement already satisfied: torchtext in ./ipeo_venv/lib/python3.7/site-packages (0.14.1)\n",
      "Requirement already satisfied: pytorch_lightning in ./ipeo_venv/lib/python3.7/site-packages (1.8.6)\n",
      "Requirement already satisfied: tensorboard in ./ipeo_venv/lib/python3.7/site-packages (2.11.0)\n",
      "Requirement already satisfied: matplotlib in ./ipeo_venv/lib/python3.7/site-packages (3.5.3)\n",
      "Requirement already satisfied: tqdm in ./ipeo_venv/lib/python3.7/site-packages (4.64.1)\n",
      "Requirement already satisfied: datetime in ./ipeo_venv/lib/python3.7/site-packages (4.9)\n",
      "\u001b[31mERROR: Could not find a version that satisfies the requirement time (from versions: none)\u001b[0m\u001b[31m\n",
      "\u001b[0m\u001b[31mERROR: No matching distribution found for time\u001b[0m\u001b[31m\n",
      "\u001b[0m"
     ]
    }
   ],
   "source": [
    "# USEFUL WHEN RUNNING ON CLUSTER\n",
    "import sys\n",
    "!pip install torch torchvision torchsummary torchtext pytorch_lightning tensorboard matplotlib tqdm datetime time "
   ]
  },
  {
   "cell_type": "code",
   "execution_count": 2,
   "id": "1516afb7",
   "metadata": {},
   "outputs": [
    {
     "name": "stdout",
     "output_type": "stream",
     "text": [
      "Fri Jan 13 10:39:23 2023       \r\n",
      "+-----------------------------------------------------------------------------+\r\n",
      "| NVIDIA-SMI 455.23.05    Driver Version: 455.23.05    CUDA Version: 11.1     |\r\n",
      "|-------------------------------+----------------------+----------------------+\r\n",
      "| GPU  Name        Persistence-M| Bus-Id        Disp.A | Volatile Uncorr. ECC |\r\n",
      "| Fan  Temp  Perf  Pwr:Usage/Cap|         Memory-Usage | GPU-Util  Compute M. |\r\n",
      "|                               |                      |               MIG M. |\r\n",
      "|===============================+======================+======================|\r\n",
      "|   0  Tesla V100-PCIE...  On   | 00000000:86:00.0 Off |                  Off |\r\n",
      "| N/A   33C    P0    24W / 250W |      0MiB / 32510MiB |      0%      Default |\r\n",
      "|                               |                      |                  N/A |\r\n",
      "+-------------------------------+----------------------+----------------------+\r\n",
      "                                                                               \r\n",
      "+-----------------------------------------------------------------------------+\r\n",
      "| Processes:                                                                  |\r\n",
      "|  GPU   GI   CI        PID   Type   Process name                  GPU Memory |\r\n",
      "|        ID   ID                                                   Usage      |\r\n",
      "|=============================================================================|\r\n",
      "|  No running processes found                                                 |\r\n",
      "+-----------------------------------------------------------------------------+\r\n"
     ]
    }
   ],
   "source": [
    "!nvidia-smi"
   ]
  },
  {
   "cell_type": "code",
   "execution_count": 34,
   "id": "f3eddd2a",
   "metadata": {},
   "outputs": [
    {
     "name": "stdout",
     "output_type": "stream",
     "text": [
      "The autoreload extension is already loaded. To reload it, use:\n",
      "  %reload_ext autoreload\n"
     ]
    }
   ],
   "source": [
    "import torch\n",
    "from torch.utils.data import DataLoader\n",
    "from torch.nn import CrossEntropyLoss\n",
    "from torch.nn import BCELoss\n",
    "from torch.nn import MSELoss\n",
    "from torch.nn import functional as F\n",
    "\n",
    "from torch.optim import Adam\n",
    "from torch.optim import SGD\n",
    "from torch.optim.lr_scheduler import CyclicLR\n",
    "from tqdm import tqdm\n",
    "import matplotlib.pyplot as plt\n",
    "import time\n",
    "import datetime\n",
    "\n",
    "from src.model import UNet\n",
    "from src.dataloader import LandCoverData\n",
    "import src.loss as lossPY\n",
    "\n",
    "%load_ext autoreload\n",
    "%autoreload 2"
   ]
  },
  {
   "cell_type": "code",
   "execution_count": 35,
   "id": "b8a4fd55",
   "metadata": {},
   "outputs": [],
   "source": [
    "#path=\"../\"\n",
    "path=\"/scratch/izar/damiani/\"\n",
    "#path=\"/scratch/izar/nkaltenr/\"\n",
    "\n",
    "train_dataset = LandCoverData(path, split=\"train\", ignore_last_number=11, use_augmented=True)\n",
    "val_dataset = LandCoverData(path, split=\"val\")"
   ]
  },
  {
   "cell_type": "code",
   "execution_count": 52,
   "id": "08078119",
   "metadata": {},
   "outputs": [],
   "source": [
    "BATCH_SIZE = 16\n",
    "\n",
    "# num_workers 8 default but 2 on colab\n",
    "train_dl = DataLoader(train_dataset, BATCH_SIZE, True, drop_last=True)\n",
    "val_dl = DataLoader(val_dataset, BATCH_SIZE, False, drop_last=True)"
   ]
  },
  {
   "cell_type": "code",
   "execution_count": 53,
   "id": "ef7dc93b",
   "metadata": {},
   "outputs": [],
   "source": [
    "INPUT_IMAGE_HEIGHT=200\n",
    "INPUT_IMAGE_WIDTH=200\n",
    "\n",
    "DEVICE = \"cuda\"\n",
    "#DEVICE = \"cpu\"\n",
    "INIT_LR = 1e-3\n",
    "INIT_MOMENTUM = 0.9\n",
    "INIT_WEIGHT_DECAY = 0.01\n",
    "NUM_EPOCHS = 400"
   ]
  },
  {
   "cell_type": "code",
   "execution_count": 54,
   "id": "12c11631",
   "metadata": {},
   "outputs": [
    {
     "name": "stderr",
     "output_type": "stream",
     "text": [
      "Using cache found in /home/damiani/.cache/torch/hub/adeelh_pytorch-multi-class-focal-loss_master\n"
     ]
    }
   ],
   "source": [
    "focal_loss = torch.hub.load(\n",
    "\t'adeelh/pytorch-multi-class-focal-loss',\n",
    "\tmodel='focal_loss',\n",
    "\talpha=None,\n",
    "\tgamma=2,\n",
    "\treduction='mean',\n",
    "\tdevice=DEVICE,\n",
    "\tdtype=torch.float32,\n",
    "\tforce_reload=False\n",
    ")"
   ]
  },
  {
   "cell_type": "code",
   "execution_count": 75,
   "id": "2ef91167",
   "metadata": {},
   "outputs": [],
   "source": [
    "#weight_ce = [1., 3., 3.1, 14., 7., 3.3, 0.9, 1.]\n",
    "#class_weights_ce = torch.FloatTensor(weight_ce).to(DEVICE)\n",
    "#ce = CrossEntropyLoss(weight=class_weights_ce)\n",
    "ce = CrossEntropyLoss()\n",
    "\n",
    "#INIT_ALPHA = 10.0\n",
    "#INIT_GAMMA = 2.0\n",
    "#ml = MixedLoss(INIT_ALPHA, INIT_GAMMA)\n",
    "#ftl = FocalTverskyLoss()\n",
    "iou=lossPY.mIoULoss(n_classes=8).to(DEVICE)\n",
    "\n",
    "\n",
    "def UnetLoss(preds, targets):\n",
    "    #print(f\"preds : {preds.shape}\")\n",
    "    #print(f\"targets : {targets.shape}\")\n",
    "    #ce_loss = ce(preds, targets)\n",
    "    #d_loss = dice_coef_8cat_loss(targets, preds)\n",
    "    \n",
    "    iou_loss = iou(preds, targets)\n",
    "    \n",
    "    #mix_loss = ce_loss + d_loss\n",
    "    #ml_loss = ml\n",
    "    #fl = focal_loss(preds, targets)\n",
    "    #ftl_loss = ftl(preds, targets)\n",
    "    acc = (torch.max(preds, 1)[1] == targets).float().mean()\n",
    "    return iou_loss, acc"
   ]
  },
  {
   "cell_type": "code",
   "execution_count": 76,
   "id": "e26d1535",
   "metadata": {},
   "outputs": [],
   "source": [
    "from torch.optim import lr_scheduler"
   ]
  },
  {
   "cell_type": "code",
   "execution_count": 77,
   "id": "973cfaf1",
   "metadata": {},
   "outputs": [],
   "source": [
    "# initialize our UNet model\n",
    "unet = UNet(nbClasses=8\n",
    "           ).to(DEVICE)\n",
    "# initialize loss function and optimizer\n",
    "lossFunc = UnetLoss\n",
    "#opt = SGD(unet.parameters(), lr=INIT_LR, momentum=INIT_MOMENTUM)\n",
    "opt = Adam(unet.parameters(), lr=0.001)\n",
    "#scheduler = lr_scheduler.StepLR(opt, step_size=5, gamma=0.5)\n",
    "#opt = Adam(unet.parameters(), lr=INIT_LR, weight_decay=INIT_WEIGHT_DECAY)\n",
    "# calculate steps per epoch for training and test set\n",
    "trainSteps = len(train_dataset) // BATCH_SIZE\n",
    "testSteps = len(val_dataset) // BATCH_SIZE\n",
    "# initialize a dictionary to store training history\n",
    "H = {\"train_loss\": [], \"test_loss\": [], \"train_acc\": [], \"test_acc\": []}\n",
    "bestValLoss = float('inf')\n",
    "bestValAcc = -1"
   ]
  },
  {
   "cell_type": "code",
   "execution_count": null,
   "id": "b79be49e",
   "metadata": {},
   "outputs": [],
   "source": []
  },
  {
   "cell_type": "code",
   "execution_count": 78,
   "id": "7ca4c765",
   "metadata": {},
   "outputs": [],
   "source": [
    "#H = torch.load('unet_model_2023-01-03_0:54_fl_2_loss_dict.pth', map_location=torch.device(DEVICE))"
   ]
  },
  {
   "cell_type": "code",
   "execution_count": null,
   "id": "b91b0834",
   "metadata": {
    "scrolled": true
   },
   "outputs": [],
   "source": []
  },
  {
   "cell_type": "code",
   "execution_count": 79,
   "id": "9eef6bcc",
   "metadata": {},
   "outputs": [],
   "source": [
    "#unet.load_state_dict(torch.load('unet_model_epoch_200_fl_2_loss.pth', map_location=torch.device(DEVICE)))"
   ]
  },
  {
   "cell_type": "code",
   "execution_count": 80,
   "id": "3db3fc99",
   "metadata": {
    "scrolled": true
   },
   "outputs": [
    {
     "name": "stdout",
     "output_type": "stream",
     "text": [
      "[INFO] training the network...\n"
     ]
    },
    {
     "name": "stderr",
     "output_type": "stream",
     "text": [
      "\r",
      "  0%|                                                                                               | 0/100 [00:00<?, ?it/s]"
     ]
    },
    {
     "name": "stdout",
     "output_type": "stream",
     "text": [
      "[INFO] EPOCH: 1/100\n",
      "       train loss: 0.8808, val loss: 0.8956\n",
      "       train acc: 0.5893%, val acc: 0.5467%\n",
      "best loss => saving\n",
      "best acc => saving\n"
     ]
    },
    {
     "name": "stderr",
     "output_type": "stream",
     "text": [
      "\r",
      "  1%|▊                                                                                   | 1/100 [02:13<3:40:48, 133.82s/it]"
     ]
    },
    {
     "name": "stdout",
     "output_type": "stream",
     "text": [
      "[INFO] EPOCH: 2/100\n",
      "       train loss: 0.8717, val loss: 0.8961\n",
      "       train acc: 0.6174%, val acc: 0.5499%\n",
      "best acc => saving\n"
     ]
    },
    {
     "name": "stderr",
     "output_type": "stream",
     "text": [
      "  3%|██▌                                                                                 | 3/100 [06:37<3:33:42, 132.19s/it]"
     ]
    },
    {
     "name": "stdout",
     "output_type": "stream",
     "text": [
      "[INFO] EPOCH: 3/100\n",
      "       train loss: 0.8681, val loss: 0.8963\n",
      "       train acc: 0.6307%, val acc: 0.5466%\n",
      "[INFO] EPOCH: 4/100\n",
      "       train loss: 0.8660, val loss: 0.8953\n",
      "       train acc: 0.6397%, val acc: 0.5398%\n",
      "best loss => saving\n"
     ]
    },
    {
     "name": "stderr",
     "output_type": "stream",
     "text": [
      "  5%|████▏                                                                               | 5/100 [11:00<3:28:47, 131.87s/it]"
     ]
    },
    {
     "name": "stdout",
     "output_type": "stream",
     "text": [
      "[INFO] EPOCH: 5/100\n",
      "       train loss: 0.8638, val loss: 0.8967\n",
      "       train acc: 0.6488%, val acc: 0.5410%\n"
     ]
    },
    {
     "name": "stderr",
     "output_type": "stream",
     "text": [
      "\r",
      "  6%|█████                                                                               | 6/100 [13:12<3:26:33, 131.84s/it]"
     ]
    },
    {
     "name": "stdout",
     "output_type": "stream",
     "text": [
      "[INFO] EPOCH: 6/100\n",
      "       train loss: 0.8621, val loss: 0.9046\n",
      "       train acc: 0.6553%, val acc: 0.5041%\n"
     ]
    },
    {
     "name": "stderr",
     "output_type": "stream",
     "text": [
      "\r",
      "  7%|█████▉                                                                              | 7/100 [15:24<3:24:11, 131.73s/it]"
     ]
    },
    {
     "name": "stdout",
     "output_type": "stream",
     "text": [
      "[INFO] EPOCH: 7/100\n",
      "       train loss: 0.8606, val loss: 0.8974\n",
      "       train acc: 0.6628%, val acc: 0.5388%\n"
     ]
    },
    {
     "name": "stderr",
     "output_type": "stream",
     "text": [
      "\r",
      "  8%|██████▋                                                                             | 8/100 [17:35<3:21:56, 131.70s/it]"
     ]
    },
    {
     "name": "stdout",
     "output_type": "stream",
     "text": [
      "[INFO] EPOCH: 8/100\n",
      "       train loss: 0.8593, val loss: 0.8979\n",
      "       train acc: 0.6661%, val acc: 0.5431%\n"
     ]
    },
    {
     "name": "stderr",
     "output_type": "stream",
     "text": [
      "\r",
      "  9%|███████▌                                                                            | 9/100 [19:47<3:19:42, 131.68s/it]"
     ]
    },
    {
     "name": "stdout",
     "output_type": "stream",
     "text": [
      "[INFO] EPOCH: 9/100\n",
      "       train loss: 0.8581, val loss: 0.8970\n",
      "       train acc: 0.6707%, val acc: 0.5354%\n",
      "[INFO] EPOCH: 10/100\n",
      "       train loss: 0.8570, val loss: 0.8933\n",
      "       train acc: 0.6741%, val acc: 0.5532%\n",
      "best loss => saving\n",
      "best acc => saving\n"
     ]
    },
    {
     "name": "stderr",
     "output_type": "stream",
     "text": [
      " 11%|█████████▏                                                                         | 11/100 [24:11<3:15:30, 131.80s/it]"
     ]
    },
    {
     "name": "stdout",
     "output_type": "stream",
     "text": [
      "[INFO] EPOCH: 11/100\n",
      "       train loss: 0.8571, val loss: 0.8934\n",
      "       train acc: 0.6731%, val acc: 0.5518%\n"
     ]
    },
    {
     "name": "stderr",
     "output_type": "stream",
     "text": [
      "\r",
      " 12%|█████████▉                                                                         | 12/100 [26:22<3:13:19, 131.81s/it]"
     ]
    },
    {
     "name": "stdout",
     "output_type": "stream",
     "text": [
      "[INFO] EPOCH: 12/100\n",
      "       train loss: 0.8556, val loss: 0.8972\n",
      "       train acc: 0.6793%, val acc: 0.5295%\n"
     ]
    },
    {
     "name": "stderr",
     "output_type": "stream",
     "text": [
      "\r",
      " 13%|██████████▊                                                                        | 13/100 [28:34<3:11:00, 131.73s/it]"
     ]
    },
    {
     "name": "stdout",
     "output_type": "stream",
     "text": [
      "[INFO] EPOCH: 13/100\n",
      "       train loss: 0.8544, val loss: 0.8970\n",
      "       train acc: 0.6808%, val acc: 0.5259%\n"
     ]
    },
    {
     "name": "stderr",
     "output_type": "stream",
     "text": [
      "\r",
      " 14%|███████████▌                                                                       | 14/100 [30:46<3:08:48, 131.72s/it]"
     ]
    },
    {
     "name": "stdout",
     "output_type": "stream",
     "text": [
      "[INFO] EPOCH: 14/100\n",
      "       train loss: 0.8538, val loss: 0.8947\n",
      "       train acc: 0.6827%, val acc: 0.5451%\n",
      "[INFO] EPOCH: 15/100\n",
      "       train loss: 0.8529, val loss: 0.8919\n",
      "       train acc: 0.6857%, val acc: 0.5528%\n",
      "best loss => saving\n"
     ]
    },
    {
     "name": "stderr",
     "output_type": "stream",
     "text": [
      "\r",
      " 15%|████████████▍                                                                      | 15/100 [32:58<3:06:37, 131.74s/it]"
     ]
    },
    {
     "name": "stdout",
     "output_type": "stream",
     "text": [
      "[INFO] EPOCH: 16/100\n",
      "       train loss: 0.8525, val loss: 0.8925\n",
      "       train acc: 0.6865%, val acc: 0.5643%\n",
      "best acc => saving\n"
     ]
    },
    {
     "name": "stderr",
     "output_type": "stream",
     "text": [
      " 17%|██████████████                                                                     | 17/100 [37:22<3:02:43, 132.09s/it]"
     ]
    },
    {
     "name": "stdout",
     "output_type": "stream",
     "text": [
      "[INFO] EPOCH: 17/100\n",
      "       train loss: 0.8510, val loss: 0.8970\n",
      "       train acc: 0.6927%, val acc: 0.5202%\n"
     ]
    },
    {
     "name": "stderr",
     "output_type": "stream",
     "text": [
      "\r",
      " 18%|██████████████▉                                                                    | 18/100 [39:34<3:00:17, 131.92s/it]"
     ]
    },
    {
     "name": "stdout",
     "output_type": "stream",
     "text": [
      "[INFO] EPOCH: 18/100\n",
      "       train loss: 0.8499, val loss: 0.8939\n",
      "       train acc: 0.6956%, val acc: 0.5326%\n"
     ]
    },
    {
     "name": "stderr",
     "output_type": "stream",
     "text": [
      "\r",
      " 19%|███████████████▊                                                                   | 19/100 [41:45<2:57:57, 131.82s/it]"
     ]
    },
    {
     "name": "stdout",
     "output_type": "stream",
     "text": [
      "[INFO] EPOCH: 19/100\n",
      "       train loss: 0.8499, val loss: 0.8938\n",
      "       train acc: 0.6951%, val acc: 0.5437%\n",
      "[INFO] EPOCH: 20/100\n",
      "       train loss: 0.8484, val loss: 0.8909\n",
      "       train acc: 0.6991%, val acc: 0.5499%\n",
      "best loss => saving\n"
     ]
    },
    {
     "name": "stderr",
     "output_type": "stream",
     "text": [
      " 21%|█████████████████▍                                                                 | 21/100 [46:09<2:53:34, 131.83s/it]"
     ]
    },
    {
     "name": "stdout",
     "output_type": "stream",
     "text": [
      "[INFO] EPOCH: 21/100\n",
      "       train loss: 0.8482, val loss: 0.8945\n",
      "       train acc: 0.6992%, val acc: 0.5268%\n",
      "[INFO] EPOCH: 22/100\n",
      "       train loss: 0.8465, val loss: 0.8845\n",
      "       train acc: 0.7036%, val acc: 0.5919%\n",
      "best loss => saving\n",
      "best acc => saving\n"
     ]
    },
    {
     "name": "stderr",
     "output_type": "stream",
     "text": [
      " 23%|███████████████████                                                                | 23/100 [50:33<2:49:18, 131.93s/it]"
     ]
    },
    {
     "name": "stdout",
     "output_type": "stream",
     "text": [
      "[INFO] EPOCH: 23/100\n",
      "       train loss: 0.8458, val loss: 0.8855\n",
      "       train acc: 0.7068%, val acc: 0.5917%\n"
     ]
    },
    {
     "name": "stderr",
     "output_type": "stream",
     "text": [
      "\r",
      " 24%|███████████████████▉                                                               | 24/100 [52:46<2:47:32, 132.26s/it]"
     ]
    },
    {
     "name": "stdout",
     "output_type": "stream",
     "text": [
      "[INFO] EPOCH: 24/100\n",
      "       train loss: 0.8455, val loss: 0.8965\n",
      "       train acc: 0.7069%, val acc: 0.5270%\n",
      "[INFO] EPOCH: 25/100\n",
      "       train loss: 0.8447, val loss: 0.8827\n",
      "       train acc: 0.7101%, val acc: 0.5909%\n",
      "best loss => saving\n"
     ]
    },
    {
     "name": "stderr",
     "output_type": "stream",
     "text": [
      " 26%|█████████████████████▌                                                             | 26/100 [57:10<2:42:47, 132.00s/it]"
     ]
    },
    {
     "name": "stdout",
     "output_type": "stream",
     "text": [
      "[INFO] EPOCH: 26/100\n",
      "       train loss: 0.8430, val loss: 0.8854\n",
      "       train acc: 0.7150%, val acc: 0.5701%\n"
     ]
    },
    {
     "name": "stderr",
     "output_type": "stream",
     "text": [
      "\r",
      " 27%|██████████████████████▍                                                            | 27/100 [59:21<2:40:28, 131.89s/it]"
     ]
    },
    {
     "name": "stdout",
     "output_type": "stream",
     "text": [
      "[INFO] EPOCH: 27/100\n",
      "       train loss: 0.8412, val loss: 0.8869\n",
      "       train acc: 0.7197%, val acc: 0.5643%\n"
     ]
    },
    {
     "name": "stderr",
     "output_type": "stream",
     "text": [
      "\r",
      " 28%|██████████████████████▋                                                          | 28/100 [1:01:33<2:38:09, 131.80s/it]"
     ]
    },
    {
     "name": "stdout",
     "output_type": "stream",
     "text": [
      "[INFO] EPOCH: 28/100\n",
      "       train loss: 0.8403, val loss: 0.8865\n",
      "       train acc: 0.7207%, val acc: 0.5626%\n"
     ]
    },
    {
     "name": "stderr",
     "output_type": "stream",
     "text": [
      "\r",
      " 29%|███████████████████████▍                                                         | 29/100 [1:03:45<2:35:52, 131.72s/it]"
     ]
    },
    {
     "name": "stdout",
     "output_type": "stream",
     "text": [
      "[INFO] EPOCH: 29/100\n",
      "       train loss: 0.8392, val loss: 0.8838\n",
      "       train acc: 0.7252%, val acc: 0.5710%\n"
     ]
    },
    {
     "name": "stderr",
     "output_type": "stream",
     "text": [
      "\r",
      " 30%|████████████████████████▎                                                        | 30/100 [1:05:56<2:33:38, 131.69s/it]"
     ]
    },
    {
     "name": "stdout",
     "output_type": "stream",
     "text": [
      "[INFO] EPOCH: 30/100\n",
      "       train loss: 0.8392, val loss: 0.8860\n",
      "       train acc: 0.7254%, val acc: 0.5712%\n"
     ]
    },
    {
     "name": "stderr",
     "output_type": "stream",
     "text": [
      "\r",
      " 31%|█████████████████████████                                                        | 31/100 [1:08:09<2:31:42, 131.92s/it]"
     ]
    },
    {
     "name": "stdout",
     "output_type": "stream",
     "text": [
      "[INFO] EPOCH: 31/100\n",
      "       train loss: 0.8385, val loss: 0.8869\n",
      "       train acc: 0.7273%, val acc: 0.5622%\n",
      "[INFO] EPOCH: 32/100\n",
      "       train loss: 0.8380, val loss: 0.8813\n",
      "       train acc: 0.7301%, val acc: 0.5784%\n",
      "best loss => saving\n"
     ]
    },
    {
     "name": "stderr",
     "output_type": "stream",
     "text": [
      "\r",
      " 32%|█████████████████████████▉                                                       | 32/100 [1:10:20<2:29:27, 131.87s/it]"
     ]
    },
    {
     "name": "stdout",
     "output_type": "stream",
     "text": [
      "[INFO] EPOCH: 33/100\n",
      "       train loss: 0.8374, val loss: 0.8810\n",
      "       train acc: 0.7304%, val acc: 0.6052%\n",
      "best loss => saving\n",
      "best acc => saving\n"
     ]
    },
    {
     "name": "stderr",
     "output_type": "stream",
     "text": [
      "\r",
      " 33%|██████████████████████████▋                                                      | 33/100 [1:12:33<2:27:23, 131.99s/it]"
     ]
    },
    {
     "name": "stdout",
     "output_type": "stream",
     "text": [
      "[INFO] EPOCH: 34/100\n",
      "       train loss: 0.8369, val loss: 0.8783\n",
      "       train acc: 0.7317%, val acc: 0.6025%\n",
      "best loss => saving\n"
     ]
    },
    {
     "name": "stderr",
     "output_type": "stream",
     "text": [
      " 35%|████████████████████████████▎                                                    | 35/100 [1:16:56<2:22:50, 131.86s/it]"
     ]
    },
    {
     "name": "stdout",
     "output_type": "stream",
     "text": [
      "[INFO] EPOCH: 35/100\n",
      "       train loss: 0.8367, val loss: 0.8812\n",
      "       train acc: 0.7339%, val acc: 0.5939%\n"
     ]
    },
    {
     "name": "stderr",
     "output_type": "stream",
     "text": [
      "\r",
      " 36%|█████████████████████████████▏                                                   | 36/100 [1:19:08<2:20:35, 131.80s/it]"
     ]
    },
    {
     "name": "stdout",
     "output_type": "stream",
     "text": [
      "[INFO] EPOCH: 36/100\n",
      "       train loss: 0.8357, val loss: 0.8858\n",
      "       train acc: 0.7354%, val acc: 0.5745%\n"
     ]
    },
    {
     "name": "stderr",
     "output_type": "stream",
     "text": [
      "\r",
      " 37%|█████████████████████████████▉                                                   | 37/100 [1:21:19<2:18:18, 131.72s/it]"
     ]
    },
    {
     "name": "stdout",
     "output_type": "stream",
     "text": [
      "[INFO] EPOCH: 37/100\n",
      "       train loss: 0.8349, val loss: 0.8826\n",
      "       train acc: 0.7393%, val acc: 0.5727%\n"
     ]
    },
    {
     "name": "stderr",
     "output_type": "stream",
     "text": [
      "\r",
      " 38%|██████████████████████████████▊                                                  | 38/100 [1:23:31<2:16:06, 131.71s/it]"
     ]
    },
    {
     "name": "stdout",
     "output_type": "stream",
     "text": [
      "[INFO] EPOCH: 38/100\n",
      "       train loss: 0.8342, val loss: 0.8825\n",
      "       train acc: 0.7409%, val acc: 0.5829%\n",
      "[INFO] EPOCH: 39/100\n",
      "       train loss: 0.8335, val loss: 0.8788\n",
      "       train acc: 0.7427%, val acc: 0.6099%\n",
      "best acc => saving\n"
     ]
    },
    {
     "name": "stderr",
     "output_type": "stream",
     "text": [
      " 40%|████████████████████████████████▍                                                | 40/100 [1:27:55<2:11:49, 131.83s/it]"
     ]
    },
    {
     "name": "stdout",
     "output_type": "stream",
     "text": [
      "[INFO] EPOCH: 40/100\n",
      "       train loss: 0.8339, val loss: 0.8852\n",
      "       train acc: 0.7403%, val acc: 0.5800%\n",
      "[INFO] EPOCH: 41/100\n",
      "       train loss: 0.8328, val loss: 0.8735\n",
      "       train acc: 0.7441%, val acc: 0.6410%\n",
      "best loss => saving\n",
      "best acc => saving\n"
     ]
    },
    {
     "name": "stderr",
     "output_type": "stream",
     "text": [
      " 42%|██████████████████████████████████                                               | 42/100 [1:32:19<2:07:31, 131.93s/it]"
     ]
    },
    {
     "name": "stdout",
     "output_type": "stream",
     "text": [
      "[INFO] EPOCH: 42/100\n",
      "       train loss: 0.8322, val loss: 0.8845\n",
      "       train acc: 0.7453%, val acc: 0.5685%\n",
      "[INFO] EPOCH: 43/100\n",
      "       train loss: 0.8317, val loss: 0.8734\n",
      "       train acc: 0.7470%, val acc: 0.6229%\n",
      "best loss => saving\n"
     ]
    },
    {
     "name": "stderr",
     "output_type": "stream",
     "text": [
      " 44%|███████████████████████████████████▋                                             | 44/100 [1:36:43<2:03:07, 131.93s/it]"
     ]
    },
    {
     "name": "stdout",
     "output_type": "stream",
     "text": [
      "[INFO] EPOCH: 44/100\n",
      "       train loss: 0.8318, val loss: 0.8785\n",
      "       train acc: 0.7457%, val acc: 0.5976%\n"
     ]
    },
    {
     "name": "stderr",
     "output_type": "stream",
     "text": [
      "\r",
      " 45%|████████████████████████████████████▍                                            | 45/100 [1:38:55<2:00:50, 131.82s/it]"
     ]
    },
    {
     "name": "stdout",
     "output_type": "stream",
     "text": [
      "[INFO] EPOCH: 45/100\n",
      "       train loss: 0.8340, val loss: 0.8889\n",
      "       train acc: 0.7394%, val acc: 0.5474%\n"
     ]
    },
    {
     "name": "stderr",
     "output_type": "stream",
     "text": [
      "\r",
      " 46%|█████████████████████████████████████▎                                           | 46/100 [1:41:07<1:58:46, 131.97s/it]"
     ]
    },
    {
     "name": "stdout",
     "output_type": "stream",
     "text": [
      "[INFO] EPOCH: 46/100\n",
      "       train loss: 0.8314, val loss: 0.8789\n",
      "       train acc: 0.7468%, val acc: 0.5990%\n"
     ]
    },
    {
     "name": "stderr",
     "output_type": "stream",
     "text": [
      "\r",
      " 47%|██████████████████████████████████████                                           | 47/100 [1:43:20<1:56:46, 132.20s/it]"
     ]
    },
    {
     "name": "stdout",
     "output_type": "stream",
     "text": [
      "[INFO] EPOCH: 47/100\n",
      "       train loss: 0.8302, val loss: 0.8832\n",
      "       train acc: 0.7497%, val acc: 0.5776%\n"
     ]
    },
    {
     "name": "stderr",
     "output_type": "stream",
     "text": [
      "\r",
      " 48%|██████████████████████████████████████▉                                          | 48/100 [1:45:41<1:56:52, 134.86s/it]"
     ]
    },
    {
     "name": "stdout",
     "output_type": "stream",
     "text": [
      "[INFO] EPOCH: 48/100\n",
      "       train loss: 0.8297, val loss: 0.8767\n",
      "       train acc: 0.7518%, val acc: 0.6112%\n"
     ]
    },
    {
     "name": "stderr",
     "output_type": "stream",
     "text": [
      "\r",
      " 49%|███████████████████████████████████████▋                                         | 49/100 [1:48:04<1:56:48, 137.42s/it]"
     ]
    },
    {
     "name": "stdout",
     "output_type": "stream",
     "text": [
      "[INFO] EPOCH: 49/100\n",
      "       train loss: 0.8287, val loss: 0.8789\n",
      "       train acc: 0.7550%, val acc: 0.5993%\n",
      "[INFO] EPOCH: 50/100\n",
      "       train loss: 0.8286, val loss: 0.8774\n",
      "       train acc: 0.7553%, val acc: 0.6136%\n",
      "SAVING\n"
     ]
    },
    {
     "name": "stderr",
     "output_type": "stream",
     "text": [
      " 51%|█████████████████████████████████████████▎                                       | 51/100 [1:53:27<2:02:58, 150.58s/it]"
     ]
    },
    {
     "name": "stdout",
     "output_type": "stream",
     "text": [
      "[INFO] EPOCH: 51/100\n",
      "       train loss: 0.8275, val loss: 0.8814\n",
      "       train acc: 0.7576%, val acc: 0.5853%\n"
     ]
    },
    {
     "name": "stderr",
     "output_type": "stream",
     "text": [
      "\r",
      " 52%|██████████████████████████████████████████                                       | 52/100 [1:56:32<2:08:52, 161.09s/it]"
     ]
    },
    {
     "name": "stdout",
     "output_type": "stream",
     "text": [
      "[INFO] EPOCH: 52/100\n",
      "       train loss: 0.8270, val loss: 0.8802\n",
      "       train acc: 0.7580%, val acc: 0.6042%\n"
     ]
    },
    {
     "name": "stderr",
     "output_type": "stream",
     "text": [
      "\r",
      " 53%|██████████████████████████████████████████▉                                      | 53/100 [1:59:45<2:13:35, 170.54s/it]"
     ]
    },
    {
     "name": "stdout",
     "output_type": "stream",
     "text": [
      "[INFO] EPOCH: 53/100\n",
      "       train loss: 0.8269, val loss: 0.8815\n",
      "       train acc: 0.7575%, val acc: 0.5884%\n"
     ]
    },
    {
     "name": "stderr",
     "output_type": "stream",
     "text": [
      "\r",
      " 54%|███████████████████████████████████████████▋                                     | 54/100 [2:03:13<2:19:16, 181.66s/it]"
     ]
    },
    {
     "name": "stdout",
     "output_type": "stream",
     "text": [
      "[INFO] EPOCH: 54/100\n",
      "       train loss: 0.8264, val loss: 0.8799\n",
      "       train acc: 0.7591%, val acc: 0.5895%\n"
     ]
    },
    {
     "name": "stderr",
     "output_type": "stream",
     "text": [
      "\r",
      " 55%|████████████████████████████████████████████▌                                    | 55/100 [2:07:10<2:28:44, 198.31s/it]"
     ]
    },
    {
     "name": "stdout",
     "output_type": "stream",
     "text": [
      "[INFO] EPOCH: 55/100\n",
      "       train loss: 0.8258, val loss: 0.8777\n",
      "       train acc: 0.7604%, val acc: 0.6071%\n"
     ]
    },
    {
     "name": "stderr",
     "output_type": "stream",
     "text": [
      "\r",
      " 56%|█████████████████████████████████████████████▎                                   | 56/100 [2:11:30<2:39:02, 216.88s/it]"
     ]
    },
    {
     "name": "stdout",
     "output_type": "stream",
     "text": [
      "[INFO] EPOCH: 56/100\n",
      "       train loss: 0.8251, val loss: 0.8787\n",
      "       train acc: 0.7623%, val acc: 0.5945%\n"
     ]
    },
    {
     "name": "stderr",
     "output_type": "stream",
     "text": [
      "\r",
      " 57%|██████████████████████████████████████████████▏                                  | 57/100 [2:15:48<2:44:21, 229.35s/it]"
     ]
    },
    {
     "name": "stdout",
     "output_type": "stream",
     "text": [
      "[INFO] EPOCH: 57/100\n",
      "       train loss: 0.8244, val loss: 0.8752\n",
      "       train acc: 0.7649%, val acc: 0.6193%\n"
     ]
    },
    {
     "name": "stderr",
     "output_type": "stream",
     "text": [
      "\r",
      " 58%|██████████████████████████████████████████████▉                                  | 58/100 [2:19:31<2:39:02, 227.19s/it]"
     ]
    },
    {
     "name": "stdout",
     "output_type": "stream",
     "text": [
      "[INFO] EPOCH: 58/100\n",
      "       train loss: 0.8236, val loss: 0.8747\n",
      "       train acc: 0.7655%, val acc: 0.6274%\n"
     ]
    },
    {
     "name": "stderr",
     "output_type": "stream",
     "text": [
      "\r",
      " 59%|███████████████████████████████████████████████▊                                 | 59/100 [2:23:30<2:37:51, 231.02s/it]"
     ]
    },
    {
     "name": "stdout",
     "output_type": "stream",
     "text": [
      "[INFO] EPOCH: 59/100\n",
      "       train loss: 0.8229, val loss: 0.8781\n",
      "       train acc: 0.7674%, val acc: 0.6079%\n",
      "[INFO] EPOCH: 60/100\n",
      "       train loss: 0.8233, val loss: 0.8732\n",
      "       train acc: 0.7656%, val acc: 0.6301%\n",
      "best loss => saving\n"
     ]
    },
    {
     "name": "stderr",
     "output_type": "stream",
     "text": [
      " 61%|█████████████████████████████████████████████████▍                               | 61/100 [2:31:43<2:35:12, 238.79s/it]"
     ]
    },
    {
     "name": "stdout",
     "output_type": "stream",
     "text": [
      "[INFO] EPOCH: 61/100\n",
      "       train loss: 0.8218, val loss: 0.8845\n",
      "       train acc: 0.7695%, val acc: 0.5834%\n"
     ]
    },
    {
     "name": "stderr",
     "output_type": "stream",
     "text": [
      "\r",
      " 62%|██████████████████████████████████████████████████▏                              | 62/100 [2:35:47<2:32:20, 240.55s/it]"
     ]
    },
    {
     "name": "stdout",
     "output_type": "stream",
     "text": [
      "[INFO] EPOCH: 62/100\n",
      "       train loss: 0.8213, val loss: 0.8754\n",
      "       train acc: 0.7709%, val acc: 0.6159%\n"
     ]
    },
    {
     "name": "stderr",
     "output_type": "stream",
     "text": [
      "\r",
      " 63%|███████████████████████████████████████████████████                              | 63/100 [2:39:50<2:28:40, 241.09s/it]"
     ]
    },
    {
     "name": "stdout",
     "output_type": "stream",
     "text": [
      "[INFO] EPOCH: 63/100\n",
      "       train loss: 0.8206, val loss: 0.8836\n",
      "       train acc: 0.7719%, val acc: 0.5808%\n"
     ]
    },
    {
     "name": "stderr",
     "output_type": "stream",
     "text": [
      "\r",
      " 64%|███████████████████████████████████████████████████▊                             | 64/100 [2:43:45<2:23:31, 239.21s/it]"
     ]
    },
    {
     "name": "stdout",
     "output_type": "stream",
     "text": [
      "[INFO] EPOCH: 64/100\n",
      "       train loss: 0.8203, val loss: 0.8749\n",
      "       train acc: 0.7738%, val acc: 0.6126%\n"
     ]
    },
    {
     "name": "stderr",
     "output_type": "stream",
     "text": [
      "\r",
      " 65%|████████████████████████████████████████████████████▋                            | 65/100 [2:47:25<2:16:14, 233.57s/it]"
     ]
    },
    {
     "name": "stdout",
     "output_type": "stream",
     "text": [
      "[INFO] EPOCH: 65/100\n",
      "       train loss: 0.8199, val loss: 0.8757\n",
      "       train acc: 0.7730%, val acc: 0.6137%\n",
      "[INFO] EPOCH: 66/100\n",
      "       train loss: 0.8192, val loss: 0.8700\n",
      "       train acc: 0.7761%, val acc: 0.6628%\n",
      "best loss => saving\n",
      "best acc => saving\n"
     ]
    },
    {
     "name": "stderr",
     "output_type": "stream",
     "text": [
      " 67%|██████████████████████████████████████████████████████▎                          | 67/100 [2:54:28<2:00:41, 219.43s/it]"
     ]
    },
    {
     "name": "stdout",
     "output_type": "stream",
     "text": [
      "[INFO] EPOCH: 67/100\n",
      "       train loss: 0.8187, val loss: 0.8798\n",
      "       train acc: 0.7758%, val acc: 0.6043%\n"
     ]
    },
    {
     "name": "stderr",
     "output_type": "stream",
     "text": [
      "\r",
      " 68%|███████████████████████████████████████████████████████                          | 68/100 [2:58:21<1:59:11, 223.50s/it]"
     ]
    },
    {
     "name": "stdout",
     "output_type": "stream",
     "text": [
      "[INFO] EPOCH: 68/100\n",
      "       train loss: 0.8173, val loss: 0.8768\n",
      "       train acc: 0.7789%, val acc: 0.6114%\n"
     ]
    },
    {
     "name": "stderr",
     "output_type": "stream",
     "text": [
      "\r",
      " 69%|███████████████████████████████████████████████████████▉                         | 69/100 [3:02:30<1:59:25, 231.14s/it]"
     ]
    },
    {
     "name": "stdout",
     "output_type": "stream",
     "text": [
      "[INFO] EPOCH: 69/100\n",
      "       train loss: 0.8167, val loss: 0.8738\n",
      "       train acc: 0.7800%, val acc: 0.6470%\n"
     ]
    },
    {
     "name": "stderr",
     "output_type": "stream",
     "text": [
      "\r",
      " 70%|████████████████████████████████████████████████████████▋                        | 70/100 [3:06:44<1:58:53, 237.77s/it]"
     ]
    },
    {
     "name": "stdout",
     "output_type": "stream",
     "text": [
      "[INFO] EPOCH: 70/100\n",
      "       train loss: 0.8158, val loss: 0.8821\n",
      "       train acc: 0.7822%, val acc: 0.5836%\n"
     ]
    },
    {
     "name": "stderr",
     "output_type": "stream",
     "text": [
      "\r",
      " 71%|█████████████████████████████████████████████████████████▌                       | 71/100 [3:10:57<1:57:13, 242.53s/it]"
     ]
    },
    {
     "name": "stdout",
     "output_type": "stream",
     "text": [
      "[INFO] EPOCH: 71/100\n",
      "       train loss: 0.8154, val loss: 0.8736\n",
      "       train acc: 0.7822%, val acc: 0.6297%\n"
     ]
    },
    {
     "name": "stderr",
     "output_type": "stream",
     "text": [
      "\r",
      " 72%|██████████████████████████████████████████████████████████▎                      | 72/100 [3:13:42<1:42:18, 219.23s/it]"
     ]
    },
    {
     "name": "stdout",
     "output_type": "stream",
     "text": [
      "[INFO] EPOCH: 72/100\n",
      "       train loss: 0.8149, val loss: 0.8710\n",
      "       train acc: 0.7840%, val acc: 0.6412%\n"
     ]
    },
    {
     "name": "stderr",
     "output_type": "stream",
     "text": [
      "\r",
      " 73%|███████████████████████████████████████████████████████████▏                     | 73/100 [3:16:06<1:28:29, 196.66s/it]"
     ]
    },
    {
     "name": "stdout",
     "output_type": "stream",
     "text": [
      "[INFO] EPOCH: 73/100\n",
      "       train loss: 0.8142, val loss: 0.8758\n",
      "       train acc: 0.7853%, val acc: 0.6180%\n"
     ]
    },
    {
     "name": "stderr",
     "output_type": "stream",
     "text": [
      "\r",
      " 74%|███████████████████████████████████████████████████████████▉                     | 74/100 [3:18:27<1:17:55, 179.83s/it]"
     ]
    },
    {
     "name": "stdout",
     "output_type": "stream",
     "text": [
      "[INFO] EPOCH: 74/100\n",
      "       train loss: 0.8135, val loss: 0.8774\n",
      "       train acc: 0.7865%, val acc: 0.6048%\n"
     ]
    },
    {
     "name": "stderr",
     "output_type": "stream",
     "text": [
      "\r",
      " 75%|████████████████████████████████████████████████████████████▊                    | 75/100 [3:20:52<1:10:33, 169.36s/it]"
     ]
    },
    {
     "name": "stdout",
     "output_type": "stream",
     "text": [
      "[INFO] EPOCH: 75/100\n",
      "       train loss: 0.8124, val loss: 0.8746\n",
      "       train acc: 0.7876%, val acc: 0.6171%\n",
      "[INFO] EPOCH: 76/100\n",
      "       train loss: 0.8118, val loss: 0.8693\n",
      "       train acc: 0.7895%, val acc: 0.6565%\n",
      "best loss => saving\n"
     ]
    },
    {
     "name": "stderr",
     "output_type": "stream",
     "text": [
      " 77%|███████████████████████████████████████████████████████████████▉                   | 77/100 [3:25:36<59:35, 155.47s/it]"
     ]
    },
    {
     "name": "stdout",
     "output_type": "stream",
     "text": [
      "[INFO] EPOCH: 77/100\n",
      "       train loss: 0.8112, val loss: 0.8795\n",
      "       train acc: 0.7908%, val acc: 0.5941%\n"
     ]
    },
    {
     "name": "stderr",
     "output_type": "stream",
     "text": [
      "\r",
      " 78%|████████████████████████████████████████████████████████████████▋                  | 78/100 [3:28:04<56:14, 153.37s/it]"
     ]
    },
    {
     "name": "stdout",
     "output_type": "stream",
     "text": [
      "[INFO] EPOCH: 78/100\n",
      "       train loss: 0.8106, val loss: 0.8754\n",
      "       train acc: 0.7920%, val acc: 0.6133%\n"
     ]
    },
    {
     "name": "stderr",
     "output_type": "stream",
     "text": [
      "\r",
      " 79%|█████████████████████████████████████████████████████████████████▌                 | 79/100 [3:30:36<53:32, 153.00s/it]"
     ]
    },
    {
     "name": "stdout",
     "output_type": "stream",
     "text": [
      "[INFO] EPOCH: 79/100\n",
      "       train loss: 0.8096, val loss: 0.8762\n",
      "       train acc: 0.7939%, val acc: 0.6109%\n"
     ]
    },
    {
     "name": "stderr",
     "output_type": "stream",
     "text": [
      "\r",
      " 80%|██████████████████████████████████████████████████████████████████▍                | 80/100 [3:32:50<49:04, 147.24s/it]"
     ]
    },
    {
     "name": "stdout",
     "output_type": "stream",
     "text": [
      "[INFO] EPOCH: 80/100\n",
      "       train loss: 0.8081, val loss: 0.8829\n",
      "       train acc: 0.7970%, val acc: 0.5816%\n"
     ]
    },
    {
     "name": "stderr",
     "output_type": "stream",
     "text": [
      "\r",
      " 81%|███████████████████████████████████████████████████████████████████▏               | 81/100 [3:35:02<45:08, 142.55s/it]"
     ]
    },
    {
     "name": "stdout",
     "output_type": "stream",
     "text": [
      "[INFO] EPOCH: 81/100\n",
      "       train loss: 0.8072, val loss: 0.8749\n",
      "       train acc: 0.7979%, val acc: 0.6164%\n"
     ]
    },
    {
     "name": "stderr",
     "output_type": "stream",
     "text": [
      "\r",
      " 82%|████████████████████████████████████████████████████████████████████               | 82/100 [3:37:15<41:53, 139.65s/it]"
     ]
    },
    {
     "name": "stdout",
     "output_type": "stream",
     "text": [
      "[INFO] EPOCH: 82/100\n",
      "       train loss: 0.8087, val loss: 0.8862\n",
      "       train acc: 0.7944%, val acc: 0.5675%\n"
     ]
    },
    {
     "name": "stderr",
     "output_type": "stream",
     "text": [
      "\r",
      " 83%|████████████████████████████████████████████████████████████████████▉              | 83/100 [3:39:26<38:53, 137.26s/it]"
     ]
    },
    {
     "name": "stdout",
     "output_type": "stream",
     "text": [
      "[INFO] EPOCH: 83/100\n",
      "       train loss: 0.8072, val loss: 0.8770\n",
      "       train acc: 0.7968%, val acc: 0.6172%\n"
     ]
    },
    {
     "name": "stderr",
     "output_type": "stream",
     "text": [
      "\r",
      " 84%|█████████████████████████████████████████████████████████████████████▋             | 84/100 [3:41:38<36:08, 135.55s/it]"
     ]
    },
    {
     "name": "stdout",
     "output_type": "stream",
     "text": [
      "[INFO] EPOCH: 84/100\n",
      "       train loss: 0.8048, val loss: 0.8816\n",
      "       train acc: 0.8021%, val acc: 0.5879%\n",
      "[INFO] EPOCH: 85/100\n",
      "       train loss: 0.8043, val loss: 0.8661\n",
      "       train acc: 0.8021%, val acc: 0.6747%\n",
      "best loss => saving\n",
      "best acc => saving\n"
     ]
    },
    {
     "name": "stderr",
     "output_type": "stream",
     "text": [
      " 86%|███████████████████████████████████████████████████████████████████████▍           | 86/100 [3:46:02<31:14, 133.87s/it]"
     ]
    },
    {
     "name": "stdout",
     "output_type": "stream",
     "text": [
      "[INFO] EPOCH: 86/100\n",
      "       train loss: 0.8033, val loss: 0.8765\n",
      "       train acc: 0.8057%, val acc: 0.6060%\n"
     ]
    },
    {
     "name": "stderr",
     "output_type": "stream",
     "text": [
      "\r",
      " 87%|████████████████████████████████████████████████████████████████████████▏          | 87/100 [3:48:15<28:54, 133.44s/it]"
     ]
    },
    {
     "name": "stdout",
     "output_type": "stream",
     "text": [
      "[INFO] EPOCH: 87/100\n",
      "       train loss: 0.8017, val loss: 0.8700\n",
      "       train acc: 0.8083%, val acc: 0.6454%\n"
     ]
    },
    {
     "name": "stderr",
     "output_type": "stream",
     "text": [
      "\r",
      " 88%|█████████████████████████████████████████████████████████████████████████          | 88/100 [3:50:34<27:03, 135.25s/it]"
     ]
    },
    {
     "name": "stdout",
     "output_type": "stream",
     "text": [
      "[INFO] EPOCH: 88/100\n",
      "       train loss: 0.8008, val loss: 0.8784\n",
      "       train acc: 0.8102%, val acc: 0.6077%\n"
     ]
    },
    {
     "name": "stderr",
     "output_type": "stream",
     "text": [
      "\r",
      " 89%|█████████████████████████████████████████████████████████████████████████▊         | 89/100 [3:52:47<24:37, 134.35s/it]"
     ]
    },
    {
     "name": "stdout",
     "output_type": "stream",
     "text": [
      "[INFO] EPOCH: 89/100\n",
      "       train loss: 0.7998, val loss: 0.8786\n",
      "       train acc: 0.8118%, val acc: 0.5992%\n"
     ]
    },
    {
     "name": "stderr",
     "output_type": "stream",
     "text": [
      "\r",
      " 90%|██████████████████████████████████████████████████████████████████████████▋        | 90/100 [3:55:51<24:54, 149.47s/it]"
     ]
    },
    {
     "name": "stdout",
     "output_type": "stream",
     "text": [
      "[INFO] EPOCH: 90/100\n",
      "       train loss: 0.7995, val loss: 0.8768\n",
      "       train acc: 0.8123%, val acc: 0.6187%\n"
     ]
    },
    {
     "name": "stderr",
     "output_type": "stream",
     "text": [
      "\r",
      " 91%|███████████████████████████████████████████████████████████████████████████▌       | 91/100 [4:00:09<27:18, 182.01s/it]"
     ]
    },
    {
     "name": "stdout",
     "output_type": "stream",
     "text": [
      "[INFO] EPOCH: 91/100\n",
      "       train loss: 0.7974, val loss: 0.8698\n",
      "       train acc: 0.8166%, val acc: 0.6555%\n"
     ]
    },
    {
     "name": "stderr",
     "output_type": "stream",
     "text": [
      "\r",
      " 92%|████████████████████████████████████████████████████████████████████████████▎      | 92/100 [4:03:20<24:37, 184.68s/it]"
     ]
    },
    {
     "name": "stdout",
     "output_type": "stream",
     "text": [
      "[INFO] EPOCH: 92/100\n",
      "       train loss: 0.7976, val loss: 0.8765\n",
      "       train acc: 0.8154%, val acc: 0.6123%\n"
     ]
    },
    {
     "name": "stderr",
     "output_type": "stream",
     "text": [
      "\r",
      " 93%|█████████████████████████████████████████████████████████████████████████████▏     | 93/100 [4:05:33<19:43, 169.01s/it]"
     ]
    },
    {
     "name": "stdout",
     "output_type": "stream",
     "text": [
      "[INFO] EPOCH: 93/100\n",
      "       train loss: 0.7958, val loss: 0.8715\n",
      "       train acc: 0.8194%, val acc: 0.6439%\n"
     ]
    },
    {
     "name": "stderr",
     "output_type": "stream",
     "text": [
      "\r",
      " 94%|██████████████████████████████████████████████████████████████████████████████     | 94/100 [4:07:45<15:47, 157.89s/it]"
     ]
    },
    {
     "name": "stdout",
     "output_type": "stream",
     "text": [
      "[INFO] EPOCH: 94/100\n",
      "       train loss: 0.7942, val loss: 0.8814\n",
      "       train acc: 0.8218%, val acc: 0.5836%\n"
     ]
    },
    {
     "name": "stderr",
     "output_type": "stream",
     "text": [
      "\r",
      " 95%|██████████████████████████████████████████████████████████████████████████████▊    | 95/100 [4:09:56<12:30, 150.07s/it]"
     ]
    },
    {
     "name": "stdout",
     "output_type": "stream",
     "text": [
      "[INFO] EPOCH: 95/100\n",
      "       train loss: 0.7927, val loss: 0.8712\n",
      "       train acc: 0.8252%, val acc: 0.6450%\n"
     ]
    },
    {
     "name": "stderr",
     "output_type": "stream",
     "text": [
      "\r",
      " 96%|███████████████████████████████████████████████████████████████████████████████▋   | 96/100 [4:12:13<09:43, 145.92s/it]"
     ]
    },
    {
     "name": "stdout",
     "output_type": "stream",
     "text": [
      "[INFO] EPOCH: 96/100\n",
      "       train loss: 0.7915, val loss: 0.8745\n",
      "       train acc: 0.8275%, val acc: 0.6253%\n"
     ]
    },
    {
     "name": "stderr",
     "output_type": "stream",
     "text": [
      "\r",
      " 97%|████████████████████████████████████████████████████████████████████████████████▌  | 97/100 [4:14:45<07:23, 147.71s/it]"
     ]
    },
    {
     "name": "stdout",
     "output_type": "stream",
     "text": [
      "[INFO] EPOCH: 97/100\n",
      "       train loss: 0.7906, val loss: 0.8789\n",
      "       train acc: 0.8286%, val acc: 0.6112%\n"
     ]
    },
    {
     "name": "stderr",
     "output_type": "stream",
     "text": [
      "\r",
      " 98%|█████████████████████████████████████████████████████████████████████████████████▎ | 98/100 [4:17:47<05:16, 158.19s/it]"
     ]
    },
    {
     "name": "stdout",
     "output_type": "stream",
     "text": [
      "[INFO] EPOCH: 98/100\n",
      "       train loss: 0.7893, val loss: 0.8676\n",
      "       train acc: 0.8310%, val acc: 0.6702%\n"
     ]
    },
    {
     "name": "stderr",
     "output_type": "stream",
     "text": [
      "\r",
      " 99%|██████████████████████████████████████████████████████████████████████████████████▏| 99/100 [4:21:10<02:51, 171.50s/it]"
     ]
    },
    {
     "name": "stdout",
     "output_type": "stream",
     "text": [
      "[INFO] EPOCH: 99/100\n",
      "       train loss: 0.7887, val loss: 0.8790\n",
      "       train acc: 0.8318%, val acc: 0.6034%\n",
      "[INFO] EPOCH: 100/100\n",
      "       train loss: 0.7880, val loss: 0.8765\n",
      "       train acc: 0.8337%, val acc: 0.6206%\n",
      "SAVING\n"
     ]
    },
    {
     "name": "stderr",
     "output_type": "stream",
     "text": [
      "100%|██████████████████████████████████████████████████████████████████████████████████| 100/100 [4:24:36<00:00, 158.77s/it]"
     ]
    },
    {
     "name": "stdout",
     "output_type": "stream",
     "text": [
      "[INFO] total time taken to train the model: 15876.52s\n"
     ]
    },
    {
     "name": "stderr",
     "output_type": "stream",
     "text": [
      "\n"
     ]
    }
   ],
   "source": [
    "# loop over epochs\n",
    "NUM_EPOCHS = 100\n",
    "print(\"[INFO] training the network...\")\n",
    "startTime = time.time()\n",
    "#for e in tqdm(range(NUM_EPOCHS)):\n",
    "for e in tqdm(range(NUM_EPOCHS)):\n",
    "    # set the model in training mode\n",
    "    unet.train()\n",
    "    # initialize the total training and validation loss\n",
    "    totalTrainLoss = 0\n",
    "    totalTestLoss = 0\n",
    "    totalTrainAcc = 0\n",
    "    totalTestAcc = 0\n",
    "    # loop over the training set\n",
    "    for (i, (x, y)) in enumerate(train_dl):\n",
    "        # send the input to the device\n",
    "        (x, y) = (x.to(DEVICE), y.to(DEVICE))\n",
    "        # perform a forward pass and calculate the training loss\n",
    "        pred = unet(x)\n",
    "        y = y.to(torch.long)\n",
    "        y = y.squeeze()\n",
    "        \n",
    "        loss, acc = lossFunc(pred, y)\n",
    "        \n",
    "        # first, zero out any previously accumulated gradients, then\n",
    "        # perform backpropagation, and then update model parameters\n",
    "        opt.zero_grad()\n",
    "        loss.backward()\n",
    "        opt.step()\n",
    "        # add the loss to the total training loss so far\n",
    "        totalTrainLoss += loss\n",
    "        totalTrainAcc += acc\n",
    "    # switch off autograd\n",
    "    with torch.no_grad():\n",
    "        # set the model in evaluation mode\n",
    "        unet.eval()\n",
    "        # loop over the validation set\n",
    "        for (x, y) in val_dl:\n",
    "            # send the input to the device\n",
    "            (x, y) = (x.to(DEVICE), y.to(DEVICE))\n",
    "            # make the predictions and calculate the validation loss\n",
    "            pred = unet(x)\n",
    "            #pred=pred.to(torch.float32)\n",
    "            y = y.to(torch.long)\n",
    "            y = y.squeeze()\n",
    "            \n",
    "            loss, acc = lossFunc(pred, y)\n",
    "            totalTestLoss += loss\n",
    "            totalTestAcc += acc\n",
    "    # calculate the average training and validation loss\n",
    "    avgTrainLoss = totalTrainLoss / trainSteps\n",
    "    avgTestLoss = totalTestLoss / testSteps\n",
    "    avgTrainAcc = totalTrainAcc / trainSteps\n",
    "    avgTestAcc = totalTestAcc / testSteps\n",
    "    # update our training history\n",
    "    H[\"train_loss\"].append(avgTrainLoss.cpu().detach().numpy())\n",
    "    H[\"test_loss\"].append(avgTestLoss.cpu().detach().numpy())\n",
    "    H[\"train_acc\"].append(avgTrainAcc.cpu().detach().numpy())\n",
    "    H[\"test_acc\"].append(avgTestAcc.cpu().detach().numpy())\n",
    "    # print the model training and validation information\n",
    "    print(\"[INFO] EPOCH: {}/{}\".format(e + 1, NUM_EPOCHS))\n",
    "    print(\"       train loss: {:.4f}, val loss: {:.4f}\".format(\n",
    "      avgTrainLoss, avgTestLoss))\n",
    "    print(\"       train acc: {:.4f}%, val acc: {:.4f}%\".format(\n",
    "      avgTrainAcc, avgTestAcc))\n",
    "    # Save the best model (the one that has the lowest loss for validation)\n",
    "    if (bestValLoss == -1) or (bestValLoss > avgTestLoss):\n",
    "        bestValLoss = avgTestLoss\n",
    "        print(\"best loss => saving\")\n",
    "        torch.save(unet.state_dict(), 'best_model_fl_2_loss.pth')\n",
    "    if (bestValAcc < avgTestAcc):\n",
    "        bestValAcc = avgTestAcc\n",
    "        print(\"best acc => saving\")\n",
    "        torch.save(unet.state_dict(), 'best_model_acc_fl_2_loss.pth')\n",
    "    if ((e+1)%50 == 0):\n",
    "        epoch_name = 200 + e+1\n",
    "        print(\"SAVING\")\n",
    "        torch.save(unet.state_dict(), f\"unet_model_epoch_{epoch_name}_fl_2_loss.pth\")\n",
    "        \n",
    "# display the total time needed to perform the training\n",
    "endTime = time.time()\n",
    "print(\"[INFO] total time taken to train the model: {:.2f}s\".format(endTime - startTime))"
   ]
  },
  {
   "cell_type": "code",
   "execution_count": null,
   "id": "9867c3d1",
   "metadata": {},
   "outputs": [],
   "source": [
    "date = datetime.datetime.now()\n",
    "date_ymd = date.date()\n",
    "date_hm = f\"{date.hour}:{date.minute}\""
   ]
  },
  {
   "cell_type": "code",
   "execution_count": null,
   "id": "a8e72473",
   "metadata": {
    "scrolled": true
   },
   "outputs": [],
   "source": [
    "plt.style.use(\"ggplot\")\n",
    "plt.figure()\n",
    "plt.plot(H[\"train_loss\"], label=\"train_loss\")\n",
    "plt.plot(H[\"test_loss\"], label=\"val_loss\")\n",
    "plt.title(\"Training Loss on Dataset\")\n",
    "plt.xlabel(\"Epoch #\")\n",
    "plt.ylabel(\"Loss\")\n",
    "plt.legend(loc=\"lower left\")\n",
    "plt.savefig(f\"train_val_loss_{date_ymd}_{date_hm}_fl_2_loss.png\", bbox_inches='tight')"
   ]
  },
  {
   "cell_type": "code",
   "execution_count": null,
   "id": "a60a71db",
   "metadata": {},
   "outputs": [],
   "source": [
    "plt.style.use(\"ggplot\")\n",
    "plt.figure()\n",
    "plt.plot(H[\"train_acc\"], label=\"train_acc\")\n",
    "plt.plot(H[\"test_acc\"], label=\"val_acc\")\n",
    "plt.title(\"Training Accuracy on Dataset\")\n",
    "plt.xlabel(\"Epoch #\")\n",
    "plt.ylabel(\"Accuracy\")\n",
    "plt.legend(loc=\"lower left\")\n",
    "plt.savefig(f\"train_val_acc_{date_ymd}_{date_hm}_fl_2_loss.png\", bbox_inches='tight')"
   ]
  },
  {
   "cell_type": "code",
   "execution_count": null,
   "id": "cef9d296",
   "metadata": {},
   "outputs": [],
   "source": [
    "torch.save(unet.state_dict(), f\"unet_model_{date_ymd}_{date_hm}_fl_2_loss.pth\")\n",
    "torch.save(unet, f\"unet_model_{date_ymd}_{date_hm}_fl_2_loss.pt\")\n",
    "torch.save(H, f\"unet_model_{date_ymd}_{date_hm}_fl_2_loss_dict.pth\")"
   ]
  },
  {
   "cell_type": "code",
   "execution_count": null,
   "id": "2ddf9bad",
   "metadata": {},
   "outputs": [],
   "source": []
  },
  {
   "cell_type": "code",
   "execution_count": null,
   "id": "3f519a38",
   "metadata": {},
   "outputs": [],
   "source": []
  },
  {
   "cell_type": "code",
   "execution_count": null,
   "id": "0d96973f",
   "metadata": {},
   "outputs": [],
   "source": []
  },
  {
   "cell_type": "code",
   "execution_count": null,
   "id": "62524d29",
   "metadata": {},
   "outputs": [],
   "source": []
  }
 ],
 "metadata": {
  "kernelspec": {
   "display_name": "Python 3 (ipykernel)",
   "language": "python",
   "name": "python3"
  },
  "language_info": {
   "codemirror_mode": {
    "name": "ipython",
    "version": 3
   },
   "file_extension": ".py",
   "mimetype": "text/x-python",
   "name": "python",
   "nbconvert_exporter": "python",
   "pygments_lexer": "ipython3",
   "version": "3.7.7"
  }
 },
 "nbformat": 4,
 "nbformat_minor": 5
}
